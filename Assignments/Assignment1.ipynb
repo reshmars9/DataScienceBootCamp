{
  "nbformat": 4,
  "nbformat_minor": 0,
  "metadata": {
    "colab": {
      "provenance": []
    },
    "kernelspec": {
      "name": "python3",
      "display_name": "Python 3"
    },
    "language_info": {
      "name": "python"
    }
  },
  "cells": [
    {
      "cell_type": "code",
      "source": [
        "#1.A company decided to give bonus of 5% to employee if his/her year of service is more than 5 years.\n",
        "# Ask user for their salary and year of service and print the net bonus amount.\n",
        "\n",
        "s = float (input(\"What is your salary? \"))\n",
        "y = float (input(\"Year of service: \"))\n",
        "b = s * 0.05\n",
        "\n",
        "if y > 5:\n",
        " print (\"Bonus: \", b)\n",
        "\n",
        "else:\n",
        "  print (\"No Bonus\")"
      ],
      "metadata": {
        "colab": {
          "base_uri": "https://localhost:8080/"
        },
        "id": "c0y61DalIrHP",
        "outputId": "3a4ef91f-368c-4fab-9731-98ba32c95e86"
      },
      "execution_count": null,
      "outputs": [
        {
          "output_type": "stream",
          "name": "stdout",
          "text": [
            "What is your salary? 2000\n",
            "Year of service: 6\n",
            "Bonus:  100.0\n"
          ]
        }
      ]
    },
    {
      "cell_type": "code",
      "source": [
        "#2.Take values of length and breadth of a rectangle from user and check if it is square or not.\n",
        "\n",
        "l = (input (\"Enter length: \"))\n",
        "b = (input (\"Enter breadth: \"))\n",
        "\n",
        "if l==b:\n",
        "  print (\"It is a square.\")\n",
        "else:\n",
        "  print (\"It is not a square.\")"
      ],
      "metadata": {
        "colab": {
          "base_uri": "https://localhost:8080/"
        },
        "id": "SbBoszRSI4QA",
        "outputId": "a3e8925e-1252-4cca-ddb1-f164f8776636"
      },
      "execution_count": null,
      "outputs": [
        {
          "output_type": "stream",
          "name": "stdout",
          "text": [
            "Enter length: 5\n",
            "Enter breadth: 5.5\n",
            "It is not a square.\n"
          ]
        }
      ]
    },
    {
      "cell_type": "code",
      "source": [
        "# 3.Take two int values from user and print greatest among them.\n",
        "\n",
        "a = int (input (\"Give value of A: \"))\n",
        "b = int (input (\"Give value of B: \"))\n",
        "\n",
        "if a > b:\n",
        "  print (\"A is greater than B.\")\n",
        "elif b > a:\n",
        "  print (\"B is greater than A.\")\n",
        "else:\n",
        "  print (\"Both are equal.\")"
      ],
      "metadata": {
        "colab": {
          "base_uri": "https://localhost:8080/"
        },
        "id": "wBA1N2twI-SA",
        "outputId": "5af01634-3ace-4608-9592-2add607a54ac"
      },
      "execution_count": null,
      "outputs": [
        {
          "output_type": "stream",
          "name": "stdout",
          "text": [
            "Give value of A: 25\n",
            "Give value of B: 26\n",
            "B is greater than A.\n"
          ]
        }
      ]
    },
    {
      "cell_type": "code",
      "source": [
        "# 4.A shop will give discount of 10% if the cost of purchased quantity is more than 1000.\n",
        "# Ask user for quantity\n",
        "# Suppose, one unit will cost 100.\n",
        "# Judge and print total cost for user.\n",
        "\n",
        "q = int (input (\"Enter quantity \"))\n",
        "cost = q*100\n",
        "disc = 0.10 * cost\n",
        "\n",
        "if cost > 1000:\n",
        "  print (\"Total cost is \", (cost - disc))\n",
        "else:\n",
        "  print (\"Total cost is\", cost)"
      ],
      "metadata": {
        "colab": {
          "base_uri": "https://localhost:8080/"
        },
        "id": "jGM1WUVzJD_D",
        "outputId": "da218239-fb62-4696-fbbd-4d0500f5cfd1"
      },
      "execution_count": null,
      "outputs": [
        {
          "output_type": "stream",
          "name": "stdout",
          "text": [
            "Enter quantity 11\n",
            "Total cost is  990.0\n"
          ]
        }
      ]
    },
    {
      "cell_type": "code",
      "source": [
        "# 5.A school has following rules for grading system:\n",
        "# a. Below 25 - F\n",
        "# b. 25 to 45 - E\n",
        "# c. 45 to 50 - D\n",
        "# d. 50 to 60 - C\n",
        "# e. 60 to 80 - B\n",
        "# f. Above 80 - A\n",
        "# Ask user to enter marks and print the corresponding grade.\n",
        "\n",
        "marks = float (input (\"Enter marks: \"))\n",
        "\n",
        "if marks<25:\n",
        "  print (\"F\")\n",
        "elif marks >= 25 and marks < 45:\n",
        "  print (\"E\")\n",
        "elif marks >= 45 and marks < 50:\n",
        "  print (\"D\")\n",
        "elif marks >= 50 and marks < 60:\n",
        "  print (\"C\")\n",
        "elif marks >= 60 and marks < 80:\n",
        "  print (\"B\")\n",
        "else:\n",
        "  print (\"A\")"
      ],
      "metadata": {
        "colab": {
          "base_uri": "https://localhost:8080/"
        },
        "id": "ExE4IKzjJi_o",
        "outputId": "ac2ee283-7f67-4df3-dd7c-2c9d64779b41"
      },
      "execution_count": null,
      "outputs": [
        {
          "output_type": "stream",
          "name": "stdout",
          "text": [
            "Enter marks: 50\n",
            "C\n"
          ]
        }
      ]
    },
    {
      "cell_type": "code",
      "source": [
        "# 6.Take input of age of 3 people by user and determine oldest and youngest among them.\n",
        "\n",
        "a1 = float (input (\"1st person age: \"))\n",
        "a2 = float (input (\"2nd person age: \"))\n",
        "a3 = float (input (\"3rd person age: \"))\n",
        "\n",
        "if (a1 >= a2) and (a1 >= a3):\n",
        "  print (\"1st person is the oldest having age of \", a1, \"years old.\")\n",
        "  if (a2 < a3):\n",
        "    print (\"2nd person is the youngest having age of \", a2, \"years old.\" )\n",
        "  else:\n",
        "    print (\"3rd person is the youngest having age of \", a3, \"years old.\")\n",
        "elif (a2 >= a3) and (a2 >= a1):\n",
        "  print (\"2nd person is the oldest having age of \", a2, \"years old.\" )\n",
        "  if (a1 < a3):\n",
        "    print (\"1st person is the youngest having age of \", a1, \"years old.\")\n",
        "  else:\n",
        "    print (\"3rd person is the youngest having age of \", a3, \"years old.\")\n",
        "elif (a3 >= a1) and (a3 >= a2):\n",
        "  print (\"3rd person is the oldest having age of \", a3, \"years old.\")\n",
        "  if (a1 < a2):\n",
        "    print (\"1st person is the youngest having age of \", a1, \"years old.\")\n",
        "  else:\n",
        "    print (\"2nd person is the youngest having age of \", a2, \"years old.\")\n",
        "else:\n",
        "  print (\"All have same age.\")"
      ],
      "metadata": {
        "id": "Syzjm6lsJiyZ",
        "colab": {
          "base_uri": "https://localhost:8080/"
        },
        "outputId": "85149ec9-bce2-4f17-f9b8-6c19ba379055"
      },
      "execution_count": null,
      "outputs": [
        {
          "output_type": "stream",
          "name": "stdout",
          "text": [
            "1st person age: 54\n",
            "2nd person age: 54\n",
            "3rd person age: 65\n",
            "3rd person is the oldest having age of  65.0 years old.\n",
            "2nd person is the youngest having age of  54.0 years old.\n"
          ]
        }
      ]
    },
    {
      "cell_type": "code",
      "execution_count": null,
      "metadata": {
        "colab": {
          "base_uri": "https://localhost:8080/"
        },
        "id": "aehB2xCiC1u-",
        "outputId": "1eece857-1190-4143-b7b8-277d4bf56729"
      },
      "outputs": [
        {
          "output_type": "stream",
          "name": "stdout",
          "text": [
            "Input:0\n",
            "0.0\n"
          ]
        }
      ],
      "source": [
        "# 7.Write a program to print absolute value of a number entered by user. E.g.-\n",
        "# INPUT: 1        OUTPUT: 1\n",
        "# INPUT: -1        OUTPUT: 1\n",
        "\n",
        "n1 = float(input(\"Input:\"))\n",
        "n2 = n1*-1\n",
        "if n1 < 0:\n",
        " print(\"Absolute value is\", n2)\n",
        "else:\n",
        " print(n1)"
      ]
    },
    {
      "cell_type": "code",
      "source": [
        "# 8.A student will not be allowed to sit in exam if his/her attendence is less than 75%.\n",
        "# Take following input from user\n",
        "# Number of classes held\n",
        "# Number of classes attended.\n",
        "# And print percentage of class attended\n",
        "# Is student is allowed to sit in exam or not.\n",
        "\n",
        "a=int(input(\"Number of classes held:\"))\n",
        "b=int(input(\"Number of classes attended:\"))\n",
        "c=(b/a)*100\n",
        "print (\"Attendance is \",round(c,1),\"%\")\n",
        "if c>=75:\n",
        "  print (\"Student is allowed to be in exam.\")\n",
        "else:\n",
        "  print (\"Not allowed in exam.\")\n"
      ],
      "metadata": {
        "colab": {
          "base_uri": "https://localhost:8080/"
        },
        "id": "dhdfvFLnDAaA",
        "outputId": "593b6c03-1fe6-42ea-83b3-5b86a04ed8eb"
      },
      "execution_count": null,
      "outputs": [
        {
          "output_type": "stream",
          "name": "stdout",
          "text": [
            "Number of classes held:100\n",
            "Number of classes attended:20\n",
            "Attendance is  20.0 %\n",
            "Not allowed in exam.\n"
          ]
        }
      ]
    },
    {
      "cell_type": "code",
      "source": [
        "# 9.Modify the above question to allow student to sit if he/she has medical cause. Ask user if he/she has medical cause or not ( 'Y' or 'N' ) and print accordingly.\n",
        "\n",
        "a=int(input(\"Number of classes held:\"))\n",
        "b=int(input(\"Number of classes attended:\"))\n",
        "c=(b/a)*100\n",
        "print (\"Attendance is \",round(c,1),\"%\")\n",
        "\n",
        "\n",
        "if c>=75:\n",
        "  print (\"Student is allowed to be in exam.\")\n",
        "else:\n",
        "  m=input(\"Medical condition? \" ).lower()\n",
        "  if m== \"y\":\n",
        "    print (\"You are allowed due to medical condition.\")\n",
        "  else:\n",
        "    print (\"Sorry, you are not allowed to be in exam.\")\n"
      ],
      "metadata": {
        "colab": {
          "base_uri": "https://localhost:8080/"
        },
        "id": "cxV726xnDaTO",
        "outputId": "325c5922-2bb8-4770-a06b-34e6f295f4f2"
      },
      "execution_count": 29,
      "outputs": [
        {
          "output_type": "stream",
          "name": "stdout",
          "text": [
            "Number of classes held:100\n",
            "Number of classes attended:20\n",
            "Attendance is  20.0 %\n",
            "Medical condition? N\n",
            "Sorry, you are not allowed to be in exam.\n"
          ]
        }
      ]
    }
  ]
}