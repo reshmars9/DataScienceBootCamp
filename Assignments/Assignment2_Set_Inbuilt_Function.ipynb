{
  "nbformat": 4,
  "nbformat_minor": 0,
  "metadata": {
    "colab": {
      "provenance": []
    },
    "kernelspec": {
      "name": "python3",
      "display_name": "Python 3"
    },
    "language_info": {
      "name": "python"
    }
  },
  "cells": [
    {
      "cell_type": "code",
      "source": [
        "set1 =  {'a','b','c','D','E','F',1,2,3,'!','@','#'}\n",
        "dir(set1)"
      ],
      "metadata": {
        "colab": {
          "base_uri": "https://localhost:8080/"
        },
        "id": "76o-peXaSxfQ",
        "outputId": "53d8edc8-a7c4-4cba-f734-3b41995e1728"
      },
      "execution_count": null,
      "outputs": [
        {
          "output_type": "execute_result",
          "data": {
            "text/plain": [
              "['__and__',\n",
              " '__class__',\n",
              " '__class_getitem__',\n",
              " '__contains__',\n",
              " '__delattr__',\n",
              " '__dir__',\n",
              " '__doc__',\n",
              " '__eq__',\n",
              " '__format__',\n",
              " '__ge__',\n",
              " '__getattribute__',\n",
              " '__gt__',\n",
              " '__hash__',\n",
              " '__iand__',\n",
              " '__init__',\n",
              " '__init_subclass__',\n",
              " '__ior__',\n",
              " '__isub__',\n",
              " '__iter__',\n",
              " '__ixor__',\n",
              " '__le__',\n",
              " '__len__',\n",
              " '__lt__',\n",
              " '__ne__',\n",
              " '__new__',\n",
              " '__or__',\n",
              " '__rand__',\n",
              " '__reduce__',\n",
              " '__reduce_ex__',\n",
              " '__repr__',\n",
              " '__ror__',\n",
              " '__rsub__',\n",
              " '__rxor__',\n",
              " '__setattr__',\n",
              " '__sizeof__',\n",
              " '__str__',\n",
              " '__sub__',\n",
              " '__subclasshook__',\n",
              " '__xor__',\n",
              " 'add',\n",
              " 'clear',\n",
              " 'copy',\n",
              " 'difference',\n",
              " 'difference_update',\n",
              " 'discard',\n",
              " 'intersection',\n",
              " 'intersection_update',\n",
              " 'isdisjoint',\n",
              " 'issubset',\n",
              " 'issuperset',\n",
              " 'pop',\n",
              " 'remove',\n",
              " 'symmetric_difference',\n",
              " 'symmetric_difference_update',\n",
              " 'union',\n",
              " 'update']"
            ]
          },
          "metadata": {},
          "execution_count": 4
        }
      ]
    },
    {
      "cell_type": "code",
      "source": [
        "# add: add element to the set\n",
        "\n",
        "set1 =  {'a','b','c','D','E','F',1,2,3,'!','@','#'}\n",
        "set1.add('Hello')\n",
        "print(set1)\n"
      ],
      "metadata": {
        "colab": {
          "base_uri": "https://localhost:8080/"
        },
        "id": "hqbbGoZzTKY1",
        "outputId": "cdccb388-ce2b-426e-cfab-3ff4f0797090"
      },
      "execution_count": null,
      "outputs": [
        {
          "output_type": "stream",
          "name": "stdout",
          "text": [
            "{1, 'c', 3, 2, 'D', 'Hello', 'E', 'a', 'b', 'F', '@', '#', '!'}\n"
          ]
        }
      ]
    },
    {
      "cell_type": "code",
      "source": [
        "# clear: removes elements from the set\n",
        "\n",
        "set1 =  {'a','b','c','D','E','F',1,2,3,'!','@','#'}\n",
        "set1.clear()\n",
        "print(\"After clearing the set: \", set1)"
      ],
      "metadata": {
        "colab": {
          "base_uri": "https://localhost:8080/"
        },
        "id": "t4ZOPFrmTRGm",
        "outputId": "bc208c7e-784a-4857-e25f-c3d8b6285344"
      },
      "execution_count": null,
      "outputs": [
        {
          "output_type": "stream",
          "name": "stdout",
          "text": [
            "After clearing the set:  set()\n"
          ]
        }
      ]
    },
    {
      "cell_type": "code",
      "source": [
        "#  copy: copies the original set\n",
        "\n",
        "set1 =  {'a','b','c','D','E','F',1,2,3,'!','@','#'}\n",
        "set2 = set1.copy()\n",
        "print(\"Before copy: \", set1)\n",
        "print(\"After copy: \", set2)"
      ],
      "metadata": {
        "colab": {
          "base_uri": "https://localhost:8080/"
        },
        "id": "D3W04cIAUc9T",
        "outputId": "af200098-b375-4630-d0e1-e79bd9d876f8"
      },
      "execution_count": null,
      "outputs": [
        {
          "output_type": "stream",
          "name": "stdout",
          "text": [
            "Before copy:  {1, 'c', 3, 2, 'D', 'E', 'a', 'b', 'F', '@', '#', '!'}\n",
            "After copy:  {1, 'c', 3, 2, 'D', 'E', 'a', 'b', 'F', '@', '#', '!'}\n"
          ]
        }
      ]
    },
    {
      "cell_type": "code",
      "source": [
        "#  difference: skip the repetitive elements from given no. of sets and executes the difference value\n",
        "\n",
        "color = {\"red\", \"Blue\", \"white\", \"black\", \"pink\", \"GREEN\"}\n",
        "loved_color = {\"RED\", \"white\", \"black\", \"beige\"}\n",
        "print(\"Colors that I don't like: \", color.difference(loved_color))"
      ],
      "metadata": {
        "colab": {
          "base_uri": "https://localhost:8080/"
        },
        "id": "YWAJetjMUfQL",
        "outputId": "f91f5d12-7722-4bba-dd98-b73f5b470b45"
      },
      "execution_count": null,
      "outputs": [
        {
          "output_type": "stream",
          "name": "stdout",
          "text": [
            "Colors that I don't like:  {'pink', 'GREEN', 'Blue', 'red'}\n"
          ]
        }
      ]
    },
    {
      "cell_type": "code",
      "source": [
        "# difference_update:  updates the set\n",
        "\n",
        "color = {\"red\", \"Blue\", \"white\", \"black\", \"pink\"}\n",
        "loved_color = {\"white\", \"black\", \"beige\",\"green\"}\n",
        "color.difference_update(loved_color)\n",
        "\n",
        "print('I have colors: ',color)\n",
        "print('I love colors: ',loved_color)\n",
        "\n",
        "\n"
      ],
      "metadata": {
        "colab": {
          "base_uri": "https://localhost:8080/"
        },
        "id": "mgAgDDsCUiHK",
        "outputId": "d7340e22-d077-4f74-f73b-8c06ae68d29e"
      },
      "execution_count": null,
      "outputs": [
        {
          "output_type": "stream",
          "name": "stdout",
          "text": [
            "I have colors:  {'pink', 'Blue', 'red'}\n",
            "I love colors:  {'green', 'black', 'beige', 'white'}\n"
          ]
        }
      ]
    },
    {
      "cell_type": "code",
      "source": [
        "# discard: removes a specific element from the set\n",
        "\n",
        "set1 =  {'a','b','c','D','E','F',1,2,3,'!','@','#'}\n",
        "set1.discard('!')\n",
        "print(\"New set values after discard: \", set1)\n",
        "\n"
      ],
      "metadata": {
        "colab": {
          "base_uri": "https://localhost:8080/"
        },
        "id": "4G98TzIDUocN",
        "outputId": "0d1d366e-41da-4152-f595-d568eb9df2d4"
      },
      "execution_count": null,
      "outputs": [
        {
          "output_type": "stream",
          "name": "stdout",
          "text": [
            "New set values after discard:  {1, 'c', 3, 2, 'D', 'E', 'a', 'b', 'F', '@', '#'}\n"
          ]
        }
      ]
    },
    {
      "cell_type": "code",
      "source": [
        "#  intersection: returns a new set with the elements that are common in the given sets.\n",
        "\n",
        "set1={'a','b','c','D','E','F',1,2,3,'!','@','#'}\n",
        "set2={'A','e','c',3,9,'!'}\n",
        "\n",
        "print(\"Common elements in the set: \", set1.intersection(set2))\n",
        "print(\"Set value after copy: \",set1.intersection())"
      ],
      "metadata": {
        "colab": {
          "base_uri": "https://localhost:8080/"
        },
        "id": "S7iCtYd_Uqxz",
        "outputId": "492a311b-1c2d-47bf-868e-6b9c2f80957e"
      },
      "execution_count": null,
      "outputs": [
        {
          "output_type": "stream",
          "name": "stdout",
          "text": [
            "Common elements in the set:  {'c', 3, '!'}\n",
            "Set value after copy:  {1, 'c', 3, 2, 'D', 'E', 'a', 'b', 'F', '@', '#', '!'}\n"
          ]
        }
      ]
    },
    {
      "cell_type": "code",
      "source": [
        "#  intersection_update: updates the set with common value\n",
        "color = {\"red\", \"Blue\", \"white\", \"black\", \"pink\"}\n",
        "loved_color = {\"white\", \"black\", \"beige\",\"green\"}\n",
        "color.intersection_update(loved_color)\n",
        "\n",
        "print(\"Set is updated with common values: \", color)\n"
      ],
      "metadata": {
        "colab": {
          "base_uri": "https://localhost:8080/"
        },
        "id": "ZEhRbp7XUqi9",
        "outputId": "f584cdea-c522-47e3-fb1e-b3cfcfdfc6a9"
      },
      "execution_count": null,
      "outputs": [
        {
          "output_type": "stream",
          "name": "stdout",
          "text": [
            "Set is updated with common values:  {'black', 'white'}\n"
          ]
        }
      ]
    },
    {
      "cell_type": "code",
      "source": [
        " #isdisjoint: returns true if the given sets have no common elements.\n",
        "\n",
        "set1={'a','b','c','D','E','F',1,2,3,'!','@','#'}\n",
        "set2={'A','e','c',9,1,'a'}\n",
        "set3={0,'X'}\n",
        "\n",
        "print(set1.isdisjoint(set2))\n",
        "print(set1.isdisjoint(set3))"
      ],
      "metadata": {
        "colab": {
          "base_uri": "https://localhost:8080/"
        },
        "id": "YBjn5m2EUu2S",
        "outputId": "af619dfe-0140-4d4b-91bd-3e5e34e1d89a"
      },
      "execution_count": null,
      "outputs": [
        {
          "output_type": "stream",
          "name": "stdout",
          "text": [
            "False\n",
            "True\n"
          ]
        }
      ]
    },
    {
      "cell_type": "code",
      "source": [
        "#  issubset: returns true if the set (on which the issubset() is called) contains every element of the other set passed as an argument.\n",
        "\n",
        "set1={'a','b','c','D','E','F',0,1,2,3,'!','@','#','X'}\n",
        "set2={'A','e','c',9,1,'a'}\n",
        "set3={0,'X','@'}\n",
        "\n",
        "print(set2.issubset(set1))\n",
        "print(set3.issubset(set1))"
      ],
      "metadata": {
        "colab": {
          "base_uri": "https://localhost:8080/"
        },
        "id": "zD8ObRd9Uxq1",
        "outputId": "a6e03101-91bb-4e5f-d473-9b5ed0bd1472"
      },
      "execution_count": null,
      "outputs": [
        {
          "output_type": "stream",
          "name": "stdout",
          "text": [
            "False\n",
            "True\n"
          ]
        }
      ]
    },
    {
      "cell_type": "code",
      "source": [
        "#  issuperset: returns True if all items in the specified set exists in the original set\n",
        "\n",
        "set1={'a','b','c','D','E','F',0,1,2,3,'!','@','#','X'}\n",
        "set2={'A','e','c',9,1,'a'}\n",
        "set3={0,'X','@'}\n",
        "\n",
        "print(set1.issuperset(set2))\n",
        "print(set1.issuperset(set3))"
      ],
      "metadata": {
        "colab": {
          "base_uri": "https://localhost:8080/"
        },
        "id": "75XmWHRNU07p",
        "outputId": "ad41500e-69d7-410e-d30a-9e5336c96fed"
      },
      "execution_count": null,
      "outputs": [
        {
          "output_type": "stream",
          "name": "stdout",
          "text": [
            "False\n",
            "True\n"
          ]
        }
      ]
    },
    {
      "cell_type": "code",
      "source": [
        "#  pop: removes a random item from the set\n",
        "\n",
        "set1={'a','b','c','D','E','F',0,1,2,3,'!','@','#','X'}\n",
        "\n",
        "print(\"Updated set after pop: \",set1)\n"
      ],
      "metadata": {
        "colab": {
          "base_uri": "https://localhost:8080/"
        },
        "id": "HTjor-UqU0qh",
        "outputId": "96d5fc74-24ad-4dfe-ba58-e98989d8cbce"
      },
      "execution_count": null,
      "outputs": [
        {
          "output_type": "stream",
          "name": "stdout",
          "text": [
            "Updated set after pop:  {0, 1, 'c', 2, 3, 'D', 'E', 'a', 'b', 'F', 'X', '@', '#', '!'}\n"
          ]
        }
      ]
    },
    {
      "cell_type": "code",
      "source": [
        "#  remove: removes the specified element from the set\n",
        "\n",
        "set1={'a','b','c','D','E','F',0,1,2,3,'!','@','#','X'}\n",
        "set1.remove (2)\n",
        "\n",
        "print(\"After removal: \", set1)\n",
        "\n"
      ],
      "metadata": {
        "colab": {
          "base_uri": "https://localhost:8080/"
        },
        "id": "XPIms3gfU4g1",
        "outputId": "df6d63c6-8b1e-4613-f464-e61f87ec0233"
      },
      "execution_count": null,
      "outputs": [
        {
          "output_type": "stream",
          "name": "stdout",
          "text": [
            "After removal:  {0, 1, 'c', 3, 'D', 'E', 'a', 'b', 'F', 'X', '@', '#', '!'}\n"
          ]
        }
      ]
    },
    {
      "cell_type": "code",
      "source": [
        "# symmetric_difference: returns a new set with the distinct elements found in both the sets.\n",
        "\n",
        "color = {\"red\", \"Blue\", \"white\", \"black\", \"pink\"}\n",
        "loved_color = {\"white\", \"black\", \"beige\",\"green\"}\n",
        "\n",
        "print (\"Distinct color: \", color.symmetric_difference(loved_color))"
      ],
      "metadata": {
        "colab": {
          "base_uri": "https://localhost:8080/"
        },
        "id": "JkJ8LbDaU4aR",
        "outputId": "ee6072b9-d422-4fc5-ecfa-1b890f95a36c"
      },
      "execution_count": null,
      "outputs": [
        {
          "output_type": "stream",
          "name": "stdout",
          "text": [
            "Distinct color:  {'Blue', 'red', 'green', 'beige', 'pink'}\n"
          ]
        }
      ]
    },
    {
      "cell_type": "code",
      "source": [
        "#  symmetric_difference_update: updates the set on which the instersection_update() method called, with the elements that are common among the specified sets.\n",
        "\n",
        "color = {\"red\", \"Blue\", \"white\", \"black\", \"pink\"}\n",
        "loved_color = {\"white\", \"black\", \"beige\",\"green\"}\n",
        "color2 = {\"white\", \"black\"}\n",
        "color.intersection_update(loved_color,color2)\n",
        "\n",
        "print(\"Common values after symmetric difference update: \", color)"
      ],
      "metadata": {
        "colab": {
          "base_uri": "https://localhost:8080/"
        },
        "id": "NNlqV7vuU4Q3",
        "outputId": "982cbd85-5877-4ac8-f97f-e97dec709e6a"
      },
      "execution_count": null,
      "outputs": [
        {
          "output_type": "stream",
          "name": "stdout",
          "text": [
            "Common values after symmetric difference update:  {'black', 'white'}\n"
          ]
        }
      ]
    },
    {
      "cell_type": "code",
      "source": [
        "#  union: returns a new set with distinct elements from all the given sets\n",
        "\n",
        "color = {\"red\", \"Blue\", \"white\", \"black\", \"pink\"}\n",
        "loved_color = {\"white\", \"black\", \"beige\",\"green\"}\n",
        "color2 = {\"white\", \"black\"}\n",
        "\n",
        "c = color.union(loved_color, color2)\n",
        "\n",
        "print(\"The union set values are: \", c)"
      ],
      "metadata": {
        "colab": {
          "base_uri": "https://localhost:8080/"
        },
        "id": "z2moUJ7fU91s",
        "outputId": "5dab1017-be4d-46d0-9392-f790103d8f25"
      },
      "execution_count": null,
      "outputs": [
        {
          "output_type": "stream",
          "name": "stdout",
          "text": [
            "The union set values are:  {'Blue', 'red', 'green', 'black', 'beige', 'pink', 'white'}\n"
          ]
        }
      ]
    },
    {
      "cell_type": "code",
      "source": [
        "#  update: updates the set by adding distinct elements from the passed one or more iterables\n",
        "\n",
        "set1={'a','b','c','D','E','F',0,1,2,3,'!','@','#','X'}\n",
        "set2={'A','e','c',9,1,'a'}\n",
        "set3={'z',5}\n",
        "\n",
        "set1.update(set2, set3)\n",
        "\n",
        "print(\"Set values after update: \", set1)"
      ],
      "metadata": {
        "colab": {
          "base_uri": "https://localhost:8080/"
        },
        "id": "RpjiOi5bU_5I",
        "outputId": "196954bb-48f8-469e-8bb7-689afbc83e17"
      },
      "execution_count": null,
      "outputs": [
        {
          "output_type": "stream",
          "name": "stdout",
          "text": [
            "Set values after update:  {0, 1, 2, 3, 5, 'D', 'e', 'E', 9, 'a', 'b', 'z', '#', 'c', 'A', 'F', 'X', '@', '!'}\n"
          ]
        }
      ]
    }
  ]
}