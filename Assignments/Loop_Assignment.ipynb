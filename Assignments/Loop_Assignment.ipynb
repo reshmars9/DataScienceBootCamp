{
  "nbformat": 4,
  "nbformat_minor": 0,
  "metadata": {
    "colab": {
      "provenance": []
    },
    "kernelspec": {
      "name": "python3",
      "display_name": "Python 3"
    },
    "language_info": {
      "name": "python"
    }
  },
  "cells": [
    {
      "cell_type": "code",
      "execution_count": null,
      "metadata": {
        "id": "_HIYoql6zR5B",
        "colab": {
          "base_uri": "https://localhost:8080/"
        },
        "outputId": "7477eb71-38ee-4a36-c873-d62f65dbd35b"
      },
      "outputs": [
        {
          "output_type": "stream",
          "name": "stdout",
          "text": [
            "Input first number: 6\n",
            "Input second number: 9\n",
            "After swap, first number is  9\n",
            "After swap, second number is  6\n"
          ]
        }
      ],
      "source": [
        "# 1) Swap two numbers using 3rd variable\n",
        "\n",
        "n1 = input (\"Input first number: \")\n",
        "n2 = input (\"Input second number: \")\n",
        "#temp stores values temporarily\n",
        "temp = n1\n",
        "n1 = n2\n",
        "n2 = temp\n",
        "\n",
        "print (\"After swap, first number is \",n1)\n",
        "print (\"After swap, second number is \",n2)"
      ]
    },
    {
      "cell_type": "code",
      "source": [
        "# 2) Swap two numbers without using 3rd variable\n",
        "\n",
        "n1 = input (\"Input first number: \")\n",
        "n2 = input (\"Input second number: \")\n",
        "\n",
        "n1,n2 = n2,n1\n",
        "\n",
        "print (\"After swap, first number is \",n1)\n",
        "print (\"After swap, second number is \",n2)\n"
      ],
      "metadata": {
        "colab": {
          "base_uri": "https://localhost:8080/"
        },
        "id": "SWFbDEeb8crf",
        "outputId": "aeef629d-0c98-4e98-fe16-3e0d1360205c"
      },
      "execution_count": null,
      "outputs": [
        {
          "output_type": "stream",
          "name": "stdout",
          "text": [
            "Input first number: 1\n",
            "Input second number: 5\n",
            "After swap, first number is  5\n",
            "After swap, second number is  1\n"
          ]
        }
      ]
    },
    {
      "cell_type": "code",
      "source": [
        "# 3) Remove duplicate elements from a list without converting to tuple\n",
        "\n",
        "list = [1,2,2,3,6,8,8,8,10,21,22,9,9,9,9,9,9]\n",
        "temp = []\n",
        "\n",
        "for i in list:\n",
        "  if i not in temp:\n",
        "    temp.append(i)\n",
        "  else:\n",
        "    continue\n",
        "\n",
        "list = temp\n",
        "\n",
        "print (\"After removing duplicates: \", list)\n",
        "\n"
      ],
      "metadata": {
        "colab": {
          "base_uri": "https://localhost:8080/"
        },
        "id": "tXTeFSGFBw0B",
        "outputId": "2ef4fba4-7365-4017-c540-d75f541400aa"
      },
      "execution_count": null,
      "outputs": [
        {
          "output_type": "stream",
          "name": "stdout",
          "text": [
            "After removing duplicates:  [1, 2, 3, 6, 8, 10, 21, 22, 9]\n"
          ]
        }
      ]
    },
    {
      "cell_type": "code",
      "source": [
        "# 3) Write a program to find greatest common divisor (GCD) or highest common factor (HCF) of given two numbers\n",
        "\n",
        "a=int(input(\"First Number: \"))\n",
        "b=int(input(\"Second Number: \"))\n",
        "\n",
        "smallest_number=min(a,b)\n",
        "\n",
        "for k in range(smallest_number,-1,-1): #start,stop,step #starts with given min no.1, then stops at 0, -1 index\n",
        "  if a%k==0 and b%k==0:\n",
        "    print(\"The GCD is \", k)\n",
        "    break"
      ],
      "metadata": {
        "colab": {
          "base_uri": "https://localhost:8080/"
        },
        "id": "1i-1x3ECEJxn",
        "outputId": "7a542922-73e8-4f77-8d5c-4e956b96ef0c"
      },
      "execution_count": null,
      "outputs": [
        {
          "output_type": "stream",
          "name": "stdout",
          "text": [
            "First Number: 75\n",
            "Second Number: 4\n",
            "The GCD is  1\n"
          ]
        }
      ]
    },
    {
      "cell_type": "code",
      "source": [
        "# 4) Write a loop to print following series\n",
        " # 10, 20, 30,  …………………, 300\n",
        "\n",
        "for i in range(10, 301, 10):\n",
        "  print (i)"
      ],
      "metadata": {
        "colab": {
          "base_uri": "https://localhost:8080/"
        },
        "id": "3dcpN8AnF9Lc",
        "outputId": "b68286fa-39a5-4301-90dd-250795a9f6af"
      },
      "execution_count": null,
      "outputs": [
        {
          "output_type": "stream",
          "name": "stdout",
          "text": [
            "10\n",
            "20\n",
            "30\n",
            "40\n",
            "50\n",
            "60\n",
            "70\n",
            "80\n",
            "90\n",
            "100\n",
            "110\n",
            "120\n",
            "130\n",
            "140\n",
            "150\n",
            "160\n",
            "170\n",
            "180\n",
            "190\n",
            "200\n",
            "210\n",
            "220\n",
            "230\n",
            "240\n",
            "250\n",
            "260\n",
            "270\n",
            "280\n",
            "290\n",
            "300\n"
          ]
        }
      ]
    },
    {
      "cell_type": "code",
      "source": [
        "# 5) Write a loop to print following series\n",
        "# 105,98,91,………………………,7\n",
        "\n",
        "for i in range(105, 0, -7):\n",
        "  if i>=7:\n",
        "    print(i, end= \", \")\n",
        "  else:\n",
        "    print (i)"
      ],
      "metadata": {
        "colab": {
          "base_uri": "https://localhost:8080/"
        },
        "id": "ubneR99HGEuI",
        "outputId": "f4ad1c39-a90e-453a-d494-dc7e5eac8daf"
      },
      "execution_count": null,
      "outputs": [
        {
          "output_type": "stream",
          "name": "stdout",
          "text": [
            "105, 98, 91, 84, 77, 70, 63, 56, 49, 42, 35, 28, 21, 14, 7, "
          ]
        }
      ]
    },
    {
      "cell_type": "code",
      "source": [
        "# 6) Write a program to print number names of digits in a number like\n",
        "# SAMPLE INPUT 231 \t\tSAMPLE OUTPUT TWO THREE ONE\n",
        "\n",
        "n = input(\"Give a number: \")\n",
        "\n",
        "dict = {'0':'ZERO','1':'ONE','2':'TWO','3': 'THREE', '4': 'FOUR','5': 'FIVE', '6':'SIX','7':'SEVEN','8':'EIGHT','9':'NINE'}\n",
        "\n",
        "x = \" \"\n",
        "\n",
        "for i in n:\n",
        "  x+= dict[i] + \" \"\n",
        "print(x)\n",
        "\n"
      ],
      "metadata": {
        "colab": {
          "base_uri": "https://localhost:8080/"
        },
        "id": "5TNelaUmGJBB",
        "outputId": "992f3e2b-0652-430c-8e33-097ac7abb236"
      },
      "execution_count": null,
      "outputs": [
        {
          "output_type": "stream",
          "name": "stdout",
          "text": [
            "Give a number: 1036\n",
            " ONE ZERO THREE SIX \n"
          ]
        }
      ]
    },
    {
      "cell_type": "code",
      "source": [
        "# 7) Write a program to print Fibonacci series till n terms take n =50\n",
        "\n",
        "fib_list=[0,1]\n",
        "n_terms=int(input(\"Number of terms: \"))\n",
        "\n",
        "while len(fib_list)<n_terms:\n",
        "  next_term=fib_list[-1]+fib_list[-2]\n",
        "  fib_list.append(next_term)\n",
        "\n",
        "print(fib_list)"
      ],
      "metadata": {
        "colab": {
          "base_uri": "https://localhost:8080/"
        },
        "id": "MtihENXGGOVo",
        "outputId": "ea6066b4-3487-4e5e-e756-d791d64afc1f"
      },
      "execution_count": null,
      "outputs": [
        {
          "output_type": "stream",
          "name": "stdout",
          "text": [
            "Number of terms: 50\n",
            "[0, 1, 1, 2, 3, 5, 8, 13, 21, 34, 55, 89, 144, 233, 377, 610, 987, 1597, 2584, 4181, 6765, 10946, 17711, 28657, 46368, 75025, 121393, 196418, 317811, 514229, 832040, 1346269, 2178309, 3524578, 5702887, 9227465, 14930352, 24157817, 39088169, 63245986, 102334155, 165580141, 267914296, 433494437, 701408733, 1134903170, 1836311903, 2971215073, 4807526976, 7778742049]\n"
          ]
        }
      ]
    },
    {
      "cell_type": "code",
      "source": [
        "# 8) Write a program to print factorial of a number\n",
        "\n",
        "n = int(input(\"Enter a number \"))\n",
        "factor=1\n",
        "\n",
        "for k in range(1,n+1):\n",
        "  factor=factor*k\n",
        "\n",
        "print(factor)"
      ],
      "metadata": {
        "colab": {
          "base_uri": "https://localhost:8080/"
        },
        "id": "3kOQvFMoKeHs",
        "outputId": "3dfe8e3f-e69d-44fa-e6cb-284a67ea4cf5"
      },
      "execution_count": null,
      "outputs": [
        {
          "output_type": "stream",
          "name": "stdout",
          "text": [
            "Enter a number 5\n",
            "120\n"
          ]
        }
      ]
    },
    {
      "cell_type": "code",
      "source": [
        "# 9) Write a program to check if a number is Armstrong or not\n",
        "# Armstrong number is the sum of its own digits raised to the power number of digits that gives the number itself.\n",
        "\n",
        "n = int(input(\"Please enter n-digit number: \"))\n",
        "\n",
        "digit = len(str(n))\n",
        "\n",
        "sum = 0\n",
        "temp = n\n",
        "\n",
        "while temp > 0:\n",
        "  num = temp % 10\n",
        "  sum += num ** digit\n",
        "  temp = temp//10\n",
        "\n",
        "\n",
        "if n == sum:\n",
        "  print(n, \"is an Armstrong number.\")\n",
        "else:\n",
        "  print(n, \"is not an Armstrong number.\")\n"
      ],
      "metadata": {
        "colab": {
          "base_uri": "https://localhost:8080/"
        },
        "id": "NBM4flnKKjNK",
        "outputId": "8270220c-84cb-4389-df42-331bda74202b"
      },
      "execution_count": null,
      "outputs": [
        {
          "output_type": "stream",
          "name": "stdout",
          "text": [
            "Please enter n-digit number: 121212121\n",
            "121212121 is not an Armstrong number.\n"
          ]
        }
      ]
    },
    {
      "cell_type": "code",
      "source": [
        "# 10) Write a program to convert binary to decimal\n",
        "\n",
        "binary=input(\"Enter a binary number: \")\n",
        "\n",
        "decimal=int(binary, 2)\n",
        "\n",
        "print(\"The decimal of \", binary, \"is\", decimal,\".\")\n"
      ],
      "metadata": {
        "id": "g4r9iF4cSo-b",
        "colab": {
          "base_uri": "https://localhost:8080/"
        },
        "outputId": "359cb89f-c753-4f7c-a081-2a9623d80740"
      },
      "execution_count": null,
      "outputs": [
        {
          "output_type": "stream",
          "name": "stdout",
          "text": [
            "Enter a binary number: 1111\n",
            "The decimal of  1111 is 15 .\n"
          ]
        }
      ]
    },
    {
      "cell_type": "code",
      "source": [
        "# 11) Write a program to convert decimal to binary\n",
        "\n",
        "decimal=int(input(\"Enter a decimal number: \"))\n",
        "\n",
        "binary = \" \" #Initialization of empty string to store binary representation of decimal\n",
        "\n",
        "while decimal > 0:\n",
        "  remainder = decimal % 2\n",
        "  binary = str(remainder) + binary\n",
        "  decimal = decimal // 2\n",
        "\n",
        "print(\"The binary of \", decimal, \"is\", binary,\".\")"
      ],
      "metadata": {
        "id": "SBg9uwl_Uhqz",
        "colab": {
          "base_uri": "https://localhost:8080/"
        },
        "outputId": "2fccc4d3-0ba8-4491-908c-e1bdce856568"
      },
      "execution_count": null,
      "outputs": [
        {
          "output_type": "stream",
          "name": "stdout",
          "text": [
            "Enter a decimal number: 15\n",
            "The binary of  0 is 1111  .\n"
          ]
        }
      ]
    },
    {
      "cell_type": "code",
      "source": [
        "# 12) Write a program to check if number is palindrome on not (Without converting to string)\n",
        "\n",
        "num = int(input(\"Enter a number: \"))\n",
        "\n",
        "def pal(num):\n",
        "  rev_num = 0 # to store reversed number\n",
        "  n2 = num\n",
        "\n",
        "  while num > 0:\n",
        "    n3 = num % 10\n",
        "    num = num // 10\n",
        "    rev_num = (10 * rev_num) + n3\n",
        "\n",
        "  if rev_num == n2:\n",
        "    return True\n",
        "  else:\n",
        "    return False\n",
        "\n",
        "if pal(num):\n",
        "  print(num, \"is a palindrome.\")\n",
        "else:\n",
        "  print(num, \"is not a palindrome.\")"
      ],
      "metadata": {
        "id": "GMq1HvuvUkXC",
        "colab": {
          "base_uri": "https://localhost:8080/"
        },
        "outputId": "dd731f44-fd9f-4b52-e100-17113c47faae"
      },
      "execution_count": null,
      "outputs": [
        {
          "output_type": "stream",
          "name": "stdout",
          "text": [
            "Enter a number: 5545455\n",
            "5545455 is a palindrome.\n"
          ]
        }
      ]
    },
    {
      "cell_type": "code",
      "source": [
        "# 13) Write a program to print all numbers which are divisible by 13 but not by 3 between 100 and 500\n",
        "\n",
        "for n in range (100,501):\n",
        "  if n % 13 == 0 and n % 3 !=0:\n",
        "    print(n)"
      ],
      "metadata": {
        "id": "WmQMiBfyUqLO",
        "colab": {
          "base_uri": "https://localhost:8080/"
        },
        "outputId": "4d86abc4-b182-419f-9cb6-62b898932d2b"
      },
      "execution_count": null,
      "outputs": [
        {
          "output_type": "stream",
          "name": "stdout",
          "text": [
            "104\n",
            "130\n",
            "143\n",
            "169\n",
            "182\n",
            "208\n",
            "221\n",
            "247\n",
            "260\n",
            "286\n",
            "299\n",
            "325\n",
            "338\n",
            "364\n",
            "377\n",
            "403\n",
            "416\n",
            "442\n",
            "455\n",
            "481\n",
            "494\n"
          ]
        }
      ]
    },
    {
      "cell_type": "code",
      "source": [
        "# 14) Write a Python program to convert temperatures to and from Celsius and Fahrenheit.\n",
        "\n",
        "# Celsius = (Fahrenheit – 32) * 5/9\n",
        "# Fahrenheit = (Celsius * 9/5) + 32\n",
        "\n",
        "def c_to_f (celsius):\n",
        "  return (celsius * 9/5) + 32\n",
        "\n",
        "def f_to_c (fahrenheit):\n",
        "  return (fahrenheit - 32) * 5/9\n",
        "\n",
        "while True:\n",
        "  print(\"Choose an option:\")\n",
        "  print(\"1. Convert Celsius to Fahrenheit\")\n",
        "  print(\"2. Convert Fahrenheit to Celsius\")\n",
        "  print(\"3. Exit\")\n",
        "\n",
        "  temper = input(\"Enter your selection: 1) , 2) or 3) : \")\n",
        "\n",
        "  if temper == '1':\n",
        "    celsius = float(input(\"Enter temperature in Celsius: \"))\n",
        "    fahrenheit = c_to_f(celsius)\n",
        "    print(celsius,\"*C is converted to \",fahrenheit,\"*F.\")\n",
        "  elif temper == '2':\n",
        "    fahrenheit = float(input(\"Enter temperature in Fahrenheit: \"))\n",
        "    celsius = f_to_c(fahrenheit)\n",
        "    print(fahrenheit,\"*F is converted to \",celsius,\"*C.\")\n",
        "  elif temper == '3':\n",
        "    break\n",
        "  else:\n",
        "    print(\"Invalid option. Please select 1, 2, or 3.\")\n"
      ],
      "metadata": {
        "id": "HIoH1hXoU1XF",
        "colab": {
          "base_uri": "https://localhost:8080/"
        },
        "outputId": "ef2d3f66-19f1-4d94-d12e-bf41e0635dcd"
      },
      "execution_count": null,
      "outputs": [
        {
          "name": "stdout",
          "output_type": "stream",
          "text": [
            "Choose an option:\n",
            "1. Convert Celsius to Fahrenheit\n",
            "2. Convert Fahrenheit to Celsius\n",
            "3. Exit\n",
            "Enter your selection: 1) , 2) or 3) : 1\n",
            "Enter temperature in Celsius: 0\n",
            "0.0 *C is converted to  32.0 *F.\n",
            "Choose an option:\n",
            "1. Convert Celsius to Fahrenheit\n",
            "2. Convert Fahrenheit to Celsius\n",
            "3. Exit\n",
            "Enter your selection: 1) , 2) or 3) : 2\n",
            "Enter temperature in Fahrenheit: 32\n",
            "32.0 *F is converted to  0.0 *C.\n",
            "Choose an option:\n",
            "1. Convert Celsius to Fahrenheit\n",
            "2. Convert Fahrenheit to Celsius\n",
            "3. Exit\n",
            "Enter your selection: 1) , 2) or 3) : 3\n"
          ]
        }
      ]
    },
    {
      "cell_type": "code",
      "source": [
        "# 15) Write a Python program that takes two digits m (row) and n (column) as input and generates a two-dimensional array. The element value in the i-th row and j-th column of the array should be i*j. else it will be 0\n",
        "\n",
        "row = int(input(\"Enter no. of rows: \"))\n",
        "column = int(input(\"Enter no. of columns: \"))\n",
        "\n",
        "for i in range(row):\n",
        "  temp = []\n",
        "  for j in range(column):\n",
        "    temp.append(i*j)\n",
        "  print(temp)\n",
        "\n"
      ],
      "metadata": {
        "id": "RwTES6jrGUhA",
        "colab": {
          "base_uri": "https://localhost:8080/"
        },
        "outputId": "8f430761-b9d2-4255-bd16-530f3abf0daf"
      },
      "execution_count": null,
      "outputs": [
        {
          "output_type": "stream",
          "name": "stdout",
          "text": [
            "Enter no. of rows: 3\n",
            "Enter no. of columns: 4\n",
            "[0, 0, 0, 0]\n",
            "[0, 1, 2, 3]\n",
            "[0, 2, 4, 6]\n"
          ]
        }
      ]
    },
    {
      "cell_type": "code",
      "source": [
        "# 16. Write a Python program that accepts a string and calculates the number of digits and letters.\n",
        "#Sample Data: Python 3.2\n",
        "#Expected Output:\n",
        "##Letters 6\n",
        "#Digits 2\n",
        "\n",
        "str1=input(\"Enter any string values: \")\n",
        "a=0\n",
        "b=0\n",
        "\n",
        "for i in str1:\n",
        "  if(i.isdigit()):\n",
        "    a=a+1\n",
        "  else:\n",
        "    b=b+1\n",
        "\n",
        "print(\"It has \",a, \"number of digits.\")\n",
        "print(\"It has \",b, \"number of letters.\")"
      ],
      "metadata": {
        "id": "kPELxrMGU58b",
        "colab": {
          "base_uri": "https://localhost:8080/"
        },
        "outputId": "2cc5e589-5a79-4426-b55d-37acefbfe905"
      },
      "execution_count": null,
      "outputs": [
        {
          "output_type": "stream",
          "name": "stdout",
          "text": [
            "Enter any string values: Python 3.2\n",
            "It has  2 number of digits.\n",
            "It has  8 number of letters.\n"
          ]
        }
      ]
    },
    {
      "cell_type": "code",
      "source": [
        "# 17) Print all possible combination for a string or a word\n",
        "\n",
        "# Sample input “ABC”\n",
        "# Sample output\n",
        "# BAC\n",
        "# CAB\n",
        "# CBA\n",
        "# ACB\n",
        "# BCA\n",
        "\n",
        "str1 = input(\"Enter string or a word: \")\n",
        "\n",
        "def combine(str1, current=\"\"):\n",
        "    if len(str1) == 0:\n",
        "        print(current)\n",
        "    else:\n",
        "        for i in range(len(str1)):\n",
        "            remaining_chars = str1[:i] + str1[i + 1:]\n",
        "            combine(remaining_chars, current + str1[i])\n",
        "\n",
        "combine(str1)"
      ],
      "metadata": {
        "id": "Le77ak-qVTVk",
        "colab": {
          "base_uri": "https://localhost:8080/"
        },
        "outputId": "f8c69f65-4172-4bec-b4df-e6b2aea17895"
      },
      "execution_count": 14,
      "outputs": [
        {
          "output_type": "stream",
          "name": "stdout",
          "text": [
            "Enter string or a word: abc\n",
            "abc\n",
            "acb\n",
            "bac\n",
            "bca\n",
            "cab\n",
            "cba\n"
          ]
        }
      ]
    },
    {
      "cell_type": "code",
      "source": [
        "# 18) Write a Python program to check if a triangle is equilateral, isosceles or scalene. Take 3 inputs for each side\n",
        "\n",
        "\n",
        "# Note :\n",
        "# An equilateral triangle is a triangle in which all three sides are equal.\n",
        "# A scalene triangle is a triangle that has three unequal sides.\n",
        "# An isosceles triangle is a triangle with (at least) two equal sides.\n",
        "\n",
        "x = float(input(\"Enter the length of side x: \"))\n",
        "y = float(input(\"Enter the length of side y: \"))\n",
        "z = float(input(\"Enter the length of side z: \"))\n",
        "\n",
        "\n",
        "if x == y == z:\n",
        "    print(\"Equilateral triangle\")\n",
        "elif x == y or y == z or x == z:\n",
        "    print(\"Isosceles triangle\")\n",
        "else:\n",
        "    print(\"Scalene triangle\")"
      ],
      "metadata": {
        "id": "YTnBgB2nVPUr",
        "colab": {
          "base_uri": "https://localhost:8080/"
        },
        "outputId": "7d8ad025-e74f-4e71-ca8e-425e53aeb131"
      },
      "execution_count": 17,
      "outputs": [
        {
          "output_type": "stream",
          "name": "stdout",
          "text": [
            "Enter the length of side x: 2\n",
            "Enter the length of side y: 3\n",
            "Enter the length of side z: 4\n",
            "Scalene triangle\n"
          ]
        }
      ]
    },
    {
      "cell_type": "code",
      "source": [
        "#  19) Write a Python program to get the next day of a given date.\n",
        "# Expected Output:\n",
        "# Input a year: 2016\n",
        "# Input a month [1-12]: 08\n",
        "# Input a day [1-31]: 23\n",
        "# The next date is [yyyy-mm-dd] 2016-8-24\n",
        "\n",
        "year = int(input(\"Enter a year (YYY): \"))\n",
        "\n",
        "if (year % 4 == 0):\n",
        "    leap_year = True\n",
        "elif (year % 400 == 0):\n",
        "    leap_year = True\n",
        "elif (year % 100 == 0):\n",
        "    leap_year = False\n",
        "else:\n",
        "    leap_year = False\n",
        "\n",
        "month = int(input(\"Enter a month [MM]: \"))\n",
        "\n",
        "if month in (1, 3, 5, 7, 8, 10, 12):\n",
        "    month_length = 31\n",
        "elif month == 2:\n",
        "    if leap_year:\n",
        "        month_len = 29\n",
        "    else:\n",
        "        month_len = 28\n",
        "else:\n",
        "    month_len = 30\n",
        "\n",
        "\n",
        "day = int(input(\"Input a day [DD]: \"))\n",
        "\n",
        "if day < month_len:\n",
        "    day += 1\n",
        "else:\n",
        "    day = 1\n",
        "    if month == 12:\n",
        "        month = 1\n",
        "        year += 1\n",
        "    else:\n",
        "        month += 1\n",
        "print(\"The next date is [yyyy-mm-dd] %d-%d-%d.\" % (year, month, day))\n",
        "\n",
        "\n",
        "\n"
      ],
      "metadata": {
        "id": "gzaM_h5EU-Jr",
        "colab": {
          "base_uri": "https://localhost:8080/"
        },
        "outputId": "f760ac4b-5a11-4971-e4f3-3d2d7670c5d2"
      },
      "execution_count": 7,
      "outputs": [
        {
          "output_type": "stream",
          "name": "stdout",
          "text": [
            "Enter a year (YYY): 1986\n",
            "Enter a month [MM]: 06\n",
            "Input a day [DD]: 21\n",
            "The next date is [yyyy-mm-dd] 1986-6-22.\n"
          ]
        }
      ]
    }
  ]
}