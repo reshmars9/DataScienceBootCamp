{
  "nbformat": 4,
  "nbformat_minor": 0,
  "metadata": {
    "colab": {
      "provenance": []
    },
    "kernelspec": {
      "name": "python3",
      "display_name": "Python 3"
    },
    "language_info": {
      "name": "python"
    }
  },
  "cells": [
    {
      "cell_type": "markdown",
      "source": [
        "## **August 14, 2023**"
      ],
      "metadata": {
        "id": "T4b_fsQx-Qu9"
      }
    },
    {
      "cell_type": "code",
      "execution_count": null,
      "metadata": {
        "colab": {
          "base_uri": "https://localhost:8080/"
        },
        "id": "T1qbXRgL87fQ",
        "outputId": "82f853c8-347c-41b6-8180-0c659ede8902"
      },
      "outputs": [
        {
          "output_type": "stream",
          "name": "stdout",
          "text": [
            "if (a < 200):\n",
            "if (a < 175):\n",
            "if (a < 150):\n",
            "else if (a < 125):\n"
          ]
        }
      ],
      "source": [
        "# Nested If\n",
        "\n",
        "a = 125\n",
        "\n",
        "if (a < 200):\n",
        "  print('if (a < 200):')\n",
        "  if (a < 175):\n",
        "    print('if (a < 175):')\n",
        "    if (a < 150):\n",
        "      print('if (a < 150):')\n",
        "      if (a < 125):\n",
        "        print('if (a < 125):')\n",
        "        if (a < 100):\n",
        "          print('if (a < 100):')\n",
        "          if (a < 75):\n",
        "            print('if (a < 75):')\n",
        "          else:\n",
        "            print('else if (a < 75):')\n",
        "        else:\n",
        "          print('else if (a < 100):')\n",
        "      else:\n",
        "        print('else if (a < 125):')\n",
        "    else:\n",
        "      print('else if (a < 150):')\n",
        "  else:\n",
        "    print('else if (a < 175):')\n",
        "else:\n",
        "  print('else if (a < 200):')"
      ]
    },
    {
      "cell_type": "code",
      "source": [
        "a = 10\n",
        "\n",
        "while a < 100: # True/False\n",
        "  print(a, 'is less than 100')\n",
        "  a += 10"
      ],
      "metadata": {
        "colab": {
          "base_uri": "https://localhost:8080/"
        },
        "id": "XKc3WlaY-Zwu",
        "outputId": "9f7c15df-e5dc-4e45-cc1c-cd846021ad89"
      },
      "execution_count": null,
      "outputs": [
        {
          "output_type": "stream",
          "name": "stdout",
          "text": [
            "10 is less than 100\n",
            "20 is less than 100\n",
            "30 is less than 100\n",
            "40 is less than 100\n",
            "50 is less than 100\n",
            "60 is less than 100\n",
            "70 is less than 100\n",
            "80 is less than 100\n",
            "90 is less than 100\n"
          ]
        }
      ]
    },
    {
      "cell_type": "code",
      "source": [
        "# while loop\n",
        "a=100\n",
        "\n",
        "while a > 10: #True\n",
        "  print(a, 'is greater 10')\n",
        "  a -= 1 #reducing the size by 1...#99,98,97,....15,...when it reaches 11, it checks condition a>10 which is true. If it reaches , it becomes 10>10, which is false, so stops there.\n"
      ],
      "metadata": {
        "colab": {
          "base_uri": "https://localhost:8080/"
        },
        "id": "W9czKBot-dy3",
        "outputId": "08ef051a-a407-4b2f-f737-ffcc68b273d8"
      },
      "execution_count": null,
      "outputs": [
        {
          "output_type": "stream",
          "name": "stdout",
          "text": [
            "100 is greater 10\n",
            "99 is greater 10\n",
            "98 is greater 10\n",
            "97 is greater 10\n",
            "96 is greater 10\n",
            "95 is greater 10\n",
            "94 is greater 10\n",
            "93 is greater 10\n",
            "92 is greater 10\n",
            "91 is greater 10\n",
            "90 is greater 10\n",
            "89 is greater 10\n",
            "88 is greater 10\n",
            "87 is greater 10\n",
            "86 is greater 10\n",
            "85 is greater 10\n",
            "84 is greater 10\n",
            "83 is greater 10\n",
            "82 is greater 10\n",
            "81 is greater 10\n",
            "80 is greater 10\n",
            "79 is greater 10\n",
            "78 is greater 10\n",
            "77 is greater 10\n",
            "76 is greater 10\n",
            "75 is greater 10\n",
            "74 is greater 10\n",
            "73 is greater 10\n",
            "72 is greater 10\n",
            "71 is greater 10\n",
            "70 is greater 10\n",
            "69 is greater 10\n",
            "68 is greater 10\n",
            "67 is greater 10\n",
            "66 is greater 10\n",
            "65 is greater 10\n",
            "64 is greater 10\n",
            "63 is greater 10\n",
            "62 is greater 10\n",
            "61 is greater 10\n",
            "60 is greater 10\n",
            "59 is greater 10\n",
            "58 is greater 10\n",
            "57 is greater 10\n",
            "56 is greater 10\n",
            "55 is greater 10\n",
            "54 is greater 10\n",
            "53 is greater 10\n",
            "52 is greater 10\n",
            "51 is greater 10\n",
            "50 is greater 10\n",
            "49 is greater 10\n",
            "48 is greater 10\n",
            "47 is greater 10\n",
            "46 is greater 10\n",
            "45 is greater 10\n",
            "44 is greater 10\n",
            "43 is greater 10\n",
            "42 is greater 10\n",
            "41 is greater 10\n",
            "40 is greater 10\n",
            "39 is greater 10\n",
            "38 is greater 10\n",
            "37 is greater 10\n",
            "36 is greater 10\n",
            "35 is greater 10\n",
            "34 is greater 10\n",
            "33 is greater 10\n",
            "32 is greater 10\n",
            "31 is greater 10\n",
            "30 is greater 10\n",
            "29 is greater 10\n",
            "28 is greater 10\n",
            "27 is greater 10\n",
            "26 is greater 10\n",
            "25 is greater 10\n",
            "24 is greater 10\n",
            "23 is greater 10\n",
            "22 is greater 10\n",
            "21 is greater 10\n",
            "20 is greater 10\n",
            "19 is greater 10\n",
            "18 is greater 10\n",
            "17 is greater 10\n",
            "16 is greater 10\n",
            "15 is greater 10\n",
            "14 is greater 10\n",
            "13 is greater 10\n",
            "12 is greater 10\n",
            "11 is greater 10\n"
          ]
        }
      ]
    },
    {
      "cell_type": "code",
      "source": [
        "a = 10\n",
        "\n",
        "while a<100:\n",
        "  print(a,'is less than 100')\n",
        "  a+=10 #increments the value by 10. when a=90, it adds 10 to it so becomes"
      ],
      "metadata": {
        "colab": {
          "base_uri": "https://localhost:8080/"
        },
        "id": "adQxZgQT-qPd",
        "outputId": "86b5eef2-7715-40a1-e809-377dfb29ca81"
      },
      "execution_count": null,
      "outputs": [
        {
          "output_type": "stream",
          "name": "stdout",
          "text": [
            "10 is less than 100\n",
            "20 is less than 100\n",
            "30 is less than 100\n",
            "40 is less than 100\n",
            "50 is less than 100\n",
            "60 is less than 100\n",
            "70 is less than 100\n",
            "80 is less than 100\n",
            "90 is less than 100\n"
          ]
        }
      ]
    },
    {
      "cell_type": "code",
      "source": [
        "i = 120\n",
        "\n",
        "while i<200:\n",
        "  print(i,'is less than 200')\n",
        "  i+=10"
      ],
      "metadata": {
        "colab": {
          "base_uri": "https://localhost:8080/"
        },
        "id": "0DcAFFkU-q_t",
        "outputId": "d82363f0-efb9-4b3a-d508-2a6882e2c5f3"
      },
      "execution_count": null,
      "outputs": [
        {
          "output_type": "stream",
          "name": "stdout",
          "text": [
            "120 is less than 200\n",
            "130 is less than 200\n",
            "140 is less than 200\n",
            "150 is less than 200\n",
            "160 is less than 200\n",
            "170 is less than 200\n",
            "180 is less than 200\n",
            "190 is less than 200\n"
          ]
        }
      ]
    },
    {
      "cell_type": "code",
      "source": [
        "i = 300\n",
        "\n",
        "while i>200:\n",
        "  print(i,'is greater than 200')\n",
        "  i-=20"
      ],
      "metadata": {
        "colab": {
          "base_uri": "https://localhost:8080/"
        },
        "id": "0tI5fUCV-s6D",
        "outputId": "679e2f7a-ab0e-4b25-ef33-e2483ba4d4b9"
      },
      "execution_count": null,
      "outputs": [
        {
          "output_type": "stream",
          "name": "stdout",
          "text": [
            "300 is greater than 200\n",
            "280 is greater than 200\n",
            "260 is greater than 200\n",
            "240 is greater than 200\n",
            "220 is greater than 200\n"
          ]
        }
      ]
    },
    {
      "cell_type": "code",
      "source": [
        "#Break -- Continue --  Pass"
      ],
      "metadata": {
        "id": "OZiSuNi4-vCe"
      },
      "execution_count": null,
      "outputs": []
    },
    {
      "cell_type": "code",
      "source": [
        "a = 10\n",
        "\n",
        "while a<100: #True/False\n",
        "  if a==50:\n",
        "    break #It terminates the program at the given condition where a=50\n",
        "  print(a,'is less than 100')\n",
        "  a+=10"
      ],
      "metadata": {
        "colab": {
          "base_uri": "https://localhost:8080/"
        },
        "id": "S42X6Eu--xD8",
        "outputId": "b2a61850-8ef5-44e3-9e7b-81554c80d97c"
      },
      "execution_count": null,
      "outputs": [
        {
          "output_type": "stream",
          "name": "stdout",
          "text": [
            "10 is less than 100\n",
            "20 is less than 100\n",
            "30 is less than 100\n",
            "40 is less than 100\n"
          ]
        }
      ]
    },
    {
      "cell_type": "code",
      "source": [
        "a = 10\n",
        "\n",
        "while a<100: #True/False\n",
        "  a+=10\n",
        "  if a==50:\n",
        "    continue #It'll skip a=50 then perform the remaining operation\n",
        "  print(a,'is less than 100')\n"
      ],
      "metadata": {
        "colab": {
          "base_uri": "https://localhost:8080/"
        },
        "id": "EN8Fh6jxELJG",
        "outputId": "cd4d9728-bc51-461f-9387-155e359f552c"
      },
      "execution_count": null,
      "outputs": [
        {
          "output_type": "stream",
          "name": "stdout",
          "text": [
            "20 is less than 100\n",
            "30 is less than 100\n",
            "40 is less than 100\n",
            "60 is less than 100\n",
            "70 is less than 100\n",
            "80 is less than 100\n",
            "90 is less than 100\n",
            "100 is less than 100\n"
          ]
        }
      ]
    },
    {
      "cell_type": "code",
      "source": [
        "a=200\n",
        "\n",
        "while (a<500):\n",
        "  pass #It helps to execute any program"
      ],
      "metadata": {
        "colab": {
          "base_uri": "https://localhost:8080/",
          "height": 228
        },
        "id": "6Drs-aM_EwWY",
        "outputId": "0c388d22-7906-4c1f-f471-4d6c118194a4"
      },
      "execution_count": null,
      "outputs": [
        {
          "output_type": "error",
          "ename": "KeyboardInterrupt",
          "evalue": "ignored",
          "traceback": [
            "\u001b[0;31m---------------------------------------------------------------------------\u001b[0m",
            "\u001b[0;31mKeyboardInterrupt\u001b[0m                         Traceback (most recent call last)",
            "\u001b[0;32m<ipython-input-23-0049eb65b0d4>\u001b[0m in \u001b[0;36m<cell line: 3>\u001b[0;34m()\u001b[0m\n\u001b[1;32m      1\u001b[0m \u001b[0ma\u001b[0m\u001b[0;34m=\u001b[0m\u001b[0;36m200\u001b[0m\u001b[0;34m\u001b[0m\u001b[0;34m\u001b[0m\u001b[0m\n\u001b[1;32m      2\u001b[0m \u001b[0;34m\u001b[0m\u001b[0m\n\u001b[0;32m----> 3\u001b[0;31m \u001b[0;32mwhile\u001b[0m \u001b[0;34m(\u001b[0m\u001b[0ma\u001b[0m\u001b[0;34m<\u001b[0m\u001b[0;36m500\u001b[0m\u001b[0;34m)\u001b[0m\u001b[0;34m:\u001b[0m\u001b[0;34m\u001b[0m\u001b[0;34m\u001b[0m\u001b[0m\n\u001b[0m\u001b[1;32m      4\u001b[0m   \u001b[0;32mpass\u001b[0m \u001b[0;31m#It helps to execute any program\u001b[0m\u001b[0;34m\u001b[0m\u001b[0;34m\u001b[0m\u001b[0m\n",
            "\u001b[0;31mKeyboardInterrupt\u001b[0m: "
          ]
        }
      ]
    },
    {
      "cell_type": "code",
      "source": [
        "# Write a program 0 to 100 and find odd and even number.\n",
        "#use while loop\n",
        "\n",
        "a = 0\n",
        "\n",
        "while a < 100:\n",
        "  a+=1\n",
        "  if a%2==0:\n",
        "      print(a, 'is even number')\n",
        "  else:\n",
        "      print(a,'is odd number')\n"
      ],
      "metadata": {
        "colab": {
          "base_uri": "https://localhost:8080/"
        },
        "id": "Q8brpMu_-6Xn",
        "outputId": "9e393c70-1573-496b-ec12-1ea9b0947952"
      },
      "execution_count": null,
      "outputs": [
        {
          "output_type": "stream",
          "name": "stdout",
          "text": [
            "1 is odd number\n",
            "2 is even number\n",
            "3 is odd number\n",
            "4 is even number\n",
            "5 is odd number\n",
            "6 is even number\n",
            "7 is odd number\n",
            "8 is even number\n",
            "9 is odd number\n",
            "10 is even number\n",
            "11 is odd number\n",
            "12 is even number\n",
            "13 is odd number\n",
            "14 is even number\n",
            "15 is odd number\n",
            "16 is even number\n",
            "17 is odd number\n",
            "18 is even number\n",
            "19 is odd number\n",
            "20 is even number\n",
            "21 is odd number\n",
            "22 is even number\n",
            "23 is odd number\n",
            "24 is even number\n",
            "25 is odd number\n",
            "26 is even number\n",
            "27 is odd number\n",
            "28 is even number\n",
            "29 is odd number\n",
            "30 is even number\n",
            "31 is odd number\n",
            "32 is even number\n",
            "33 is odd number\n",
            "34 is even number\n",
            "35 is odd number\n",
            "36 is even number\n",
            "37 is odd number\n",
            "38 is even number\n",
            "39 is odd number\n",
            "40 is even number\n",
            "41 is odd number\n",
            "42 is even number\n",
            "43 is odd number\n",
            "44 is even number\n",
            "45 is odd number\n",
            "46 is even number\n",
            "47 is odd number\n",
            "48 is even number\n",
            "49 is odd number\n",
            "50 is even number\n",
            "51 is odd number\n",
            "52 is even number\n",
            "53 is odd number\n",
            "54 is even number\n",
            "55 is odd number\n",
            "56 is even number\n",
            "57 is odd number\n",
            "58 is even number\n",
            "59 is odd number\n",
            "60 is even number\n",
            "61 is odd number\n",
            "62 is even number\n",
            "63 is odd number\n",
            "64 is even number\n",
            "65 is odd number\n",
            "66 is even number\n",
            "67 is odd number\n",
            "68 is even number\n",
            "69 is odd number\n",
            "70 is even number\n",
            "71 is odd number\n",
            "72 is even number\n",
            "73 is odd number\n",
            "74 is even number\n",
            "75 is odd number\n",
            "76 is even number\n",
            "77 is odd number\n",
            "78 is even number\n",
            "79 is odd number\n",
            "80 is even number\n",
            "81 is odd number\n",
            "82 is even number\n",
            "83 is odd number\n",
            "84 is even number\n",
            "85 is odd number\n",
            "86 is even number\n",
            "87 is odd number\n",
            "88 is even number\n",
            "89 is odd number\n",
            "90 is even number\n",
            "91 is odd number\n",
            "92 is even number\n",
            "93 is odd number\n",
            "94 is even number\n",
            "95 is odd number\n",
            "96 is even number\n",
            "97 is odd number\n",
            "98 is even number\n",
            "99 is odd number\n",
            "100 is even number\n"
          ]
        }
      ]
    },
    {
      "cell_type": "code",
      "source": [
        "# Write a program 0 to 100 and find odd and even number.\n",
        "#use while loop\n",
        "\n",
        "a = 0\n",
        "\n",
        "while a < 100:\n",
        "  a+=1\n",
        "  if a%2==0:\n",
        "      print(a, 'is even number')\n",
        "  else:\n",
        "      print(a,'is odd number')\n"
      ],
      "metadata": {
        "colab": {
          "base_uri": "https://localhost:8080/"
        },
        "id": "hgl1wjrH-9ta",
        "outputId": "c5f60898-86ff-4fd8-bd16-61b53e95687d"
      },
      "execution_count": null,
      "outputs": [
        {
          "output_type": "stream",
          "name": "stdout",
          "text": [
            "1 is odd number\n",
            "2 is even number\n",
            "3 is odd number\n",
            "4 is even number\n",
            "5 is odd number\n",
            "6 is even number\n",
            "7 is odd number\n",
            "8 is even number\n",
            "9 is odd number\n",
            "10 is even number\n",
            "11 is odd number\n",
            "12 is even number\n",
            "13 is odd number\n",
            "14 is even number\n",
            "15 is odd number\n",
            "16 is even number\n",
            "17 is odd number\n",
            "18 is even number\n",
            "19 is odd number\n",
            "20 is even number\n",
            "21 is odd number\n",
            "22 is even number\n",
            "23 is odd number\n",
            "24 is even number\n",
            "25 is odd number\n",
            "26 is even number\n",
            "27 is odd number\n",
            "28 is even number\n",
            "29 is odd number\n",
            "30 is even number\n",
            "31 is odd number\n",
            "32 is even number\n",
            "33 is odd number\n",
            "34 is even number\n",
            "35 is odd number\n",
            "36 is even number\n",
            "37 is odd number\n",
            "38 is even number\n",
            "39 is odd number\n",
            "40 is even number\n",
            "41 is odd number\n",
            "42 is even number\n",
            "43 is odd number\n",
            "44 is even number\n",
            "45 is odd number\n",
            "46 is even number\n",
            "47 is odd number\n",
            "48 is even number\n",
            "49 is odd number\n",
            "50 is even number\n",
            "51 is odd number\n",
            "52 is even number\n",
            "53 is odd number\n",
            "54 is even number\n",
            "55 is odd number\n",
            "56 is even number\n",
            "57 is odd number\n",
            "58 is even number\n",
            "59 is odd number\n",
            "60 is even number\n",
            "61 is odd number\n",
            "62 is even number\n",
            "63 is odd number\n",
            "64 is even number\n",
            "65 is odd number\n",
            "66 is even number\n",
            "67 is odd number\n",
            "68 is even number\n",
            "69 is odd number\n",
            "70 is even number\n",
            "71 is odd number\n",
            "72 is even number\n",
            "73 is odd number\n",
            "74 is even number\n",
            "75 is odd number\n",
            "76 is even number\n",
            "77 is odd number\n",
            "78 is even number\n",
            "79 is odd number\n",
            "80 is even number\n",
            "81 is odd number\n",
            "82 is even number\n",
            "83 is odd number\n",
            "84 is even number\n",
            "85 is odd number\n",
            "86 is even number\n",
            "87 is odd number\n",
            "88 is even number\n",
            "89 is odd number\n",
            "90 is even number\n",
            "91 is odd number\n",
            "92 is even number\n",
            "93 is odd number\n",
            "94 is even number\n",
            "95 is odd number\n",
            "96 is even number\n",
            "97 is odd number\n",
            "98 is even number\n",
            "99 is odd number\n",
            "100 is even number\n"
          ]
        }
      ]
    },
    {
      "cell_type": "code",
      "source": [
        "total = 0\n",
        "num = int(input('enter a number '))\n",
        "while num != 0:\n",
        "  total += num\n",
        "  num = int(input('enter a number '))\n",
        "print (total) #taking input within program, loop is running till num=0 where loop stops"
      ],
      "metadata": {
        "colab": {
          "base_uri": "https://localhost:8080/"
        },
        "id": "0Nh4qeMa-_8F",
        "outputId": "4095f007-4de7-488d-a435-199b20fd10b8"
      },
      "execution_count": null,
      "outputs": [
        {
          "output_type": "stream",
          "name": "stdout",
          "text": [
            "enter a number 1\n",
            "enter a number 2\n",
            "enter a number 0\n",
            "3\n"
          ]
        }
      ]
    },
    {
      "cell_type": "code",
      "source": [
        "# adding all the values that run in loop until stopped by given condition.\n",
        "total = 0\n",
        "num = int(input('enter a number '))\n",
        "\n",
        "while num != 0:\n",
        "  total += num\n",
        "  num = int(input('enter a number '))\n",
        "print(total)"
      ],
      "metadata": {
        "colab": {
          "base_uri": "https://localhost:8080/"
        },
        "id": "vSHCHwsR_Diw",
        "outputId": "8ab4d5c4-d041-4de1-c35b-cfa474fb9b98"
      },
      "execution_count": null,
      "outputs": [
        {
          "output_type": "stream",
          "name": "stdout",
          "text": [
            "enter a number 1\n",
            "enter a number 5\n",
            "enter a number 0\n",
            "6\n"
          ]
        }
      ]
    },
    {
      "cell_type": "code",
      "source": [
        "#count no. of people, if voting age>18, then give count of how many people have age>18\n",
        "\n",
        "total = 0\n",
        "a = int(input(\"Age:\"))\n",
        "while a >= 18:\n",
        "  total += 1\n",
        "  a = int(input(\"Age:\"))\n",
        "print (total)"
      ],
      "metadata": {
        "colab": {
          "base_uri": "https://localhost:8080/"
        },
        "id": "h3nk2hHRBf5z",
        "outputId": "aa2a5fb5-f5dd-4e1c-d73a-d60e2842f603"
      },
      "execution_count": null,
      "outputs": [
        {
          "output_type": "stream",
          "name": "stdout",
          "text": [
            "Age:5\n",
            "0\n"
          ]
        }
      ]
    },
    {
      "cell_type": "code",
      "source": [
        "# pop will delete the value from backward, one by one\n",
        "lst1=[1,2,3,4,5,6,7,8,9,10,11,22,33,44,55,66,77,88,99,110,12,12,34,45,56,57,78,89,90]\n",
        "\n",
        "while lst1:\n",
        "  print(lst1.pop())"
      ],
      "metadata": {
        "colab": {
          "base_uri": "https://localhost:8080/"
        },
        "id": "j9pLYGnTBgtH",
        "outputId": "7283ba27-6f42-41b2-b47e-9f2201cd8df6"
      },
      "execution_count": null,
      "outputs": [
        {
          "output_type": "stream",
          "name": "stdout",
          "text": [
            "90\n",
            "89\n",
            "78\n",
            "57\n",
            "56\n",
            "45\n",
            "34\n",
            "12\n",
            "12\n",
            "110\n",
            "99\n",
            "88\n",
            "77\n",
            "66\n",
            "55\n",
            "44\n",
            "33\n",
            "22\n",
            "11\n",
            "10\n",
            "9\n",
            "8\n",
            "7\n",
            "6\n",
            "5\n",
            "4\n",
            "3\n",
            "2\n",
            "1\n"
          ]
        }
      ]
    },
    {
      "cell_type": "code",
      "source": [
        "# Write a program where number is divisible by 5 and 7\n",
        "\n",
        "num1 = int(input(\"Enter a number: \"))\n",
        "\n",
        "while (num1%5==0) and (num1%7==0):\n",
        "  print(num1, 'is divisible by 5 and 7')\n",
        "  break\n",
        "else:\n",
        "  print(num1, 'is not divisible by 5 and 7')"
      ],
      "metadata": {
        "colab": {
          "base_uri": "https://localhost:8080/"
        },
        "id": "BdbvvWr_Bi09",
        "outputId": "6a9f4820-3ec9-402c-8262-0198da7f5a56"
      },
      "execution_count": null,
      "outputs": [
        {
          "output_type": "stream",
          "name": "stdout",
          "text": [
            "Enter a number: 1\n",
            "1 is not divisible by 5 and 7\n"
          ]
        }
      ]
    },
    {
      "cell_type": "markdown",
      "source": [
        "#**August 15, 2023**"
      ],
      "metadata": {
        "id": "xHvlHldDCPSa"
      }
    },
    {
      "cell_type": "code",
      "source": [
        "lst1 = [12,23,34,45,56,67,78,89,90,21,32,43,54,65,76,87,98,9]\n",
        "\n",
        "for i in lst1:\n",
        "  print('value of i ', i)"
      ],
      "metadata": {
        "id": "jG84avDoCfRn"
      },
      "execution_count": null,
      "outputs": []
    },
    {
      "cell_type": "code",
      "source": [
        "tup1 = ('apple', 'banana', 'cherries', 'dates','eggfruit','fig', 'grapes', 'honeyfruit')\n",
        "for i in tup1:\n",
        "  print('value of i ', i)"
      ],
      "metadata": {
        "colab": {
          "base_uri": "https://localhost:8080/"
        },
        "id": "zT6DQ7PgH8Eq",
        "outputId": "3e0e41d3-5b10-4ee6-bafd-2fc696473111"
      },
      "execution_count": null,
      "outputs": [
        {
          "output_type": "stream",
          "name": "stdout",
          "text": [
            "value of i  apple\n",
            "value of i  banana\n",
            "value of i  cherries\n",
            "value of i  dates\n",
            "value of i  eggfruit\n",
            "value of i  fig\n",
            "value of i  grapes\n",
            "value of i  honeyfruit\n"
          ]
        }
      ]
    },
    {
      "cell_type": "code",
      "source": [
        "set1 = {'apple','banana','cherries','dates','eggfruit','fig','grapes','honeyfruit',12,23,34,45,56,67,78,89,90,21,32,43,54,65,76,87,98,9}\n",
        "\n",
        "for i in set1:\n",
        "  print('value of i ', i)"
      ],
      "metadata": {
        "id": "ZdToSMWjGnBe"
      },
      "execution_count": null,
      "outputs": []
    },
    {
      "cell_type": "code",
      "source": [
        "str1 = 'Peppa prefer Python Programming'\n",
        "print(len(str1))\n",
        "for i in str1:\n",
        "  print('value of i ', i)"
      ],
      "metadata": {
        "id": "_6QWsy1xGn13"
      },
      "execution_count": null,
      "outputs": []
    },
    {
      "cell_type": "code",
      "source": [
        "dict1 = {'a':'apple', 'b':'ball', 'c': 'cat', 'd': 'doll'}\n",
        "\n",
        "for i in dict1:\n",
        "  print('value of i ', i)"
      ],
      "metadata": {
        "id": "vQmN46dVGsDq"
      },
      "execution_count": null,
      "outputs": []
    },
    {
      "cell_type": "code",
      "source": [
        "for i in range(10): #0,1,2,3,4,5,6,7,8,9\n",
        "  print ('value of i', i)"
      ],
      "metadata": {
        "colab": {
          "base_uri": "https://localhost:8080/"
        },
        "id": "M9-wVnD0IU6L",
        "outputId": "05215038-07b2-44f8-f0de-dbbb8cf75489"
      },
      "execution_count": null,
      "outputs": [
        {
          "output_type": "stream",
          "name": "stdout",
          "text": [
            "value of i 0\n",
            "value of i 1\n",
            "value of i 2\n",
            "value of i 3\n",
            "value of i 4\n",
            "value of i 5\n",
            "value of i 6\n",
            "value of i 7\n",
            "value of i 8\n",
            "value of i 9\n"
          ]
        }
      ]
    },
    {
      "cell_type": "code",
      "source": [
        "for i in range(0,10): #0,1,2,3,4,5,6,7,8,9\n",
        "  print ('value of i', i)"
      ],
      "metadata": {
        "colab": {
          "base_uri": "https://localhost:8080/"
        },
        "id": "y-M4mmkVIfU8",
        "outputId": "512f134b-7b72-40af-cb77-caf79c9fa3ce"
      },
      "execution_count": null,
      "outputs": [
        {
          "output_type": "stream",
          "name": "stdout",
          "text": [
            "value of i 0\n",
            "value of i 1\n",
            "value of i 2\n",
            "value of i 3\n",
            "value of i 4\n",
            "value of i 5\n",
            "value of i 6\n",
            "value of i 7\n",
            "value of i 8\n",
            "value of i 9\n"
          ]
        }
      ]
    },
    {
      "cell_type": "code",
      "source": [
        "for i in range(0,10,1): #0,1,2,3,4,5,6,7,8,9\n",
        "  print ('value of i', i)"
      ],
      "metadata": {
        "colab": {
          "base_uri": "https://localhost:8080/"
        },
        "id": "RKo1Bzg3IlpO",
        "outputId": "47992f90-c58e-4f69-94b9-ab91ee8ebd38"
      },
      "execution_count": null,
      "outputs": [
        {
          "output_type": "stream",
          "name": "stdout",
          "text": [
            "value of i 0\n",
            "value of i 1\n",
            "value of i 2\n",
            "value of i 3\n",
            "value of i 4\n",
            "value of i 5\n",
            "value of i 6\n",
            "value of i 7\n",
            "value of i 8\n",
            "value of i 9\n"
          ]
        }
      ]
    },
    {
      "cell_type": "code",
      "source": [
        "for i in range(0,10,2): #0,1,2,3,4,5,6,7,8,9\n",
        "  print ('value of i', i)"
      ],
      "metadata": {
        "colab": {
          "base_uri": "https://localhost:8080/"
        },
        "id": "doba6Qi5Io1x",
        "outputId": "83491e81-f468-4a77-86cd-fefe4cd9f9e5"
      },
      "execution_count": null,
      "outputs": [
        {
          "output_type": "stream",
          "name": "stdout",
          "text": [
            "value of i 0\n",
            "value of i 2\n",
            "value of i 4\n",
            "value of i 6\n",
            "value of i 8\n"
          ]
        }
      ]
    },
    {
      "cell_type": "code",
      "source": [
        "#printing matrix of * (10x10)\n",
        "for i in range(10):\n",
        "  for j in range(10): #when value of i=0, j will run from 0 to 9 printing 0s\n",
        "    print('*', end=' ')\n",
        "  print('\\r')"
      ],
      "metadata": {
        "colab": {
          "base_uri": "https://localhost:8080/"
        },
        "id": "XsHs2uW5IuC1",
        "outputId": "e7ff2810-ee10-494b-d942-1ff2ceaafa28"
      },
      "execution_count": null,
      "outputs": [
        {
          "output_type": "stream",
          "name": "stdout",
          "text": [
            "* * * * * * * * * * \r\n",
            "* * * * * * * * * * \r\n",
            "* * * * * * * * * * \r\n",
            "* * * * * * * * * * \r\n",
            "* * * * * * * * * * \r\n",
            "* * * * * * * * * * \r\n",
            "* * * * * * * * * * \r\n",
            "* * * * * * * * * * \r\n",
            "* * * * * * * * * * \r\n",
            "* * * * * * * * * * \r\n"
          ]
        }
      ]
    },
    {
      "cell_type": "code",
      "source": [
        "k=0\n",
        "for i in range(10): # 0,1,2,3,4,5,6,7,8,9\n",
        "  for j in range(10): # 0,1,2,3,4,5,6,7,8,9\n",
        "    k +=1\n",
        "    print(k, end=' ')\n",
        "\n",
        "  print('\\r')"
      ],
      "metadata": {
        "colab": {
          "base_uri": "https://localhost:8080/"
        },
        "id": "FMT4LK6hJP1y",
        "outputId": "924de6be-bbf9-4205-bbf1-3c21e445db29"
      },
      "execution_count": null,
      "outputs": [
        {
          "output_type": "stream",
          "name": "stdout",
          "text": [
            "1 2 3 4 5 6 7 8 9 10 \r\n",
            "11 12 13 14 15 16 17 18 19 20 \r\n",
            "21 22 23 24 25 26 27 28 29 30 \r\n",
            "31 32 33 34 35 36 37 38 39 40 \r\n",
            "41 42 43 44 45 46 47 48 49 50 \r\n",
            "51 52 53 54 55 56 57 58 59 60 \r\n",
            "61 62 63 64 65 66 67 68 69 70 \r\n",
            "71 72 73 74 75 76 77 78 79 80 \r\n",
            "81 82 83 84 85 86 87 88 89 90 \r\n",
            "91 92 93 94 95 96 97 98 99 100 \r\n"
          ]
        }
      ]
    },
    {
      "cell_type": "markdown",
      "source": [
        "![image.png](data:image/png;base64,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)"
      ],
      "metadata": {
        "id": "k-RThqbtJVdj"
      }
    },
    {
      "cell_type": "code",
      "source": [
        "for i in range(10):\n",
        "  for j in range(0,10-i):\n",
        "    print('-', end='')\n",
        "  for k in range(0,i+1):\n",
        "    print('*', end =' ')\n",
        "  print('\\r')"
      ],
      "metadata": {
        "colab": {
          "base_uri": "https://localhost:8080/"
        },
        "id": "50Fvl58IJdjW",
        "outputId": "f6a1346c-08b4-4493-fc9e-739e5e1ec0b3"
      },
      "execution_count": null,
      "outputs": [
        {
          "output_type": "stream",
          "name": "stdout",
          "text": [
            "----------* \r\n",
            "---------* * \r\n",
            "--------* * * \r\n",
            "-------* * * * \r\n",
            "------* * * * * \r\n",
            "-----* * * * * * \r\n",
            "----* * * * * * * \r\n",
            "---* * * * * * * * \r\n",
            "--* * * * * * * * * \r\n",
            "-* * * * * * * * * * \r\n"
          ]
        }
      ]
    },
    {
      "cell_type": "markdown",
      "source": [
        "![image.png](data:image/png;base64,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)"
      ],
      "metadata": {
        "id": "nnMY0udMJhek"
      }
    },
    {
      "cell_type": "markdown",
      "source": [
        "![image.png](data:image/png;base64,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)"
      ],
      "metadata": {
        "id": "3PHlvKQOJ0fy"
      }
    },
    {
      "cell_type": "code",
      "source": [
        "for i in range(10):\n",
        "  for j in range(0,i):\n",
        "    print('-', end= '')\n",
        "  for k in range(10, i, -1):\n",
        "    print('*', end=' ')\n",
        "  print('\\r')"
      ],
      "metadata": {
        "colab": {
          "base_uri": "https://localhost:8080/"
        },
        "id": "6vjxKIs1JfKD",
        "outputId": "6cf441f2-3c5e-402e-ab64-6dcaf6478628"
      },
      "execution_count": null,
      "outputs": [
        {
          "output_type": "stream",
          "name": "stdout",
          "text": [
            "* * * * * * * * * * \r\n",
            "-* * * * * * * * * \r\n",
            "--* * * * * * * * \r\n",
            "---* * * * * * * \r\n",
            "----* * * * * * \r\n",
            "-----* * * * * \r\n",
            "------* * * * \r\n",
            "-------* * * \r\n",
            "--------* * \r\n",
            "---------* \r\n"
          ]
        }
      ]
    },
    {
      "cell_type": "markdown",
      "source": [
        "![image.png](data:image/png;base64,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)"
      ],
      "metadata": {
        "id": "rwUru8SRJ8wN"
      }
    },
    {
      "cell_type": "code",
      "source": [
        "#PYRAMID/TRIANGLE OF *\n",
        "for i in range(10):\n",
        "  for j in range(0,10-i):\n",
        "    print(' ', end='')\n",
        "  for k in range(0,i+1):\n",
        "    print('*', end=' ')\n",
        "  print('\\r')\n"
      ],
      "metadata": {
        "colab": {
          "base_uri": "https://localhost:8080/"
        },
        "id": "ri0aMnRCJQ_e",
        "outputId": "30901aff-7e03-47ef-e619-cb5ae3245d1c"
      },
      "execution_count": null,
      "outputs": [
        {
          "output_type": "stream",
          "name": "stdout",
          "text": [
            "          * \r\n",
            "         * * \r\n",
            "        * * * \r\n",
            "       * * * * \r\n",
            "      * * * * * \r\n",
            "     * * * * * * \r\n",
            "    * * * * * * * \r\n",
            "   * * * * * * * * \r\n",
            "  * * * * * * * * * \r\n",
            " * * * * * * * * * * \r\n"
          ]
        }
      ]
    },
    {
      "cell_type": "code",
      "source": [
        "  for i in range(0,10): # draws 10 rows\n",
        "    for j in range(0,10-i): #prints spaces, first 10spaces, then 9, then 8...until 1 space.\n",
        "      print('', end=' ') # print space and end space,,,as it'll print in sequence without changing line\n",
        "    for k in range(0,i+1): # first prints 1 *, then 2*....\n",
        "      print('*', end=' ')\n",
        "    print ('\\r') #change line/row"
      ],
      "metadata": {
        "colab": {
          "base_uri": "https://localhost:8080/"
        },
        "id": "K-IDrB6ANooW",
        "outputId": "f202b200-957e-4a7c-9fe7-70b07c3c725a"
      },
      "execution_count": null,
      "outputs": [
        {
          "output_type": "stream",
          "name": "stdout",
          "text": [
            "          * \r\n",
            "         * * \r\n",
            "        * * * \r\n",
            "       * * * * \r\n",
            "      * * * * * \r\n",
            "     * * * * * * \r\n",
            "    * * * * * * * \r\n",
            "   * * * * * * * * \r\n",
            "  * * * * * * * * * \r\n",
            " * * * * * * * * * * \r\n"
          ]
        }
      ]
    },
    {
      "cell_type": "code",
      "source": [
        "#UPSIDE DOWN PYRAMID OF *\n",
        "for i in range(10):\n",
        "  for j in range(0,i+1):\n",
        "    print(' ', end='')\n",
        "  for k in range(0,10-i):\n",
        "    print('*', end=' ')\n",
        "  print('\\r')"
      ],
      "metadata": {
        "colab": {
          "base_uri": "https://localhost:8080/"
        },
        "id": "7_tUYAp0KqfY",
        "outputId": "47ae8ba8-843b-4c62-a1fe-5b47fbe469dc"
      },
      "execution_count": null,
      "outputs": [
        {
          "output_type": "stream",
          "name": "stdout",
          "text": [
            " * * * * * * * * * * \r\n",
            "  * * * * * * * * * \r\n",
            "   * * * * * * * * \r\n",
            "    * * * * * * * \r\n",
            "     * * * * * * \r\n",
            "      * * * * * \r\n",
            "       * * * * \r\n",
            "        * * * \r\n",
            "         * * \r\n",
            "          * \r\n"
          ]
        }
      ]
    },
    {
      "cell_type": "code",
      "source": [
        "#UPSIDE DOWN PYRAMID OF *\n",
        "for i in range(10):\n",
        "  for j in range(0,i):\n",
        "    print(' ', end='')\n",
        "  for k in range(10,i,-1):\n",
        "    print('*', end=' ')\n",
        "  print('\\r')"
      ],
      "metadata": {
        "colab": {
          "base_uri": "https://localhost:8080/"
        },
        "id": "-hwF8y1FN0oQ",
        "outputId": "96533bb5-3a1e-4db5-e9c3-53bab7090f5f"
      },
      "execution_count": null,
      "outputs": [
        {
          "output_type": "stream",
          "name": "stdout",
          "text": [
            "* * * * * * * * * * \r\n",
            " * * * * * * * * * \r\n",
            "  * * * * * * * * \r\n",
            "   * * * * * * * \r\n",
            "    * * * * * * \r\n",
            "     * * * * * \r\n",
            "      * * * * \r\n",
            "       * * * \r\n",
            "        * * \r\n",
            "         * \r\n"
          ]
        }
      ]
    },
    {
      "cell_type": "code",
      "source": [
        "for i in range(10):\n",
        "  for j in range(0,i+2):\n",
        "    print(' ', end='')\n",
        "  for k in range(0,10-i):\n",
        "    print('*', end=' ')\n",
        "  print('\\r')\n",
        "\n",
        "for i in range(10):\n",
        "  for j in range(0,10-i):\n",
        "    print(' ', end='')\n",
        "  for k in range(0,i+2):\n",
        "    print('*', end=' ')\n",
        "  print('\\r')"
      ],
      "metadata": {
        "colab": {
          "base_uri": "https://localhost:8080/"
        },
        "id": "WTt7ZtGBOTtd",
        "outputId": "3fb6d5b2-7f65-4dc6-eb62-600bce28052d"
      },
      "execution_count": null,
      "outputs": [
        {
          "output_type": "stream",
          "name": "stdout",
          "text": [
            "  * * * * * * * * * * \r\n",
            "   * * * * * * * * * \r\n",
            "    * * * * * * * * \r\n",
            "     * * * * * * * \r\n",
            "      * * * * * * \r\n",
            "       * * * * * \r\n",
            "        * * * * \r\n",
            "         * * * \r\n",
            "          * * \r\n",
            "           * \r\n",
            "          * * \r\n",
            "         * * * \r\n",
            "        * * * * \r\n",
            "       * * * * * \r\n",
            "      * * * * * * \r\n",
            "     * * * * * * * \r\n",
            "    * * * * * * * * \r\n",
            "   * * * * * * * * * \r\n",
            "  * * * * * * * * * * \r\n",
            " * * * * * * * * * * * \r\n"
          ]
        }
      ]
    },
    {
      "cell_type": "code",
      "source": [
        "for i in range(10):\n",
        "  for j in range(0,10-i):\n",
        "    print(' ', end='')\n",
        "  for k in range(1,i+2):\n",
        "    print('*', end=' ')\n",
        "  print('\\r')\n",
        "\n",
        "for i in range(10):\n",
        "  for j in range(1,i+2):\n",
        "    print(' ', end='')\n",
        "  for k in range(0,10-i):\n",
        "    print('*', end=' ')\n",
        "  print('\\r')"
      ],
      "metadata": {
        "colab": {
          "base_uri": "https://localhost:8080/"
        },
        "id": "Q6aYGsh-Ohfo",
        "outputId": "85ac3805-b658-45bc-a2aa-3872d5264314"
      },
      "execution_count": null,
      "outputs": [
        {
          "output_type": "stream",
          "name": "stdout",
          "text": [
            "          * \r\n",
            "         * * \r\n",
            "        * * * \r\n",
            "       * * * * \r\n",
            "      * * * * * \r\n",
            "     * * * * * * \r\n",
            "    * * * * * * * \r\n",
            "   * * * * * * * * \r\n",
            "  * * * * * * * * * \r\n",
            " * * * * * * * * * * \r\n",
            " * * * * * * * * * * \r\n",
            "  * * * * * * * * * \r\n",
            "   * * * * * * * * \r\n",
            "    * * * * * * * \r\n",
            "     * * * * * * \r\n",
            "      * * * * * \r\n",
            "       * * * * \r\n",
            "        * * * \r\n",
            "         * * \r\n",
            "          * \r\n"
          ]
        }
      ]
    },
    {
      "cell_type": "markdown",
      "source": [
        "#**August 16, 2023**"
      ],
      "metadata": {
        "id": "syby53dtL43e"
      }
    },
    {
      "cell_type": "code",
      "source": [
        "# Fibonacci series\n",
        "#0,1,1,2,3,5,8,13,21,34....(adds last 2 numbers every time it runs)\n",
        "\n",
        "a = 0\n",
        "b = 1\n",
        "\n",
        "c = a + b\n",
        "print(c)"
      ],
      "metadata": {
        "colab": {
          "base_uri": "https://localhost:8080/"
        },
        "id": "YOOddo-bLdfl",
        "outputId": "14bea613-809f-4a99-abca-f6d2b30527dd"
      },
      "execution_count": null,
      "outputs": [
        {
          "output_type": "stream",
          "name": "stdout",
          "text": [
            "1\n"
          ]
        }
      ]
    },
    {
      "cell_type": "markdown",
      "source": [],
      "metadata": {
        "id": "j3HsKxEDQFAV"
      }
    },
    {
      "cell_type": "code",
      "source": [
        "n=int(input(\"Enter the number of terms: \"))\n",
        "a=0\n",
        "b=1\n",
        "if n<=0:\n",
        "    print(\"The Output of your input is\",a)\n",
        "else:\n",
        "    print(a,b,end=\" \")\n",
        "    for x in range(2,n):\n",
        "        c=a+b\n",
        "        print(c,end=\" \")\n",
        "        a=b\n",
        "        b=c"
      ],
      "metadata": {
        "colab": {
          "base_uri": "https://localhost:8080/",
          "height": 408
        },
        "id": "nK8IjQQRLhf0",
        "outputId": "e56ff41a-0a10-4b34-dd4c-5d245e96404f"
      },
      "execution_count": null,
      "outputs": [
        {
          "output_type": "error",
          "ename": "KeyboardInterrupt",
          "evalue": "ignored",
          "traceback": [
            "\u001b[0;31m---------------------------------------------------------------------------\u001b[0m",
            "\u001b[0;31mKeyboardInterrupt\u001b[0m                         Traceback (most recent call last)",
            "\u001b[0;32m<ipython-input-5-0c7bafd96d0f>\u001b[0m in \u001b[0;36m<cell line: 1>\u001b[0;34m()\u001b[0m\n\u001b[0;32m----> 1\u001b[0;31m \u001b[0mn\u001b[0m\u001b[0;34m=\u001b[0m\u001b[0mint\u001b[0m\u001b[0;34m(\u001b[0m\u001b[0minput\u001b[0m\u001b[0;34m(\u001b[0m\u001b[0;34m\"Enter the number of terms: \"\u001b[0m\u001b[0;34m)\u001b[0m\u001b[0;34m)\u001b[0m\u001b[0;34m\u001b[0m\u001b[0;34m\u001b[0m\u001b[0m\n\u001b[0m\u001b[1;32m      2\u001b[0m \u001b[0ma\u001b[0m\u001b[0;34m=\u001b[0m\u001b[0;36m0\u001b[0m\u001b[0;34m\u001b[0m\u001b[0;34m\u001b[0m\u001b[0m\n\u001b[1;32m      3\u001b[0m \u001b[0mb\u001b[0m\u001b[0;34m=\u001b[0m\u001b[0;36m1\u001b[0m\u001b[0;34m\u001b[0m\u001b[0;34m\u001b[0m\u001b[0m\n\u001b[1;32m      4\u001b[0m \u001b[0;32mif\u001b[0m \u001b[0mn\u001b[0m\u001b[0;34m<=\u001b[0m\u001b[0;36m0\u001b[0m\u001b[0;34m:\u001b[0m\u001b[0;34m\u001b[0m\u001b[0;34m\u001b[0m\u001b[0m\n\u001b[1;32m      5\u001b[0m     \u001b[0mprint\u001b[0m\u001b[0;34m(\u001b[0m\u001b[0;34m\"The Output of your input is\"\u001b[0m\u001b[0;34m,\u001b[0m\u001b[0ma\u001b[0m\u001b[0;34m)\u001b[0m\u001b[0;34m\u001b[0m\u001b[0;34m\u001b[0m\u001b[0m\n",
            "\u001b[0;32m/usr/local/lib/python3.10/dist-packages/ipykernel/kernelbase.py\u001b[0m in \u001b[0;36mraw_input\u001b[0;34m(self, prompt)\u001b[0m\n\u001b[1;32m    849\u001b[0m                 \u001b[0;34m\"raw_input was called, but this frontend does not support input requests.\"\u001b[0m\u001b[0;34m\u001b[0m\u001b[0;34m\u001b[0m\u001b[0m\n\u001b[1;32m    850\u001b[0m             )\n\u001b[0;32m--> 851\u001b[0;31m         return self._input_request(str(prompt),\n\u001b[0m\u001b[1;32m    852\u001b[0m             \u001b[0mself\u001b[0m\u001b[0;34m.\u001b[0m\u001b[0m_parent_ident\u001b[0m\u001b[0;34m,\u001b[0m\u001b[0;34m\u001b[0m\u001b[0;34m\u001b[0m\u001b[0m\n\u001b[1;32m    853\u001b[0m             \u001b[0mself\u001b[0m\u001b[0;34m.\u001b[0m\u001b[0m_parent_header\u001b[0m\u001b[0;34m,\u001b[0m\u001b[0;34m\u001b[0m\u001b[0;34m\u001b[0m\u001b[0m\n",
            "\u001b[0;32m/usr/local/lib/python3.10/dist-packages/ipykernel/kernelbase.py\u001b[0m in \u001b[0;36m_input_request\u001b[0;34m(self, prompt, ident, parent, password)\u001b[0m\n\u001b[1;32m    893\u001b[0m             \u001b[0;32mexcept\u001b[0m \u001b[0mKeyboardInterrupt\u001b[0m\u001b[0;34m:\u001b[0m\u001b[0;34m\u001b[0m\u001b[0;34m\u001b[0m\u001b[0m\n\u001b[1;32m    894\u001b[0m                 \u001b[0;31m# re-raise KeyboardInterrupt, to truncate traceback\u001b[0m\u001b[0;34m\u001b[0m\u001b[0;34m\u001b[0m\u001b[0m\n\u001b[0;32m--> 895\u001b[0;31m                 \u001b[0;32mraise\u001b[0m \u001b[0mKeyboardInterrupt\u001b[0m\u001b[0;34m(\u001b[0m\u001b[0;34m\"Interrupted by user\"\u001b[0m\u001b[0;34m)\u001b[0m \u001b[0;32mfrom\u001b[0m \u001b[0;32mNone\u001b[0m\u001b[0;34m\u001b[0m\u001b[0;34m\u001b[0m\u001b[0m\n\u001b[0m\u001b[1;32m    896\u001b[0m             \u001b[0;32mexcept\u001b[0m \u001b[0mException\u001b[0m \u001b[0;32mas\u001b[0m \u001b[0me\u001b[0m\u001b[0;34m:\u001b[0m\u001b[0;34m\u001b[0m\u001b[0;34m\u001b[0m\u001b[0m\n\u001b[1;32m    897\u001b[0m                 \u001b[0mself\u001b[0m\u001b[0;34m.\u001b[0m\u001b[0mlog\u001b[0m\u001b[0;34m.\u001b[0m\u001b[0mwarning\u001b[0m\u001b[0;34m(\u001b[0m\u001b[0;34m\"Invalid Message:\"\u001b[0m\u001b[0;34m,\u001b[0m \u001b[0mexc_info\u001b[0m\u001b[0;34m=\u001b[0m\u001b[0;32mTrue\u001b[0m\u001b[0;34m)\u001b[0m\u001b[0;34m\u001b[0m\u001b[0;34m\u001b[0m\u001b[0m\n",
            "\u001b[0;31mKeyboardInterrupt\u001b[0m: Interrupted by user"
          ]
        }
      ]
    },
    {
      "cell_type": "code",
      "source": [
        "a = 0\n",
        "b = 1\n",
        "print(a, b, end=' ')\n",
        "for i in range(30):\n",
        "  c = a + b\n",
        "  print(c, end=' ')\n",
        "  a = b\n",
        "  b = c"
      ],
      "metadata": {
        "colab": {
          "base_uri": "https://localhost:8080/"
        },
        "id": "yAYLQYdbLkRm",
        "outputId": "4e8b73e2-1729-442e-9dbc-52d664967bf6"
      },
      "execution_count": null,
      "outputs": [
        {
          "output_type": "stream",
          "name": "stdout",
          "text": [
            "0 1 1 2 3 5 8 13 21 34 55 89 144 233 377 610 987 1597 2584 4181 6765 10946 17711 28657 46368 75025 121393 196418 317811 514229 832040 1346269 "
          ]
        }
      ]
    },
    {
      "cell_type": "code",
      "source": [
        "a,b = 0,1\n",
        "print (a, end= ',')\n",
        "print (b, end= ',')\n",
        "for i in range (10):\n",
        "  c=a+b\n",
        "  print(c,',', end='')\n",
        "  a=b\n",
        "  b=c"
      ],
      "metadata": {
        "colab": {
          "base_uri": "https://localhost:8080/"
        },
        "id": "aCPOc8cqLoBh",
        "outputId": "465cc308-827a-4d00-e24d-5ed96d891839"
      },
      "execution_count": null,
      "outputs": [
        {
          "output_type": "stream",
          "name": "stdout",
          "text": [
            "0,1,1 ,2 ,3 ,5 ,8 ,13 ,21 ,34 ,55 ,89 ,"
          ]
        }
      ]
    },
    {
      "cell_type": "code",
      "source": [
        "stu_record = {'Sameer':89, 'Sabina':87, 'Inder':37, 'Keshav':57, 'Kisto':31}\n",
        "\n",
        "# for loop for each student, take name, percentage of student\n",
        "\n",
        "for keys, values in stu_record.items():\n",
        "  print (keys, values)"
      ],
      "metadata": {
        "colab": {
          "base_uri": "https://localhost:8080/"
        },
        "id": "IAjWuxzkLqrX",
        "outputId": "582d28bb-c0f4-4bc1-9f95-5fb92edb4173"
      },
      "execution_count": null,
      "outputs": [
        {
          "output_type": "stream",
          "name": "stdout",
          "text": [
            "Sameer 89\n",
            "Sabina 87\n",
            "Inder 37\n",
            "Keshav 57\n",
            "Kisto 31\n"
          ]
        }
      ]
    },
    {
      "cell_type": "code",
      "source": [
        "for keys,values in stu_record.items():\n",
        "  if values>=80:\n",
        "    print (keys, values, 'Distinction')\n",
        "  elif values >=70 and values <80:\n",
        "    print (keys, values,'First Division')\n",
        "  elif values >=60 and values <70:\n",
        "    print (keys, values,'Second Division')\n",
        "  elif values >=50 and values <60:\n",
        "    print (keys, values,'Third Division')\n",
        "  elif values >=40 and values <50:\n",
        "    print (keys, values,'Just passed')\n",
        "  else:\n",
        "    print (keys, values,'Fail')"
      ],
      "metadata": {
        "colab": {
          "base_uri": "https://localhost:8080/"
        },
        "id": "9A2NoIyELttR",
        "outputId": "a90a639e-a493-4775-9b92-05efa8a8ce2a"
      },
      "execution_count": null,
      "outputs": [
        {
          "output_type": "stream",
          "name": "stdout",
          "text": [
            "Sameer 89 Distinction\n",
            "Sabina 87 Distinction\n",
            "Inder 37 Fail\n",
            "Keshav 57 Third Division\n",
            "Kisto 31 Fail\n"
          ]
        }
      ]
    }
  ]
}