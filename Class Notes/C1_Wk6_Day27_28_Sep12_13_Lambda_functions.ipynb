{
  "nbformat": 4,
  "nbformat_minor": 0,
  "metadata": {
    "colab": {
      "provenance": []
    },
    "kernelspec": {
      "name": "python3",
      "display_name": "Python 3"
    },
    "language_info": {
      "name": "python"
    }
  },
  "cells": [
    {
      "cell_type": "markdown",
      "source": [
        "#**Python Lambda Functions**"
      ],
      "metadata": {
        "id": "-AgvePkC9kx-"
      }
    },
    {
      "cell_type": "code",
      "source": [
        "import pandas as pd\n",
        "import numpy as np"
      ],
      "metadata": {
        "id": "ALg3-eAa8KuL"
      },
      "execution_count": null,
      "outputs": []
    },
    {
      "cell_type": "code",
      "execution_count": null,
      "metadata": {
        "colab": {
          "base_uri": "https://localhost:8080/"
        },
        "id": "mj8CGMDY9i-X",
        "outputId": "f2e196d6-25a4-4c9d-8aae-82deb61e0954"
      },
      "outputs": [
        {
          "output_type": "stream",
          "name": "stdout",
          "text": [
            "20\n"
          ]
        }
      ],
      "source": [
        "x = lambda a: a + 10\n",
        "print(x(10))"
      ]
    },
    {
      "cell_type": "code",
      "source": [
        "x = lambda a, b: a*b+10\n",
        "print(x(2,8))"
      ],
      "metadata": {
        "colab": {
          "base_uri": "https://localhost:8080/"
        },
        "id": "C8DcAa4U9qLT",
        "outputId": "ba414ef9-f628-4c47-b839-8798b351c874"
      },
      "execution_count": null,
      "outputs": [
        {
          "output_type": "stream",
          "name": "stdout",
          "text": [
            "26\n"
          ]
        }
      ]
    },
    {
      "cell_type": "code",
      "source": [
        "x = lambda a,b,c: a*b*c\n",
        "print(x(3,6,9))"
      ],
      "metadata": {
        "colab": {
          "base_uri": "https://localhost:8080/"
        },
        "id": "F28EcJYk9sLv",
        "outputId": "e65e455c-2e1f-4ffc-c0c2-8c871d1f92d1"
      },
      "execution_count": null,
      "outputs": [
        {
          "output_type": "stream",
          "name": "stdout",
          "text": [
            "162\n"
          ]
        }
      ]
    },
    {
      "cell_type": "code",
      "source": [
        "Max = lambda a, b : a if(a > b) else b\n",
        "print(Max(12,-12))"
      ],
      "metadata": {
        "colab": {
          "base_uri": "https://localhost:8080/"
        },
        "id": "yqLvOilu-Dre",
        "outputId": "bdb30153-70d3-4268-fa8d-18f1e1a663e0"
      },
      "execution_count": null,
      "outputs": [
        {
          "output_type": "stream",
          "name": "stdout",
          "text": [
            "12\n"
          ]
        }
      ]
    },
    {
      "cell_type": "code",
      "source": [
        "Max = lambda a, b : a if(a > b) else b\n",
        "print(Max(12,211))"
      ],
      "metadata": {
        "colab": {
          "base_uri": "https://localhost:8080/"
        },
        "id": "Ybk3Fr3b-OLi",
        "outputId": "3353a851-3c2c-4daf-ea1a-91d43da338f8"
      },
      "execution_count": null,
      "outputs": [
        {
          "output_type": "stream",
          "name": "stdout",
          "text": [
            "211\n"
          ]
        }
      ]
    },
    {
      "cell_type": "code",
      "source": [
        "result = lambda x,y : f\"{x} is smaller than {y}\" \\\n",
        "if x < y else (f\"{x} is greater than {y}\" if x > y \\\n",
        "               else f\"{x} is equal to {y}\")\n",
        "\n",
        "print(result(12, 11))\n",
        "print(result(12, 12))\n",
        "print(result(12, 13))"
      ],
      "metadata": {
        "colab": {
          "base_uri": "https://localhost:8080/"
        },
        "id": "iW9RuLMT_pCe",
        "outputId": "667f914a-8ad9-4baf-a688-432f61c3f330"
      },
      "execution_count": null,
      "outputs": [
        {
          "output_type": "stream",
          "name": "stdout",
          "text": [
            "12 is greater than 11\n",
            "12 is equal to 12\n",
            "12 is smaller than 13\n"
          ]
        }
      ]
    },
    {
      "cell_type": "code",
      "source": [
        "# if (percentage >= 78):\n",
        "#   print('pass with first class distinction')\n",
        "# elif (percentage >= 60):\n",
        "#   print('pass with first class')\n",
        "# elif (percentage >= 40):\n",
        "#   print('pass with second class')\n",
        "# elif (percentage >= 33):\n",
        "#   print('pass with third class')\n",
        "# else:\n",
        "#   print('better luck next time')\n",
        "\n",
        "\n",
        "result = lambda percentage : f\"{percentage} pass with first class distinction\" if percentage >= 78 else (\\\n",
        "                          f\"{percentage} pass with first class\" if percentage >= 60 else (\\\n",
        "                          f\"{percentage} pass with second class\" if percentage >= 40 else (\\\n",
        "                          f\"{percentage} pass with third class\" if percentage >= 33 else (\\\n",
        "                          f\"{percentage} better luck next time\"))))\n",
        "\n",
        "result(55), result(79), result(69), result(59), result(49), result(39), result(29), result(19), result(9), result(89), result(99)"
      ],
      "metadata": {
        "id": "ekR6UImgAywc",
        "colab": {
          "base_uri": "https://localhost:8080/"
        },
        "outputId": "33a0f939-0e72-4a6c-91c8-5b6dba93c566"
      },
      "execution_count": null,
      "outputs": [
        {
          "output_type": "execute_result",
          "data": {
            "text/plain": [
              "('55 pass with second class',\n",
              " '79 pass with first class distinction',\n",
              " '69 pass with first class',\n",
              " '59 pass with second class',\n",
              " '49 pass with second class',\n",
              " '39 pass with third class',\n",
              " '29 better luck next time',\n",
              " '19 better luck next time',\n",
              " '9 better luck next time',\n",
              " '89 pass with first class distinction',\n",
              " '99 pass with first class distinction')"
            ]
          },
          "metadata": {},
          "execution_count": 51
        }
      ]
    },
    {
      "cell_type": "code",
      "source": [
        "# if x < y:\n",
        "#   print(x, 'is smaller than', y)\n",
        "# elif x > y:\n",
        "#   print(x, 'is greater than', y)\n",
        "# else:\n",
        "#   print(x, 'is equal to', y)\n",
        "\n",
        "\n",
        "# Lambda Equivalent\n",
        "result = lambda x,y : f\"{x} is smaller than {y}\" \\\n",
        "if x < y else (f\"{x} is greater than {y}\" if x > y \\\n",
        "               else f\"{x} is equal to {y}\")"
      ],
      "metadata": {
        "id": "oxxsDpse7_oH"
      },
      "execution_count": null,
      "outputs": []
    },
    {
      "cell_type": "code",
      "source": [
        "def func_sum(a,b):\n",
        "  return a + b"
      ],
      "metadata": {
        "id": "L_2zDPsp_qzi"
      },
      "execution_count": null,
      "outputs": []
    },
    {
      "cell_type": "code",
      "source": [
        "def func_sum(a,b,c,d):\n",
        "  return a + b + c + d"
      ],
      "metadata": {
        "id": "-86Vt0HX_4JP"
      },
      "execution_count": null,
      "outputs": []
    },
    {
      "cell_type": "code",
      "source": [
        "def func_sum(a,b,c,d,a1,b1,c1,d1):\n",
        "  return a + b + c + d + a1 + b1 + c1 + d1"
      ],
      "metadata": {
        "id": "E1noEcUdAAK8"
      },
      "execution_count": null,
      "outputs": []
    },
    {
      "cell_type": "code",
      "source": [
        "def func_sum(*args): # *args(Non-key arguments)--->can take any no. and kind of values\n",
        "  return args"
      ],
      "metadata": {
        "id": "x7OLeXGuBja4"
      },
      "execution_count": null,
      "outputs": []
    },
    {
      "cell_type": "code",
      "source": [
        "def func_sum(*args):\n",
        "  return args"
      ],
      "metadata": {
        "id": "DYLoBnZqB8eX"
      },
      "execution_count": null,
      "outputs": []
    },
    {
      "cell_type": "code",
      "source": [
        "func_sum (1,5,8,9,5,33,66,7,99,100)"
      ],
      "metadata": {
        "colab": {
          "base_uri": "https://localhost:8080/"
        },
        "id": "iNrJT98VBvVQ",
        "outputId": "3872e97b-81e2-4a19-c484-8ebd1b86a177"
      },
      "execution_count": null,
      "outputs": [
        {
          "output_type": "execute_result",
          "data": {
            "text/plain": [
              "(1, 5, 8, 9, 5, 33, 66, 7, 99, 100)"
            ]
          },
          "metadata": {},
          "execution_count": 59
        }
      ]
    },
    {
      "cell_type": "code",
      "source": [
        "def func_sum(*reshma): #args is not a key word, it can take any argument w/o any key\n",
        "  sum=0\n",
        "  for a in reshma:\n",
        "    sum += a\n",
        "  print (\"The total sum is \", sum)"
      ],
      "metadata": {
        "id": "A5SfBW6QDDxe"
      },
      "execution_count": null,
      "outputs": []
    },
    {
      "cell_type": "code",
      "source": [
        "func_sum (1,2,3,4,5,6,7,8,9)"
      ],
      "metadata": {
        "colab": {
          "base_uri": "https://localhost:8080/"
        },
        "id": "_xoOFxo0DnIM",
        "outputId": "190f66e6-7566-473b-90ad-79e822a8c86f"
      },
      "execution_count": null,
      "outputs": [
        {
          "output_type": "stream",
          "name": "stdout",
          "text": [
            "The total sum is  45\n"
          ]
        }
      ]
    },
    {
      "cell_type": "code",
      "source": [
        "def func_sum(a,b,c,*args):\n",
        "  return a+b+c+(sum(args))"
      ],
      "metadata": {
        "id": "36uplUn7FGxE"
      },
      "execution_count": null,
      "outputs": []
    },
    {
      "cell_type": "code",
      "source": [
        "func_sum(12,23,34,45,56,67,78,89,90) #12,23,34 goes to a,b,c respectively and other remaining goes to *args"
      ],
      "metadata": {
        "colab": {
          "base_uri": "https://localhost:8080/"
        },
        "id": "StYXpeYhFr-G",
        "outputId": "b5014893-1459-4376-e481-e5ee6edaee59"
      },
      "execution_count": null,
      "outputs": [
        {
          "output_type": "execute_result",
          "data": {
            "text/plain": [
              "494"
            ]
          },
          "metadata": {},
          "execution_count": 63
        }
      ]
    },
    {
      "cell_type": "code",
      "source": [
        "def func_sum(*args,a,b,c,d,e): #this'll give error as *args will not allow any variable after that...so a,b,c,d,e can't have any variables\n",
        "  return a+b+c+d+e(sum(args))"
      ],
      "metadata": {
        "id": "t9YvtMvCGDXc"
      },
      "execution_count": null,
      "outputs": []
    },
    {
      "cell_type": "code",
      "source": [
        "func_sum(12,23,34,45,56,67,78,89,90)"
      ],
      "metadata": {
        "colab": {
          "base_uri": "https://localhost:8080/",
          "height": 176
        },
        "id": "stF7nGq2GRm7",
        "outputId": "59d3b13a-a9c5-4ae6-f5c4-8772c1aedf14"
      },
      "execution_count": null,
      "outputs": [
        {
          "output_type": "error",
          "ename": "TypeError",
          "evalue": "ignored",
          "traceback": [
            "\u001b[0;31m---------------------------------------------------------------------------\u001b[0m",
            "\u001b[0;31mTypeError\u001b[0m                                 Traceback (most recent call last)",
            "\u001b[0;32m<ipython-input-66-2980b39a1ade>\u001b[0m in \u001b[0;36m<cell line: 1>\u001b[0;34m()\u001b[0m\n\u001b[0;32m----> 1\u001b[0;31m \u001b[0mfunc_sum\u001b[0m\u001b[0;34m(\u001b[0m\u001b[0;36m12\u001b[0m\u001b[0;34m,\u001b[0m\u001b[0;36m23\u001b[0m\u001b[0;34m,\u001b[0m\u001b[0;36m34\u001b[0m\u001b[0;34m,\u001b[0m\u001b[0;36m45\u001b[0m\u001b[0;34m,\u001b[0m\u001b[0;36m56\u001b[0m\u001b[0;34m,\u001b[0m\u001b[0;36m67\u001b[0m\u001b[0;34m,\u001b[0m\u001b[0;36m78\u001b[0m\u001b[0;34m,\u001b[0m\u001b[0;36m89\u001b[0m\u001b[0;34m,\u001b[0m\u001b[0;36m90\u001b[0m\u001b[0;34m)\u001b[0m\u001b[0;34m\u001b[0m\u001b[0;34m\u001b[0m\u001b[0m\n\u001b[0m",
            "\u001b[0;31mTypeError\u001b[0m: func_sum() missing 5 required keyword-only arguments: 'a', 'b', 'c', 'd', and 'e'"
          ]
        }
      ]
    },
    {
      "cell_type": "code",
      "source": [
        "def func_sum(*args): # *args (Non-Keyword Arguments)\n",
        "  return args"
      ],
      "metadata": {
        "id": "0kR4ggpVKD1C"
      },
      "execution_count": null,
      "outputs": []
    },
    {
      "cell_type": "code",
      "source": [
        "func_sum(12,23,34,45,56,67,78,89,90,101)"
      ],
      "metadata": {
        "colab": {
          "base_uri": "https://localhost:8080/"
        },
        "id": "JIPM8M-EKU04",
        "outputId": "ed8226a4-28f1-4710-cbf7-c93dfc352998"
      },
      "execution_count": null,
      "outputs": [
        {
          "output_type": "execute_result",
          "data": {
            "text/plain": [
              "(12, 23, 34, 45, 56, 67, 78, 89, 90, 101)"
            ]
          },
          "metadata": {},
          "execution_count": 69
        }
      ]
    },
    {
      "cell_type": "code",
      "source": [
        "func_sum([12,23,34],(45,56,67),78,89,90,101)"
      ],
      "metadata": {
        "colab": {
          "base_uri": "https://localhost:8080/"
        },
        "id": "rAOWzuT_KXaM",
        "outputId": "c37617b8-9b79-429f-c667-3dd99bfc5ead"
      },
      "execution_count": null,
      "outputs": [
        {
          "output_type": "execute_result",
          "data": {
            "text/plain": [
              "([12, 23, 34], (45, 56, 67), 78, 89, 90, 101)"
            ]
          },
          "metadata": {},
          "execution_count": 70
        }
      ]
    },
    {
      "cell_type": "code",
      "source": [
        "func_sum({12,23,34,45,56},67,78,89,90,101)"
      ],
      "metadata": {
        "colab": {
          "base_uri": "https://localhost:8080/"
        },
        "id": "5_OWR6RAKZ7q",
        "outputId": "11fff7e5-5499-46da-ee11-beb44f107327"
      },
      "execution_count": null,
      "outputs": [
        {
          "output_type": "execute_result",
          "data": {
            "text/plain": [
              "({12, 23, 34, 45, 56}, 67, 78, 89, 90, 101)"
            ]
          },
          "metadata": {},
          "execution_count": 71
        }
      ]
    },
    {
      "cell_type": "code",
      "source": [
        "func_sum({'a':12,'b':23,'c':34,'d':45,'e':56},67,78,89,90,101)"
      ],
      "metadata": {
        "colab": {
          "base_uri": "https://localhost:8080/"
        },
        "id": "avkDJ91iKdOC",
        "outputId": "90f2eea0-15c9-4997-a38a-7883dee19ad2"
      },
      "execution_count": null,
      "outputs": [
        {
          "output_type": "execute_result",
          "data": {
            "text/plain": [
              "({'a': 12, 'b': 23, 'c': 34, 'd': 45, 'e': 56}, 67, 78, 89, 90, 101)"
            ]
          },
          "metadata": {},
          "execution_count": 72
        }
      ]
    },
    {
      "cell_type": "code",
      "source": [
        "def func_sum(**kwargs): #keyword Arguments (We pass the value in the form of key and value)\n",
        "  return kwargs"
      ],
      "metadata": {
        "id": "SmucBxTZKiyc"
      },
      "execution_count": null,
      "outputs": []
    },
    {
      "cell_type": "code",
      "source": [
        "func_sum(fname='Reshma', mname='Rai', lname='Sarker')"
      ],
      "metadata": {
        "colab": {
          "base_uri": "https://localhost:8080/"
        },
        "id": "OzBlAF-4KqGG",
        "outputId": "5a610691-d3ca-4fba-9178-47cc5f6e1e9a"
      },
      "execution_count": null,
      "outputs": [
        {
          "output_type": "execute_result",
          "data": {
            "text/plain": [
              "{'fname': 'Reshma', 'mname': 'Rai', 'lname': 'Sarker'}"
            ]
          },
          "metadata": {},
          "execution_count": 74
        }
      ]
    },
    {
      "cell_type": "code",
      "source": [
        "# def func_sum(*rs):\n",
        "#   return rs\n",
        "\n",
        "def func_sum(**rs):\n",
        "  return rs\n",
        "\n",
        "print (func_sum(a=1, b=2, c=3, d=4))"
      ],
      "metadata": {
        "colab": {
          "base_uri": "https://localhost:8080/"
        },
        "id": "V5hkaBQEK9Py",
        "outputId": "4ee74f2e-cf01-493d-c6dd-8dc9c1de92d2"
      },
      "execution_count": null,
      "outputs": [
        {
          "output_type": "stream",
          "name": "stdout",
          "text": [
            "{'a': 1, 'b': 2, 'c': 3, 'd': 4}\n"
          ]
        }
      ]
    },
    {
      "cell_type": "code",
      "source": [
        "def func_sum(*args, **kwargs):\n",
        "  print (\"args: \", args)\n",
        "  print (\"kwargs: \", kwargs)\n",
        "\n",
        "func_sum('a','b','c', x=1, y=2, z=3)"
      ],
      "metadata": {
        "colab": {
          "base_uri": "https://localhost:8080/"
        },
        "id": "-mc7T_enMkor",
        "outputId": "b4c0304d-011d-4509-cbe7-65c5ae2cd033"
      },
      "execution_count": null,
      "outputs": [
        {
          "output_type": "stream",
          "name": "stdout",
          "text": [
            "args:  ('a', 'b', 'c')\n",
            "kwargs:  {'x': 1, 'y': 2, 'z': 3}\n"
          ]
        }
      ]
    },
    {
      "cell_type": "code",
      "source": [
        "def func_sum(*args,**kwargs,a,b,c):\n",
        "  return a,b,c,args,kwargs\n",
        "\n",
        "func_sum(a,b,c,d,e,1,2,x=1,y=2)"
      ],
      "metadata": {
        "colab": {
          "base_uri": "https://localhost:8080/",
          "height": 141
        },
        "id": "sD7RsHqEP1T2",
        "outputId": "c1f8fcc1-fd26-48a0-f12a-d642993e5f7e"
      },
      "execution_count": null,
      "outputs": [
        {
          "output_type": "error",
          "ename": "SyntaxError",
          "evalue": "ignored",
          "traceback": [
            "\u001b[0;36m  File \u001b[0;32m\"<ipython-input-77-bdd59c9044a8>\"\u001b[0;36m, line \u001b[0;32m1\u001b[0m\n\u001b[0;31m    def func_sum(*args,**kwargs,a,b,c):\u001b[0m\n\u001b[0m                                ^\u001b[0m\n\u001b[0;31mSyntaxError\u001b[0m\u001b[0;31m:\u001b[0m invalid syntax\n"
          ]
        }
      ]
    },
    {
      "cell_type": "markdown",
      "source": [
        "#**Wednesday, September 13, 2023**"
      ],
      "metadata": {
        "id": "2dxYQAV5DMUv"
      }
    },
    {
      "cell_type": "code",
      "source": [
        "for i in range(100):\n",
        "  print(i)"
      ],
      "metadata": {
        "colab": {
          "base_uri": "https://localhost:8080/"
        },
        "id": "wFY18Lip9vjY",
        "outputId": "02bf2163-69e0-43af-c33c-5078ebcc9678"
      },
      "execution_count": null,
      "outputs": [
        {
          "output_type": "stream",
          "name": "stdout",
          "text": [
            "0\n",
            "1\n",
            "2\n",
            "3\n",
            "4\n",
            "5\n",
            "6\n",
            "7\n",
            "8\n",
            "9\n",
            "10\n",
            "11\n",
            "12\n",
            "13\n",
            "14\n",
            "15\n",
            "16\n",
            "17\n",
            "18\n",
            "19\n",
            "20\n",
            "21\n",
            "22\n",
            "23\n",
            "24\n",
            "25\n",
            "26\n",
            "27\n",
            "28\n",
            "29\n",
            "30\n",
            "31\n",
            "32\n",
            "33\n",
            "34\n",
            "35\n",
            "36\n",
            "37\n",
            "38\n",
            "39\n",
            "40\n",
            "41\n",
            "42\n",
            "43\n",
            "44\n",
            "45\n",
            "46\n",
            "47\n",
            "48\n",
            "49\n",
            "50\n",
            "51\n",
            "52\n",
            "53\n",
            "54\n",
            "55\n",
            "56\n",
            "57\n",
            "58\n",
            "59\n",
            "60\n",
            "61\n",
            "62\n",
            "63\n",
            "64\n",
            "65\n",
            "66\n",
            "67\n",
            "68\n",
            "69\n",
            "70\n",
            "71\n",
            "72\n",
            "73\n",
            "74\n",
            "75\n",
            "76\n",
            "77\n",
            "78\n",
            "79\n",
            "80\n",
            "81\n",
            "82\n",
            "83\n",
            "84\n",
            "85\n",
            "86\n",
            "87\n",
            "88\n",
            "89\n",
            "90\n",
            "91\n",
            "92\n",
            "93\n",
            "94\n",
            "95\n",
            "96\n",
            "97\n",
            "98\n",
            "99\n"
          ]
        }
      ]
    },
    {
      "cell_type": "code",
      "source": [
        "# list comprehension\n",
        "\n",
        "lst_comp1 = [i for i in range(100)]\n",
        "print(lst_comp1)"
      ],
      "metadata": {
        "colab": {
          "base_uri": "https://localhost:8080/"
        },
        "id": "74XwOjz19xYQ",
        "outputId": "bbec6b69-eb66-4df9-bd7a-cdb9d7356e48"
      },
      "execution_count": null,
      "outputs": [
        {
          "output_type": "stream",
          "name": "stdout",
          "text": [
            "[0, 1, 2, 3, 4, 5, 6, 7, 8, 9, 10, 11, 12, 13, 14, 15, 16, 17, 18, 19, 20, 21, 22, 23, 24, 25, 26, 27, 28, 29, 30, 31, 32, 33, 34, 35, 36, 37, 38, 39, 40, 41, 42, 43, 44, 45, 46, 47, 48, 49, 50, 51, 52, 53, 54, 55, 56, 57, 58, 59, 60, 61, 62, 63, 64, 65, 66, 67, 68, 69, 70, 71, 72, 73, 74, 75, 76, 77, 78, 79, 80, 81, 82, 83, 84, 85, 86, 87, 88, 89, 90, 91, 92, 93, 94, 95, 96, 97, 98, 99]\n"
          ]
        }
      ]
    },
    {
      "cell_type": "code",
      "source": [
        "for i in range(100):\n",
        "  if i%3 == 0:\n",
        "    print(i)"
      ],
      "metadata": {
        "colab": {
          "base_uri": "https://localhost:8080/"
        },
        "id": "Q69p0T5S9zJY",
        "outputId": "41d48ee9-c088-4c6a-f231-7824ec9ab7b1"
      },
      "execution_count": null,
      "outputs": [
        {
          "output_type": "stream",
          "name": "stdout",
          "text": [
            "0\n",
            "3\n",
            "6\n",
            "9\n",
            "12\n",
            "15\n",
            "18\n",
            "21\n",
            "24\n",
            "27\n",
            "30\n",
            "33\n",
            "36\n",
            "39\n",
            "42\n",
            "45\n",
            "48\n",
            "51\n",
            "54\n",
            "57\n",
            "60\n",
            "63\n",
            "66\n",
            "69\n",
            "72\n",
            "75\n",
            "78\n",
            "81\n",
            "84\n",
            "87\n",
            "90\n",
            "93\n",
            "96\n",
            "99\n"
          ]
        }
      ]
    },
    {
      "cell_type": "code",
      "source": [
        "# list comprehension\n",
        "\n",
        "lst_comp2 = [i for i in range(100) if i%3==0]\n",
        "print(lst_comp2)"
      ],
      "metadata": {
        "colab": {
          "base_uri": "https://localhost:8080/"
        },
        "id": "9hq3Nw3p90tM",
        "outputId": "3a8d5459-c5bd-4001-90b4-e3e0d34d03fa"
      },
      "execution_count": null,
      "outputs": [
        {
          "output_type": "stream",
          "name": "stdout",
          "text": [
            "[0, 3, 6, 9, 12, 15, 18, 21, 24, 27, 30, 33, 36, 39, 42, 45, 48, 51, 54, 57, 60, 63, 66, 69, 72, 75, 78, 81, 84, 87, 90, 93, 96, 99]\n"
          ]
        }
      ]
    },
    {
      "cell_type": "code",
      "source": [
        "fruit_lst = ['apple','red apple','green apple','pineapple','pink apple', 'banana', 'cherries', 'dates', 'eggfruit', 'fig', 'grapes']\n",
        "lst_comp = [i for i in fruit_lst if 'apple' in i]\n",
        "print(lst_comp)"
      ],
      "metadata": {
        "colab": {
          "base_uri": "https://localhost:8080/"
        },
        "id": "OXICBKK3DR2y",
        "outputId": "abd8adeb-b985-4ee2-e4db-630b3de1d142"
      },
      "execution_count": null,
      "outputs": [
        {
          "output_type": "stream",
          "name": "stdout",
          "text": [
            "['apple', 'red apple', 'green apple', 'pineapple', 'pink apple']\n"
          ]
        }
      ]
    },
    {
      "cell_type": "code",
      "source": [
        "fruit_lst = ['apple','red apple','green apple','pineapple','pink apple', 'banana', 'cherries', 'dates', 'eggfruit', 'fig', 'grapes']\n",
        "lst_comp = [i for i in fruit_lst if 'apple' not in i]\n",
        "print(lst_comp)"
      ],
      "metadata": {
        "colab": {
          "base_uri": "https://localhost:8080/"
        },
        "id": "qJ585mm9FW3H",
        "outputId": "4700e3f0-e430-41b7-f144-02dcc9701810"
      },
      "execution_count": null,
      "outputs": [
        {
          "output_type": "stream",
          "name": "stdout",
          "text": [
            "['banana', 'cherries', 'dates', 'eggfruit', 'fig', 'grapes']\n"
          ]
        }
      ]
    },
    {
      "cell_type": "code",
      "source": [
        "fruits_lst = ['apple','banana','cherries','dates','eggfruit','fig','graphs']\n",
        "for i in fruits_lst:\n",
        "  if 'a' in i:\n",
        "    print(i)"
      ],
      "metadata": {
        "colab": {
          "base_uri": "https://localhost:8080/"
        },
        "id": "AnHHZ15J-YKv",
        "outputId": "cc439c6b-9507-49a4-e4f6-119378fc4acc"
      },
      "execution_count": null,
      "outputs": [
        {
          "output_type": "stream",
          "name": "stdout",
          "text": [
            "apple\n",
            "banana\n",
            "dates\n",
            "graphs\n"
          ]
        }
      ]
    },
    {
      "cell_type": "code",
      "source": [
        "fruits_lst = ['apple','banana','cherries','dates','eggfruit','fig','graphs']\n",
        "lst_comp3 = [i for i in fruits_lst if 'a' in i]\n",
        "print(lst_comp3)"
      ],
      "metadata": {
        "colab": {
          "base_uri": "https://localhost:8080/"
        },
        "id": "Fqs3egLO-aK9",
        "outputId": "2ea5a626-81ed-47d2-f246-7dc57b7973fd"
      },
      "execution_count": null,
      "outputs": [
        {
          "output_type": "stream",
          "name": "stdout",
          "text": [
            "['apple', 'banana', 'dates', 'graphs']\n"
          ]
        }
      ]
    },
    {
      "cell_type": "code",
      "source": [
        "fruits_apple = ['apple','banana','custurd apple','cherries','pineapple','dates','green apple','eggfruit','red apple','fig','graphs']\n",
        "lst_cmp4 = [i for i in fruits_apple if 'apple' in i]\n",
        "print(lst_cmp4)"
      ],
      "metadata": {
        "colab": {
          "base_uri": "https://localhost:8080/"
        },
        "id": "VUVRPAC--ggy",
        "outputId": "eea0db3e-a2ae-4ea7-d241-4d6aff24f52e"
      },
      "execution_count": null,
      "outputs": [
        {
          "output_type": "stream",
          "name": "stdout",
          "text": [
            "['apple', 'custurd apple', 'pineapple', 'green apple', 'red apple']\n"
          ]
        }
      ]
    },
    {
      "cell_type": "code",
      "source": [
        "fruits_apple = ['apple','banana','custurd apple','cherries','pineapple','dates','green apple','eggfruit','red apple','fig','graphs']\n",
        "lst_cmp4 = [i for i in fruits_apple if 'apple' not in i]\n",
        "print(lst_cmp4)"
      ],
      "metadata": {
        "id": "g4iN3Szy-iWG",
        "outputId": "42d84679-6873-4107-afb2-cf91238ecda4",
        "colab": {
          "base_uri": "https://localhost:8080/"
        }
      },
      "execution_count": null,
      "outputs": [
        {
          "output_type": "stream",
          "name": "stdout",
          "text": [
            "['banana', 'cherries', 'dates', 'eggfruit', 'fig', 'graphs']\n"
          ]
        }
      ]
    },
    {
      "cell_type": "code",
      "source": [
        "names = ['Ch', 'Dh', 'Eb', 'cb', 'Tb', 'Td']\n",
        "lst_comp1 = [i for i in names if 'c' in i or 'C' in i]\n",
        "print(lst_comp1)"
      ],
      "metadata": {
        "colab": {
          "base_uri": "https://localhost:8080/"
        },
        "id": "wFpftzv0ItcC",
        "outputId": "9d27141f-d2a7-4e22-8be2-364da9214ea6"
      },
      "execution_count": null,
      "outputs": [
        {
          "output_type": "stream",
          "name": "stdout",
          "text": [
            "['Ch', 'cb']\n"
          ]
        }
      ]
    },
    {
      "cell_type": "code",
      "source": [
        "names = ['Ch', 'Dh', 'Eb', 'cb', 'Tb', 'Td']\n",
        "lst_comp1 = [i for i in names if i[0] =='c' or i[0] == 'C' in i]\n",
        "print(lst_comp1)"
      ],
      "metadata": {
        "colab": {
          "base_uri": "https://localhost:8080/"
        },
        "id": "26NDmKn4Jm97",
        "outputId": "b6d52cd1-1f7f-49e7-f0a3-858d10254e24"
      },
      "execution_count": null,
      "outputs": [
        {
          "output_type": "stream",
          "name": "stdout",
          "text": [
            "['Ch', 'cb']\n"
          ]
        }
      ]
    },
    {
      "cell_type": "code",
      "source": [
        "names = ['Ch', 'Dh', 'Eb', 'cb', 'Tb', 'Td','xc','XC']\n",
        "lst_comp =[i for i in names if 'c' in i.lower()]\n",
        "print(lst_comp)\n"
      ],
      "metadata": {
        "colab": {
          "base_uri": "https://localhost:8080/"
        },
        "id": "F46CPhboK6RB",
        "outputId": "a63b9e99-4b81-443e-e153-6245f6f8bb6f"
      },
      "execution_count": null,
      "outputs": [
        {
          "output_type": "stream",
          "name": "stdout",
          "text": [
            "['Ch', 'cb', 'xc', 'XC']\n"
          ]
        }
      ]
    },
    {
      "cell_type": "code",
      "source": [
        "lst_matrix = [i for i in range(3)]\n",
        "lst_matrix"
      ],
      "metadata": {
        "colab": {
          "base_uri": "https://localhost:8080/"
        },
        "id": "x5Ekle7kMJRo",
        "outputId": "7fa3b557-a86f-47bd-a928-54dd1bbc204f"
      },
      "execution_count": null,
      "outputs": [
        {
          "output_type": "execute_result",
          "data": {
            "text/plain": [
              "[0, 1, 2]"
            ]
          },
          "metadata": {},
          "execution_count": 121
        }
      ]
    },
    {
      "cell_type": "code",
      "source": [
        "lst_matrix = [[i for i in range(3)] for j in range(3)] # for each value of j, 'i' will run that much times\n",
        "lst_matrix"
      ],
      "metadata": {
        "colab": {
          "base_uri": "https://localhost:8080/"
        },
        "id": "dMXVcsjCLgSp",
        "outputId": "2db32027-fcbf-464b-f1fc-391b93ba0642"
      },
      "execution_count": null,
      "outputs": [
        {
          "output_type": "execute_result",
          "data": {
            "text/plain": [
              "[[0, 1, 2], [0, 1, 2], [0, 1, 2]]"
            ]
          },
          "metadata": {},
          "execution_count": 122
        }
      ]
    },
    {
      "cell_type": "code",
      "source": [
        "#divisible by 5 and 10.\n",
        "lst1 = [i for i in range(101) if i%5==0 if i%10==0]\n",
        "lst1"
      ],
      "metadata": {
        "colab": {
          "base_uri": "https://localhost:8080/"
        },
        "id": "LE_ZMaOsMwaG",
        "outputId": "f40e2a48-0222-4ece-b16e-bdf2fa8bef81"
      },
      "execution_count": null,
      "outputs": [
        {
          "output_type": "execute_result",
          "data": {
            "text/plain": [
              "[0, 10, 20, 30, 40, 50, 60, 70, 80, 90, 100]"
            ]
          },
          "metadata": {},
          "execution_count": 123
        }
      ]
    },
    {
      "cell_type": "code",
      "source": [
        "#divisible by 5 and 10.\n",
        "lst1 = [i for i in range(101) if i%5==0 and i%10==0]\n",
        "lst1"
      ],
      "metadata": {
        "colab": {
          "base_uri": "https://localhost:8080/"
        },
        "id": "PuxmjkBnOH0p",
        "outputId": "fed6b081-8bc5-4021-dd3c-e19c40e4b056"
      },
      "execution_count": null,
      "outputs": [
        {
          "output_type": "execute_result",
          "data": {
            "text/plain": [
              "[0, 10, 20, 30, 40, 50, 60, 70, 80, 90, 100]"
            ]
          },
          "metadata": {},
          "execution_count": 124
        }
      ]
    },
    {
      "cell_type": "code",
      "source": [
        "#divisible by 5 and 10 and 12.\n",
        "lst1 = [i for i in range(101) if i%5==0 if i%10==0 if i%12==0]\n",
        "lst1"
      ],
      "metadata": {
        "colab": {
          "base_uri": "https://localhost:8080/"
        },
        "id": "ni9kpGQTOWoY",
        "outputId": "144ac10b-0b3e-4654-fdd7-dbceb4505a70"
      },
      "execution_count": null,
      "outputs": [
        {
          "output_type": "execute_result",
          "data": {
            "text/plain": [
              "[0, 60]"
            ]
          },
          "metadata": {},
          "execution_count": 125
        }
      ]
    },
    {
      "cell_type": "code",
      "source": [
        "ndim2array = [[10,20,30],\n",
        "              [40,50,60],\n",
        "              [70,80,90]]\n",
        "\n",
        "lst1 = [[i[j] for i in ndim2array] for j in range(len(ndim2array[0]))]\n",
        "lst1"
      ],
      "metadata": {
        "colab": {
          "base_uri": "https://localhost:8080/"
        },
        "id": "lXnlZHdOPfB6",
        "outputId": "9921b6ec-fb36-4be4-ceb1-a6d9065eaefc"
      },
      "execution_count": null,
      "outputs": [
        {
          "output_type": "execute_result",
          "data": {
            "text/plain": [
              "[[10, 40, 70], [20, 50, 80], [30, 60, 90]]"
            ]
          },
          "metadata": {},
          "execution_count": 126
        }
      ]
    },
    {
      "cell_type": "code",
      "source": [
        "#Dictionary Comprehension\n",
        "\n",
        "dictCompre = {i: f\"Item{i}\" for i in range(10)}\n",
        "dictCompre"
      ],
      "metadata": {
        "colab": {
          "base_uri": "https://localhost:8080/"
        },
        "id": "qSbZ_2QUSaN4",
        "outputId": "8a57ec13-ca12-467b-fa3a-0a6a8301bbc1"
      },
      "execution_count": null,
      "outputs": [
        {
          "output_type": "execute_result",
          "data": {
            "text/plain": [
              "{0: 'Item0',\n",
              " 1: 'Item1',\n",
              " 2: 'Item2',\n",
              " 3: 'Item3',\n",
              " 4: 'Item4',\n",
              " 5: 'Item5',\n",
              " 6: 'Item6',\n",
              " 7: 'Item7',\n",
              " 8: 'Item8',\n",
              " 9: 'Item9'}"
            ]
          },
          "metadata": {},
          "execution_count": 127
        }
      ]
    },
    {
      "cell_type": "code",
      "source": [
        "for i in range(10):\n",
        "  print(i,': Item',+i)"
      ],
      "metadata": {
        "colab": {
          "base_uri": "https://localhost:8080/"
        },
        "id": "X6nVM6ZPT2mU",
        "outputId": "c657459e-6a17-444e-a21c-e4971e13b676"
      },
      "execution_count": null,
      "outputs": [
        {
          "output_type": "stream",
          "name": "stdout",
          "text": [
            "0 : Item 0\n",
            "1 : Item 1\n",
            "2 : Item 2\n",
            "3 : Item 3\n",
            "4 : Item 4\n",
            "5 : Item 5\n",
            "6 : Item 6\n",
            "7 : Item 7\n",
            "8 : Item 8\n",
            "9 : Item 9\n"
          ]
        }
      ]
    },
    {
      "cell_type": "code",
      "source": [
        "#Set Comprehension\n",
        "set = {1,2,3,'a','a','#','&',1,1,1,99,900}\n",
        "setCompre = {i for i in set}\n",
        "setCompre"
      ],
      "metadata": {
        "colab": {
          "base_uri": "https://localhost:8080/"
        },
        "id": "bmA9X6PfUv17",
        "outputId": "de5c1357-378d-4551-c08b-3e86ca56c116"
      },
      "execution_count": null,
      "outputs": [
        {
          "output_type": "execute_result",
          "data": {
            "text/plain": [
              "{'#', '&', 1, 2, 3, 900, 99, 'a'}"
            ]
          },
          "metadata": {},
          "execution_count": 129
        }
      ]
    }
  ]
}