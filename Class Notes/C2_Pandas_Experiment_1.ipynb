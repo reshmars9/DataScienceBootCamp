{
  "nbformat": 4,
  "nbformat_minor": 0,
  "metadata": {
    "colab": {
      "provenance": []
    },
    "kernelspec": {
      "name": "python3",
      "display_name": "Python 3"
    },
    "language_info": {
      "name": "python"
    }
  },
  "cells": [
    {
      "cell_type": "markdown",
      "source": [
        "#**September 14, 2023**"
      ],
      "metadata": {
        "id": "k0BagMaM0Dnx"
      }
    },
    {
      "cell_type": "code",
      "source": [
        "# need to ask user for a number\n",
        "\n",
        "# ask user for how many rows needed\n",
        "\n",
        "\n",
        "\n",
        "\n",
        "# number of rows is basically where iteration stops\n",
        "\n",
        "# csv should be 3 columns\n",
        "\n",
        "# 1st column is like 5,5,10,15,25,40,....................\n",
        "\n",
        "# 2nd column is like 5,25,625,.................. square\n",
        "\n",
        "# 3rd 5,125,................. cube"
      ],
      "metadata": {
        "id": "zx_p8Pdl0K2G"
      },
      "execution_count": null,
      "outputs": []
    },
    {
      "cell_type": "code",
      "source": [
        "import pandas as pd\n",
        "\n",
        "num = int(input(\"Enter a number: \"))\n",
        "row = int(input(\"Enter a number of rows required: \"))\n",
        "\n",
        "data = {'Last Consecutive': [], 'Square': [], 'Cube': []}\n",
        "\n",
        "for i in range(row):\n",
        "  n=0\n",
        "  last_consecutive=n + last_consecutive\n",
        "  Square=num*num\n",
        "  Cube=num*num*num\n",
        "\n",
        "  data['Last Consecutive'].append(last_consecutive)\n",
        "  data['Square'].append(Square)\n",
        "  data['Cube'].append(Cube)\n",
        "\n",
        "df = pd.DataFrame(data)\n",
        "\n",
        "df.to_csv('cal.csv', index=False)\n",
        "\n",
        "\n"
      ],
      "metadata": {
        "colab": {
          "base_uri": "https://localhost:8080/"
        },
        "id": "clXmeKX30vsL",
        "outputId": "7b903c64-b910-429b-a903-f8e980405455"
      },
      "execution_count": null,
      "outputs": [
        {
          "name": "stdout",
          "output_type": "stream",
          "text": [
            "Enter a number: 5\n",
            "Enter a number of rows required: 4\n"
          ]
        }
      ]
    },
    {
      "cell_type": "code",
      "source": [
        "import pandas as pd\n",
        "num=int(input(\"Please enter the number you want to play with \"))\n",
        "rows=int(input(\"Please enter rows required\"))\n",
        "\n",
        "\n",
        "all_data=[]\n",
        "for k in range(rows):\n",
        "  if k==0:\n",
        "    all_data.append([num,num,num])\n",
        "  elif k==1:\n",
        "    all_data.append([all_data[-1][0],all_data[-1][1]**2,all_data[-1][2]**3])\n",
        "  elif k>1:\n",
        "    last_element=all_data[-1][0]\n",
        "    second_last=all_data[-2][0]\n",
        "    all_data.append([last_element+second_last,all_data[-1][1]**2,all_data[-1][2]**3])\n",
        "\n",
        "df=pd.DataFrame(all_data,columns=['Sum',\"Square\",\"Cube\"])\n",
        "df.to_csv(\"Data.csv\",index=False)"
      ],
      "metadata": {
        "colab": {
          "base_uri": "https://localhost:8080/"
        },
        "id": "-R5f6eBp9jde",
        "outputId": "61cc0201-3c6f-4183-b715-3f9f6be547ae"
      },
      "execution_count": null,
      "outputs": [
        {
          "name": "stdout",
          "output_type": "stream",
          "text": [
            "Please enter the number you want to play with 5\n",
            "Please enter rows required5\n"
          ]
        }
      ]
    }
  ]
}