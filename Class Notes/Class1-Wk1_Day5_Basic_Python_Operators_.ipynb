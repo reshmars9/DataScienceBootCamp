{
  "nbformat": 4,
  "nbformat_minor": 0,
  "metadata": {
    "colab": {
      "provenance": []
    },
    "kernelspec": {
      "name": "python3",
      "display_name": "Python 3"
    },
    "language_info": {
      "name": "python"
    }
  },
  "cells": [
    {
      "cell_type": "code",
      "source": [
        "# Basic Python Operators"
      ],
      "metadata": {
        "id": "UR2V-UIu7v4S"
      },
      "execution_count": null,
      "outputs": []
    },
    {
      "cell_type": "markdown",
      "source": [
        "#**August 11, 2023**"
      ],
      "metadata": {
        "id": "E_LO6wUK72LK"
      }
    },
    {
      "cell_type": "code",
      "execution_count": null,
      "metadata": {
        "colab": {
          "base_uri": "https://localhost:8080/"
        },
        "id": "CZaLUTlw7dFP",
        "outputId": "81da257c-0cf6-4e0a-d9cc-84d9bf7bb0c2"
      },
      "outputs": [
        {
          "output_type": "stream",
          "name": "stdout",
          "text": [
            "120\n",
            "80\n",
            "2000\n",
            "5.0\n",
            "0\n",
            "5\n",
            "10000000000000000000000000000000000000000\n"
          ]
        }
      ],
      "source": [
        "# arithmetic operators\n",
        "\n",
        "a = 100\n",
        "b = 20\n",
        "\n",
        "print(a + b)\n",
        "print(a - b)\n",
        "print(a * b)\n",
        "print(a / b)\n",
        "print(a % b) # remainder\n",
        "print(a // b) # quotient\n",
        "print(a**b) # exponential"
      ]
    },
    {
      "cell_type": "code",
      "source": [
        "# comparision operators\n",
        "\n",
        "a = 100\n",
        "b = 20\n",
        "\n",
        "print(a == b)\n",
        "print(a != b)\n",
        "print(a > b)\n",
        "print(a < b)\n",
        "print(a >= b)\n",
        "print(a <= b)"
      ],
      "metadata": {
        "colab": {
          "base_uri": "https://localhost:8080/"
        },
        "id": "U8y4ibfm7328",
        "outputId": "6024834b-aa5e-4526-db2f-e04b171c3163"
      },
      "execution_count": null,
      "outputs": [
        {
          "output_type": "stream",
          "name": "stdout",
          "text": [
            "False\n",
            "True\n",
            "True\n",
            "False\n",
            "True\n",
            "False\n"
          ]
        }
      ]
    },
    {
      "cell_type": "code",
      "source": [
        "# Assignment Operators\n",
        "\n",
        "# a = a + b => a += b\n",
        "\n",
        "a = 100\n",
        "b = 20\n",
        "\n",
        "a += b\n",
        "print(a, b)\n",
        "\n",
        "\n",
        "\n",
        "a = 100\n",
        "b = 20\n",
        "\n",
        "a -= b\n",
        "print(a, b)\n",
        "\n",
        "\n",
        "\n",
        "a = 100\n",
        "b = 20\n",
        "\n",
        "a *= b\n",
        "print(a, b)\n",
        "\n",
        "\n",
        "a = 100\n",
        "b = 20\n",
        "\n",
        "a /= b\n",
        "print(a, b)\n",
        "\n",
        "a = 100\n",
        "b = 20\n",
        "\n",
        "a %= b\n",
        "print(a, b)\n",
        "\n",
        "\n",
        "a = 100\n",
        "b = 20\n",
        "\n",
        "a //= b\n",
        "print(a, b)\n",
        "\n",
        "\n",
        "a = 100\n",
        "b = 2\n",
        "\n",
        "a **= b\n",
        "print(a, b)"
      ],
      "metadata": {
        "colab": {
          "base_uri": "https://localhost:8080/"
        },
        "id": "ZZrwvLzY78rg",
        "outputId": "d04726d7-5456-4926-a4a3-14383ab63bd6"
      },
      "execution_count": null,
      "outputs": [
        {
          "output_type": "stream",
          "name": "stdout",
          "text": [
            "120 20\n",
            "80 20\n",
            "2000 20\n",
            "5.0 20\n",
            "0 20\n",
            "5 20\n",
            "10000 2\n"
          ]
        }
      ]
    },
    {
      "cell_type": "code",
      "source": [
        "# Python Logical Operators\n",
        "\n",
        "\n",
        "a = 100\n",
        "b = 20\n",
        "\n",
        "\n",
        "print(a > 80 and b < 80)\n",
        "print(a == 80 and b < 80)\n",
        "print(a < 80 and b < 80)\n",
        "print(a > 80 and b > 80)\n",
        "\n",
        "\n",
        "print(a > 80 or b < 80)\n",
        "print(a == 80 or b < 80)\n",
        "print(a < 80 or b < 80)\n",
        "print(a < 80 or b > 80)"
      ],
      "metadata": {
        "colab": {
          "base_uri": "https://localhost:8080/"
        },
        "id": "rbifti8j795b",
        "outputId": "bf4e8097-8935-4716-a7f4-4d29be8514cf"
      },
      "execution_count": null,
      "outputs": [
        {
          "output_type": "stream",
          "name": "stdout",
          "text": [
            "True\n",
            "False\n",
            "False\n",
            "False\n",
            "True\n",
            "True\n",
            "True\n",
            "False\n"
          ]
        }
      ]
    },
    {
      "cell_type": "code",
      "source": [
        "# Python Logical Operators\n",
        "\n",
        "\n",
        "a = 100\n",
        "b = 20\n",
        "\n",
        "\n",
        "print(a > 80 and b < 80)\n",
        "print(a == 80 and b < 80)\n",
        "print(a < 80 and b < 80)\n",
        "print(a > 80 and b > 80)\n",
        "\n",
        "\n",
        "print(a > 80 or b < 80)\n",
        "print(a == 80 or b < 80)\n",
        "print(a < 80 or b < 80)\n",
        "print(a < 80 or b > 80)"
      ],
      "metadata": {
        "colab": {
          "base_uri": "https://localhost:8080/"
        },
        "id": "jUF9az2M8HcF",
        "outputId": "1abbf583-8b89-4017-d3ba-90b42e1744b5"
      },
      "execution_count": null,
      "outputs": [
        {
          "output_type": "stream",
          "name": "stdout",
          "text": [
            "True\n",
            "False\n",
            "False\n",
            "False\n",
            "True\n",
            "True\n",
            "True\n",
            "False\n"
          ]
        }
      ]
    },
    {
      "cell_type": "code",
      "source": [
        "# Python Identity Operators\n",
        "\n",
        "\n",
        "a = 100\n",
        "b = 20\n",
        "\n",
        "a is b\n",
        "a is not b\n",
        "\n",
        "a = 100\n",
        "b = 100\n",
        "\n",
        "a is b\n",
        "a is not b"
      ],
      "metadata": {
        "colab": {
          "base_uri": "https://localhost:8080/"
        },
        "id": "it4qs_sM8IiU",
        "outputId": "eb45fdb5-4509-4737-822f-4aa5d6aec1f8"
      },
      "execution_count": null,
      "outputs": [
        {
          "output_type": "execute_result",
          "data": {
            "text/plain": [
              "False"
            ]
          },
          "metadata": {},
          "execution_count": 6
        }
      ]
    },
    {
      "cell_type": "code",
      "source": [
        "a = 100\n",
        "b = 20\n",
        "\n",
        "if a > b: # True\n",
        "  print('a is greater than b')"
      ],
      "metadata": {
        "colab": {
          "base_uri": "https://localhost:8080/"
        },
        "id": "i0ST-dar8MkS",
        "outputId": "8cf5e0c4-77a0-4114-9227-0ce7a82ac2a2"
      },
      "execution_count": null,
      "outputs": [
        {
          "output_type": "stream",
          "name": "stdout",
          "text": [
            "a is greater than b\n"
          ]
        }
      ]
    },
    {
      "cell_type": "code",
      "source": [
        "a = 100\n",
        "b = 20\n",
        "\n",
        "if a < b: # False\n",
        "  print('a is less than b')"
      ],
      "metadata": {
        "id": "JzyZNN8P8Nh2"
      },
      "execution_count": null,
      "outputs": []
    },
    {
      "cell_type": "code",
      "source": [
        "a = 100\n",
        "b = 20\n",
        "\n",
        "if (a > b) and (a != b): # True\n",
        "  print('a is greater than b')"
      ],
      "metadata": {
        "colab": {
          "base_uri": "https://localhost:8080/"
        },
        "id": "bFyM9lQx8Pfb",
        "outputId": "51b368d2-a70c-4170-8ab9-aadb761ab493"
      },
      "execution_count": null,
      "outputs": [
        {
          "output_type": "stream",
          "name": "stdout",
          "text": [
            "a is greater than b\n"
          ]
        }
      ]
    },
    {
      "cell_type": "code",
      "source": [
        "a = 100\n",
        "b = 20\n",
        "\n",
        "if (a > b) and (a == b): # False\n",
        "  print('a is greater than b')"
      ],
      "metadata": {
        "id": "h6V9xLzY8RhL"
      },
      "execution_count": null,
      "outputs": []
    },
    {
      "cell_type": "code",
      "source": [
        "a = 100\n",
        "b = 20\n",
        "\n",
        "if (a < b) and (a == b): # False\n",
        "  print('a is greater than b')"
      ],
      "metadata": {
        "id": "2ib8L1bW8T1z"
      },
      "execution_count": null,
      "outputs": []
    },
    {
      "cell_type": "code",
      "source": [
        "a = 100\n",
        "b = 20\n",
        "\n",
        "if (a > b) or (a != b): # True\n",
        "  print('a is greater than b')"
      ],
      "metadata": {
        "colab": {
          "base_uri": "https://localhost:8080/"
        },
        "id": "JZKVvzob8WjG",
        "outputId": "2ba95381-75c9-44a9-a6d7-2f26eb455204"
      },
      "execution_count": null,
      "outputs": [
        {
          "output_type": "stream",
          "name": "stdout",
          "text": [
            "a is greater than b\n"
          ]
        }
      ]
    },
    {
      "cell_type": "code",
      "source": [
        "a = 100\n",
        "b = 20\n",
        "\n",
        "if (a > b) or (a == b): # True\n",
        "  print('a is greater than b')"
      ],
      "metadata": {
        "colab": {
          "base_uri": "https://localhost:8080/"
        },
        "id": "y8MO0CCg8a9R",
        "outputId": "20c8c155-e15e-4df8-c5b4-5d7e5736ad48"
      },
      "execution_count": null,
      "outputs": [
        {
          "output_type": "stream",
          "name": "stdout",
          "text": [
            "a is greater than b\n"
          ]
        }
      ]
    },
    {
      "cell_type": "code",
      "source": [
        "a = 100\n",
        "b = 20\n",
        "\n",
        "if (a < b) or (a == b): # False\n",
        "  print('a is greater than b')"
      ],
      "metadata": {
        "id": "ChCRGThX8ebX"
      },
      "execution_count": null,
      "outputs": []
    },
    {
      "cell_type": "code",
      "source": [
        "a = 100\n",
        "b = 20\n",
        "\n",
        "if (a < b) or (a == b): # False\n",
        "  print('a is greater than b')\n",
        "else:\n",
        "  print('we are in else section')"
      ],
      "metadata": {
        "colab": {
          "base_uri": "https://localhost:8080/"
        },
        "id": "nIuugj2Y8fiq",
        "outputId": "d5e795b3-10b2-4241-c9e9-c5d8006c69ee"
      },
      "execution_count": null,
      "outputs": [
        {
          "output_type": "stream",
          "name": "stdout",
          "text": [
            "we are in else section\n"
          ]
        }
      ]
    },
    {
      "cell_type": "code",
      "source": [
        "a = 100\n",
        "b = 20\n",
        "\n",
        "if (a < b): # False\n",
        "  print('a is greater than b')\n",
        "else:\n",
        "  print('we are in else section')"
      ],
      "metadata": {
        "colab": {
          "base_uri": "https://localhost:8080/"
        },
        "id": "uKNv_ED78hwC",
        "outputId": "5c462039-e48c-4152-af15-a40603e1ecc2"
      },
      "execution_count": null,
      "outputs": [
        {
          "output_type": "stream",
          "name": "stdout",
          "text": [
            "we are in else section\n"
          ]
        }
      ]
    },
    {
      "cell_type": "code",
      "source": [
        "a = 100\n",
        "b = 20\n",
        "\n",
        "if (a < b): # False\n",
        "  print('a is greater than b')\n",
        "else:\n",
        "  print('we are in else section')"
      ],
      "metadata": {
        "colab": {
          "base_uri": "https://localhost:8080/"
        },
        "id": "WpHCwYJP8j-8",
        "outputId": "5c2dfdf1-c216-4f81-adaa-aa1818be7692"
      },
      "execution_count": null,
      "outputs": [
        {
          "output_type": "stream",
          "name": "stdout",
          "text": [
            "we are in else section\n"
          ]
        }
      ]
    },
    {
      "cell_type": "code",
      "source": [
        "percentage = 34.99\n",
        "\n",
        "if percentage >=75:\n",
        "  print('First class with distinction')\n",
        "elif percentage >=60:\n",
        "  print('First class')\n",
        "elif percentage >= 40:\n",
        "  print('second class')\n",
        "elif percentage >= 35:\n",
        "  print('third class')\n",
        "else:\n",
        "  print('better luck next time')"
      ],
      "metadata": {
        "colab": {
          "base_uri": "https://localhost:8080/"
        },
        "id": "5T-dsGS_9xj_",
        "outputId": "bc7bed92-e0c0-47b5-b3ae-0bc9471f4c96"
      },
      "execution_count": null,
      "outputs": [
        {
          "output_type": "stream",
          "name": "stdout",
          "text": [
            "better luck next time\n"
          ]
        }
      ]
    },
    {
      "cell_type": "code",
      "source": [
        "a = 100\n",
        "\n",
        "if a > 25:\n",
        "  print('a > 25')\n",
        "  if a > 50:\n",
        "    print('a > 50')\n",
        "    if a > 75:\n",
        "      print('a > 75')\n",
        "      if a > 100:\n",
        "        print('a > 100')\n",
        "        if a > 125:\n",
        "          print('a > 125')"
      ],
      "metadata": {
        "colab": {
          "base_uri": "https://localhost:8080/"
        },
        "id": "iNyhJKY08oJt",
        "outputId": "d50c849d-8c56-40f3-b49f-852ec7886d12"
      },
      "execution_count": null,
      "outputs": [
        {
          "output_type": "stream",
          "name": "stdout",
          "text": [
            "a > 25\n",
            "a > 50\n",
            "a > 75\n"
          ]
        }
      ]
    }
  ]
}