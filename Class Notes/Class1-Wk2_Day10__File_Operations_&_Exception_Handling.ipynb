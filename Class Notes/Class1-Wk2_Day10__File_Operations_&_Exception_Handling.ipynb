{
  "nbformat": 4,
  "nbformat_minor": 0,
  "metadata": {
    "colab": {
      "provenance": []
    },
    "kernelspec": {
      "name": "python3",
      "display_name": "Python 3"
    },
    "language_info": {
      "name": "python"
    }
  },
  "cells": [
    {
      "cell_type": "markdown",
      "source": [
        "#**August 18, 2023**"
      ],
      "metadata": {
        "id": "N9ITMoBsSocI"
      }
    },
    {
      "cell_type": "code",
      "source": [
        "#File operations\n",
        "#-creating file\n",
        "#-writing file\n",
        "#-reading file\n",
        "#-appending file\n",
        "\n",
        "#can be text or binary mode\n",
        "#while creating a file, open a file, then give a file name with extension .txt, 'x' mode is for creating file\n",
        "\n",
        "f = open('my_file_operation.txt', 'x')"
      ],
      "metadata": {
        "id": "Z2BfXpJ8S3Cb"
      },
      "execution_count": null,
      "outputs": []
    },
    {
      "cell_type": "code",
      "source": [
        "f = open('my_file_operation.txt', 'x')"
      ],
      "metadata": {
        "colab": {
          "base_uri": "https://localhost:8080/",
          "height": 176
        },
        "id": "ZsYJavbRTA2O",
        "outputId": "12664202-989b-4a29-9f91-91614677ed9c"
      },
      "execution_count": null,
      "outputs": [
        {
          "output_type": "error",
          "ename": "FileExistsError",
          "evalue": "ignored",
          "traceback": [
            "\u001b[0;31m---------------------------------------------------------------------------\u001b[0m",
            "\u001b[0;31mFileExistsError\u001b[0m                           Traceback (most recent call last)",
            "\u001b[0;32m<ipython-input-2-db62a7471981>\u001b[0m in \u001b[0;36m<cell line: 1>\u001b[0;34m()\u001b[0m\n\u001b[0;32m----> 1\u001b[0;31m \u001b[0mf\u001b[0m \u001b[0;34m=\u001b[0m \u001b[0mopen\u001b[0m\u001b[0;34m(\u001b[0m\u001b[0;34m'my_file_operation.txt'\u001b[0m\u001b[0;34m,\u001b[0m \u001b[0;34m'x'\u001b[0m\u001b[0;34m)\u001b[0m\u001b[0;34m\u001b[0m\u001b[0;34m\u001b[0m\u001b[0m\n\u001b[0m",
            "\u001b[0;31mFileExistsError\u001b[0m: [Errno 17] File exists: 'my_file_operation.txt'"
          ]
        }
      ]
    },
    {
      "cell_type": "code",
      "source": [
        "# to write inside file, opening file in write mode and write inside file\n",
        "f = open('my_file_operation.txt', 'w')"
      ],
      "metadata": {
        "id": "QO_adgZATEtf"
      },
      "execution_count": null,
      "outputs": []
    },
    {
      "cell_type": "code",
      "source": [
        "# writing file\n",
        "f.write('This is my first file operation program.')"
      ],
      "metadata": {
        "colab": {
          "base_uri": "https://localhost:8080/"
        },
        "id": "3Bc5kWSXTGeq",
        "outputId": "c252e101-bbbf-4c18-f282-b0e0eeaf0d16"
      },
      "execution_count": null,
      "outputs": [
        {
          "output_type": "execute_result",
          "data": {
            "text/plain": [
              "40"
            ]
          },
          "metadata": {},
          "execution_count": 4
        }
      ]
    },
    {
      "cell_type": "code",
      "source": [
        "f = open('my_file_operation.txt','r')"
      ],
      "metadata": {
        "id": "AVIoEkKaTIO0"
      },
      "execution_count": null,
      "outputs": []
    },
    {
      "cell_type": "code",
      "source": [
        "f.read()"
      ],
      "metadata": {
        "colab": {
          "base_uri": "https://localhost:8080/",
          "height": 35
        },
        "id": "yH4QLZDDTKXL",
        "outputId": "dee103da-dd6d-4759-f494-75a4491f641d"
      },
      "execution_count": null,
      "outputs": [
        {
          "output_type": "execute_result",
          "data": {
            "text/plain": [
              "'This is my first file operation program.'"
            ],
            "application/vnd.google.colaboratory.intrinsic+json": {
              "type": "string"
            }
          },
          "metadata": {},
          "execution_count": 6
        }
      ]
    },
    {
      "cell_type": "code",
      "source": [
        "# open file in append mode to write and add in a file\n",
        "f=open('my_file_operation.txt', 'a')"
      ],
      "metadata": {
        "id": "YsGlNTX4TMko"
      },
      "execution_count": null,
      "outputs": []
    },
    {
      "cell_type": "code",
      "source": [
        "# write file\n",
        "f.write('This is set of new text for my file my_file_operation.txt')"
      ],
      "metadata": {
        "colab": {
          "base_uri": "https://localhost:8080/"
        },
        "id": "1AFHTdE0TNPi",
        "outputId": "0683d43b-ecfa-4c5b-8630-07fae832d999"
      },
      "execution_count": null,
      "outputs": [
        {
          "output_type": "execute_result",
          "data": {
            "text/plain": [
              "57"
            ]
          },
          "metadata": {},
          "execution_count": 8
        }
      ]
    },
    {
      "cell_type": "code",
      "source": [
        "f=open('my_file_operation.txt','r')"
      ],
      "metadata": {
        "id": "AMOL0V65TQyK"
      },
      "execution_count": null,
      "outputs": []
    },
    {
      "cell_type": "code",
      "source": [
        "f.read()"
      ],
      "metadata": {
        "colab": {
          "base_uri": "https://localhost:8080/",
          "height": 52
        },
        "id": "xYK_Y5EGTSti",
        "outputId": "43f390f1-c825-4896-aedc-13e5dbecad85"
      },
      "execution_count": null,
      "outputs": [
        {
          "output_type": "execute_result",
          "data": {
            "text/plain": [
              "'This is my first file operation program.This is set of new text for my file my_file_operation.txt'"
            ],
            "application/vnd.google.colaboratory.intrinsic+json": {
              "type": "string"
            }
          },
          "metadata": {},
          "execution_count": 10
        }
      ]
    },
    {
      "cell_type": "markdown",
      "source": [
        "#**Exception Handling**\n",
        "\n",
        "  1. syntax error\n",
        "  2. logical error\n",
        "  3. run time error"
      ],
      "metadata": {
        "id": "pkJjs66xTbYl"
      }
    },
    {
      "cell_type": "code",
      "source": [
        "print('My name is Reshma\")"
      ],
      "metadata": {
        "colab": {
          "base_uri": "https://localhost:8080/",
          "height": 141
        },
        "id": "CEzOnbmmTib2",
        "outputId": "30cd05b3-be4c-4875-fce9-e089e61b36c4"
      },
      "execution_count": null,
      "outputs": [
        {
          "output_type": "error",
          "ename": "SyntaxError",
          "evalue": "ignored",
          "traceback": [
            "\u001b[0;36m  File \u001b[0;32m\"<ipython-input-11-25b72e5f2206>\"\u001b[0;36m, line \u001b[0;32m1\u001b[0m\n\u001b[0;31m    print('My name is Reshma\")\u001b[0m\n\u001b[0m          ^\u001b[0m\n\u001b[0;31mSyntaxError\u001b[0m\u001b[0;31m:\u001b[0m unterminated string literal (detected at line 1)\n"
          ]
        }
      ]
    },
    {
      "cell_type": "code",
      "source": [
        "#Syntax error\n",
        "for i in range(10)\n",
        "  print(i)"
      ],
      "metadata": {
        "colab": {
          "base_uri": "https://localhost:8080/",
          "height": 141
        },
        "id": "nUpjHb8JTjyO",
        "outputId": "475423d4-8f4f-473c-a343-97083124e53e"
      },
      "execution_count": null,
      "outputs": [
        {
          "output_type": "error",
          "ename": "SyntaxError",
          "evalue": "ignored",
          "traceback": [
            "\u001b[0;36m  File \u001b[0;32m\"<ipython-input-12-fa120784ec38>\"\u001b[0;36m, line \u001b[0;32m2\u001b[0m\n\u001b[0;31m    for i in range(10)\u001b[0m\n\u001b[0m                      ^\u001b[0m\n\u001b[0;31mSyntaxError\u001b[0m\u001b[0;31m:\u001b[0m expected ':'\n"
          ]
        }
      ]
    },
    {
      "cell_type": "code",
      "source": [
        "#Syntax error (missing some function/formula/indentation....)\n",
        "for i in range(10):\n",
        "print(i)"
      ],
      "metadata": {
        "id": "MPb0wLKKTl40"
      },
      "execution_count": null,
      "outputs": []
    },
    {
      "cell_type": "code",
      "source": [
        "#logical error (missing some logic)"
      ],
      "metadata": {
        "id": "DFwsSiR2TpIN"
      },
      "execution_count": null,
      "outputs": []
    },
    {
      "cell_type": "code",
      "source": [
        " f=open('my_file_operation_EH.txt','x')"
      ],
      "metadata": {
        "id": "E-zzCDWyTrxy"
      },
      "execution_count": null,
      "outputs": []
    },
    {
      "cell_type": "code",
      "source": [
        " f=open('my_file_operation_EH.txt','x')"
      ],
      "metadata": {
        "id": "z9uogAwcTsf8"
      },
      "execution_count": null,
      "outputs": []
    },
    {
      "cell_type": "code",
      "source": [
        "#run time error (where logic is good but user is making mistake)\n",
        "#this needs to be handled using program like try and except\n",
        "\n",
        "try:\n",
        "    f=open('my_file_operation_EH.txt','x')\n",
        "except FileExistsError as fee:\n",
        "  print('FileExistsError Exception ', fee)"
      ],
      "metadata": {
        "id": "ZlDY1-tQTxCp"
      },
      "execution_count": null,
      "outputs": []
    },
    {
      "cell_type": "code",
      "source": [
        " f=open('my_file_operation_EH1.txt','r')"
      ],
      "metadata": {
        "id": "vLdqcQy7Tx5_"
      },
      "execution_count": null,
      "outputs": []
    },
    {
      "cell_type": "code",
      "source": [
        "try:\n",
        "    f=open('my_file_operation_EH1.txt','r')\n",
        "except FileNotFoundError as fnfe:\n",
        "  print('FileNotFoundError Exception ', fnfe)"
      ],
      "metadata": {
        "id": "49fSX-SZT0tj"
      },
      "execution_count": null,
      "outputs": []
    },
    {
      "cell_type": "code",
      "source": [
        "lst1 = [12,23,34,45,65,89,90,55,70,80,90]\n",
        "v_len = len(lst1)\n",
        "for i in range(v_len+3):\n",
        "  print('value inside my list ', lst1[i])"
      ],
      "metadata": {
        "colab": {
          "base_uri": "https://localhost:8080/",
          "height": 401
        },
        "id": "fvRSH1TiT2o-",
        "outputId": "d1da88d3-4153-4cae-94cf-6c8f1cae610f"
      },
      "execution_count": null,
      "outputs": [
        {
          "output_type": "stream",
          "name": "stdout",
          "text": [
            "value inside my list  12\n",
            "value inside my list  23\n",
            "value inside my list  34\n",
            "value inside my list  45\n",
            "value inside my list  65\n",
            "value inside my list  89\n",
            "value inside my list  90\n",
            "value inside my list  55\n",
            "value inside my list  70\n",
            "value inside my list  80\n",
            "value inside my list  90\n"
          ]
        },
        {
          "output_type": "error",
          "ename": "IndexError",
          "evalue": "ignored",
          "traceback": [
            "\u001b[0;31m---------------------------------------------------------------------------\u001b[0m",
            "\u001b[0;31mIndexError\u001b[0m                                Traceback (most recent call last)",
            "\u001b[0;32m<ipython-input-2-473785f0a7b9>\u001b[0m in \u001b[0;36m<cell line: 3>\u001b[0;34m()\u001b[0m\n\u001b[1;32m      2\u001b[0m \u001b[0mv_len\u001b[0m \u001b[0;34m=\u001b[0m \u001b[0mlen\u001b[0m\u001b[0;34m(\u001b[0m\u001b[0mlst1\u001b[0m\u001b[0;34m)\u001b[0m\u001b[0;34m\u001b[0m\u001b[0;34m\u001b[0m\u001b[0m\n\u001b[1;32m      3\u001b[0m \u001b[0;32mfor\u001b[0m \u001b[0mi\u001b[0m \u001b[0;32min\u001b[0m \u001b[0mrange\u001b[0m\u001b[0;34m(\u001b[0m\u001b[0mv_len\u001b[0m\u001b[0;34m+\u001b[0m\u001b[0;36m3\u001b[0m\u001b[0;34m)\u001b[0m\u001b[0;34m:\u001b[0m\u001b[0;34m\u001b[0m\u001b[0;34m\u001b[0m\u001b[0m\n\u001b[0;32m----> 4\u001b[0;31m   \u001b[0mprint\u001b[0m\u001b[0;34m(\u001b[0m\u001b[0;34m'value inside my list '\u001b[0m\u001b[0;34m,\u001b[0m \u001b[0mlst1\u001b[0m\u001b[0;34m[\u001b[0m\u001b[0mi\u001b[0m\u001b[0;34m]\u001b[0m\u001b[0;34m)\u001b[0m\u001b[0;34m\u001b[0m\u001b[0;34m\u001b[0m\u001b[0m\n\u001b[0m",
            "\u001b[0;31mIndexError\u001b[0m: list index out of range"
          ]
        }
      ]
    },
    {
      "cell_type": "code",
      "source": [
        "lst1 = [12,23,34,45,65,89,90,55,70,80,90]\n",
        "v_len = len(lst1)\n",
        "print(v_len, v_len+3)\n",
        "for i in range(v_len+3):\n",
        "  try:\n",
        "    print('value inside my list ', lst1[i])\n",
        "  except IndexError as ie:\n",
        "    print('IndexError Exception my list is of length ',v_len,'and trying to fetch index ', v_len+3, ie)"
      ],
      "metadata": {
        "colab": {
          "base_uri": "https://localhost:8080/"
        },
        "id": "gKOuRFW6T8T0",
        "outputId": "3b48b24b-7dd1-475e-d7e4-519d7e79ce76"
      },
      "execution_count": null,
      "outputs": [
        {
          "output_type": "stream",
          "name": "stdout",
          "text": [
            "11 14\n",
            "value inside my list  12\n",
            "value inside my list  23\n",
            "value inside my list  34\n",
            "value inside my list  45\n",
            "value inside my list  65\n",
            "value inside my list  89\n",
            "value inside my list  90\n",
            "value inside my list  55\n",
            "value inside my list  70\n",
            "value inside my list  80\n",
            "value inside my list  90\n",
            "IndexError Exception my list is of length  11 and trying to fetch index  14 list index out of range\n",
            "IndexError Exception my list is of length  11 and trying to fetch index  14 list index out of range\n",
            "IndexError Exception my list is of length  11 and trying to fetch index  14 list index out of range\n"
          ]
        }
      ]
    },
    {
      "cell_type": "code",
      "source": [
        "tup1 = (1,2,3,4,5,6)\n",
        "tup1.append(7) #append is not applicable in tuple. Tuple is immutable"
      ],
      "metadata": {
        "id": "-jvlRpETT-Wh"
      },
      "execution_count": null,
      "outputs": []
    },
    {
      "cell_type": "code",
      "source": [
        "tup1 = (1,2,3,4,5,6,7,8,9,10)\n",
        "try:\n",
        "  tup1.append(11)\n",
        "except AttributeError as ae:\n",
        "  print('AttributeError Exception ', ae)"
      ],
      "metadata": {
        "id": "k5sjhLJGUA2C"
      },
      "execution_count": null,
      "outputs": []
    },
    {
      "cell_type": "code",
      "source": [
        "a = 'Python'\n",
        "b = 10\n",
        "c = 'Programming'\n",
        "\n",
        "print(a+b+c)"
      ],
      "metadata": {
        "id": "m_T2d4bfUDJC"
      },
      "execution_count": null,
      "outputs": []
    },
    {
      "cell_type": "code",
      "source": [
        "a = 'Python'\n",
        "b = 10\n",
        "c = 'Programming'\n",
        "\n",
        "try:\n",
        "  print(a+c)\n",
        "  print(a+b+c)\n",
        "  print(a+b)\n",
        "  print(b+c)\n",
        "except TypeError as te:\n",
        "  print('TypeError Exception ', te)"
      ],
      "metadata": {
        "id": "4xZKCcajUFHC"
      },
      "execution_count": null,
      "outputs": []
    },
    {
      "cell_type": "code",
      "source": [
        "for i in range(10):\n",
        "print(i)"
      ],
      "metadata": {
        "id": "GxHWf3zxUJ7a"
      },
      "execution_count": null,
      "outputs": []
    },
    {
      "cell_type": "code",
      "source": [
        "try:\n",
        "  for i in range(10):\n",
        "  print(i)\n",
        "except IndentationError as ie:\n",
        "   print('IndentationError', ie)"
      ],
      "metadata": {
        "id": "YSo-dTGSUMEL"
      },
      "execution_count": null,
      "outputs": []
    }
  ]
}