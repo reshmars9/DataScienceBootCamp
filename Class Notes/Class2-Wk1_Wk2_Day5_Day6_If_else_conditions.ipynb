{
  "nbformat": 4,
  "nbformat_minor": 0,
  "metadata": {
    "colab": {
      "provenance": []
    },
    "kernelspec": {
      "name": "python3",
      "display_name": "Python 3"
    },
    "language_info": {
      "name": "python"
    }
  },
  "cells": [
    {
      "cell_type": "markdown",
      "source": [
        "##**August 11, 2023**"
      ],
      "metadata": {
        "id": "mgXUEg_mfJI7"
      }
    },
    {
      "cell_type": "code",
      "source": [
        "# 1)check if a number is divisible by 7 or not\n",
        "a = 28\n",
        "print (a%7)\n",
        "if a%7==0:\n",
        "  print ('Number divisible by 7')\n",
        "else:\n",
        "  print ('Number is not divisible by 7')"
      ],
      "metadata": {
        "colab": {
          "base_uri": "https://localhost:8080/"
        },
        "id": "j8-RRsMAnDEw",
        "outputId": "b5ce5846-913d-44dc-84ed-cf16e9a4e235"
      },
      "execution_count": null,
      "outputs": [
        {
          "output_type": "stream",
          "name": "stdout",
          "text": [
            "0\n",
            "Number divisible by 7\n"
          ]
        }
      ]
    },
    {
      "cell_type": "code",
      "source": [
        "num=49\n",
        "if num%7==0:\n",
        "  print(\"Number Divisble by 7\")\n",
        "else:\n",
        "  print(\"Number not Divisble by 7\")"
      ],
      "metadata": {
        "colab": {
          "base_uri": "https://localhost:8080/"
        },
        "id": "EZ5zBvkZE1tE",
        "outputId": "92541711-55dc-4fb2-dc1e-1fc06e21664b"
      },
      "execution_count": null,
      "outputs": [
        {
          "output_type": "stream",
          "name": "stdout",
          "text": [
            "Number Divisble by 7\n"
          ]
        }
      ]
    },
    {
      "cell_type": "code",
      "source": [
        "2) Write a program to print hello if number is multiple of five or 3 else print bye\n",
        "a = 28\n",
        "\n",
        "if a%3==0 or a%5==0:\n",
        "  print ('Hello')\n",
        "else:\n",
        "  print ('Bye')"
      ],
      "metadata": {
        "colab": {
          "base_uri": "https://localhost:8080/"
        },
        "id": "i7DClfzvox19",
        "outputId": "a94c9fd5-81cf-47f4-9713-ed0de59aa2ef"
      },
      "execution_count": null,
      "outputs": [
        {
          "output_type": "stream",
          "name": "stdout",
          "text": [
            "Bye\n"
          ]
        }
      ]
    },
    {
      "cell_type": "code",
      "source": [
        "num=87\n",
        "if num%3==0 or num%5==0:\n",
        "  print(\"Hello\")\n",
        "else:\n",
        "  print(\"Bye\")"
      ],
      "metadata": {
        "colab": {
          "base_uri": "https://localhost:8080/"
        },
        "id": "6L1vM590E5QT",
        "outputId": "73a959ff-cf3a-4308-c347-7ad3ad2874de"
      },
      "execution_count": null,
      "outputs": [
        {
          "output_type": "stream",
          "name": "stdout",
          "text": [
            "Hello\n"
          ]
        }
      ]
    },
    {
      "cell_type": "code",
      "source": [
        "# User input function\n",
        "input_message=input() #print (input_message)\n",
        "print(type(input_message)) # type gives type of the variable (e.g; list, tuple, set...)"
      ],
      "metadata": {
        "colab": {
          "base_uri": "https://localhost:8080/"
        },
        "id": "72ENz6FfsTL9",
        "outputId": "74928b3e-6e05-4347-8164-6115e909a675"
      },
      "execution_count": null,
      "outputs": [
        {
          "output_type": "stream",
          "name": "stdout",
          "text": [
            "28\n",
            "<class 'str'>\n"
          ]
        }
      ]
    },
    {
      "cell_type": "code",
      "source": [
        "#Write a python program that will check for the following conditions:\n",
        "\n",
        "If the light is green – Car is allowed to go\n",
        "If the light is yellow – Car has to wait\n",
        "If the light is red – Car has to stop\n",
        "Other signal – unrecognized signal. Example black, blue, etc…"
      ],
      "metadata": {
        "id": "x1PNquOQu3eD"
      },
      "execution_count": null,
      "outputs": []
    },
    {
      "cell_type": "code",
      "source": [
        "input_message_str= input ()\n",
        "if input_message_str == 'green':\n",
        "  print (str('Car is allowed to go.'))\n",
        "elif input_message_str == 'yellow':\n",
        "  print (str('Car has to wait'))\n",
        "elif input_message_str == 'red':\n",
        "  print (str('Car has to stop'))\n",
        "else:\n",
        "  print (str ('Unrecognized signal'))"
      ],
      "metadata": {
        "id": "qOhh1xAlu7mo"
      },
      "execution_count": null,
      "outputs": []
    },
    {
      "cell_type": "code",
      "source": [
        "signal = input(\"What is a traffic signal? :\").lower()\n",
        "if signal == \"red\":\n",
        "    print(\"Stop your car!\")\n",
        "elif signal == \"yellow\":\n",
        "    print(\"Wait your car!\")\n",
        "elif signal == \"green\":\n",
        "    print(\"You are allowed to go!\")\n",
        "else:\n",
        "    print(\"Unrecgonized signal!\")"
      ],
      "metadata": {
        "colab": {
          "base_uri": "https://localhost:8080/",
          "height": 408
        },
        "id": "m_lwvnAIE-94",
        "outputId": "f8cf9121-9aa2-4af2-9d8b-9a97938ebab6"
      },
      "execution_count": null,
      "outputs": [
        {
          "output_type": "error",
          "ename": "KeyboardInterrupt",
          "evalue": "ignored",
          "traceback": [
            "\u001b[0;31m---------------------------------------------------------------------------\u001b[0m",
            "\u001b[0;31mKeyboardInterrupt\u001b[0m                         Traceback (most recent call last)",
            "\u001b[0;32m<ipython-input-3-9e1054758639>\u001b[0m in \u001b[0;36m<cell line: 1>\u001b[0;34m()\u001b[0m\n\u001b[0;32m----> 1\u001b[0;31m \u001b[0msignal\u001b[0m \u001b[0;34m=\u001b[0m \u001b[0minput\u001b[0m\u001b[0;34m(\u001b[0m\u001b[0;34m\"What is a traffic signal? :\"\u001b[0m\u001b[0;34m)\u001b[0m\u001b[0;34m.\u001b[0m\u001b[0mlower\u001b[0m\u001b[0;34m(\u001b[0m\u001b[0;34m)\u001b[0m\u001b[0;34m\u001b[0m\u001b[0;34m\u001b[0m\u001b[0m\n\u001b[0m\u001b[1;32m      2\u001b[0m \u001b[0;32mif\u001b[0m \u001b[0msignal\u001b[0m \u001b[0;34m==\u001b[0m \u001b[0;34m\"red\"\u001b[0m\u001b[0;34m:\u001b[0m\u001b[0;34m\u001b[0m\u001b[0;34m\u001b[0m\u001b[0m\n\u001b[1;32m      3\u001b[0m     \u001b[0mprint\u001b[0m\u001b[0;34m(\u001b[0m\u001b[0;34m\"Stop your car!\"\u001b[0m\u001b[0;34m)\u001b[0m\u001b[0;34m\u001b[0m\u001b[0;34m\u001b[0m\u001b[0m\n\u001b[1;32m      4\u001b[0m \u001b[0;32melif\u001b[0m \u001b[0msignal\u001b[0m \u001b[0;34m==\u001b[0m \u001b[0;34m\"yellow\"\u001b[0m\u001b[0;34m:\u001b[0m\u001b[0;34m\u001b[0m\u001b[0;34m\u001b[0m\u001b[0m\n\u001b[1;32m      5\u001b[0m     \u001b[0mprint\u001b[0m\u001b[0;34m(\u001b[0m\u001b[0;34m\"Wait your car!\"\u001b[0m\u001b[0;34m)\u001b[0m\u001b[0;34m\u001b[0m\u001b[0;34m\u001b[0m\u001b[0m\n",
            "\u001b[0;32m/usr/local/lib/python3.10/dist-packages/ipykernel/kernelbase.py\u001b[0m in \u001b[0;36mraw_input\u001b[0;34m(self, prompt)\u001b[0m\n\u001b[1;32m    849\u001b[0m                 \u001b[0;34m\"raw_input was called, but this frontend does not support input requests.\"\u001b[0m\u001b[0;34m\u001b[0m\u001b[0;34m\u001b[0m\u001b[0m\n\u001b[1;32m    850\u001b[0m             )\n\u001b[0;32m--> 851\u001b[0;31m         return self._input_request(str(prompt),\n\u001b[0m\u001b[1;32m    852\u001b[0m             \u001b[0mself\u001b[0m\u001b[0;34m.\u001b[0m\u001b[0m_parent_ident\u001b[0m\u001b[0;34m,\u001b[0m\u001b[0;34m\u001b[0m\u001b[0;34m\u001b[0m\u001b[0m\n\u001b[1;32m    853\u001b[0m             \u001b[0mself\u001b[0m\u001b[0;34m.\u001b[0m\u001b[0m_parent_header\u001b[0m\u001b[0;34m,\u001b[0m\u001b[0;34m\u001b[0m\u001b[0;34m\u001b[0m\u001b[0m\n",
            "\u001b[0;32m/usr/local/lib/python3.10/dist-packages/ipykernel/kernelbase.py\u001b[0m in \u001b[0;36m_input_request\u001b[0;34m(self, prompt, ident, parent, password)\u001b[0m\n\u001b[1;32m    893\u001b[0m             \u001b[0;32mexcept\u001b[0m \u001b[0mKeyboardInterrupt\u001b[0m\u001b[0;34m:\u001b[0m\u001b[0;34m\u001b[0m\u001b[0;34m\u001b[0m\u001b[0m\n\u001b[1;32m    894\u001b[0m                 \u001b[0;31m# re-raise KeyboardInterrupt, to truncate traceback\u001b[0m\u001b[0;34m\u001b[0m\u001b[0;34m\u001b[0m\u001b[0m\n\u001b[0;32m--> 895\u001b[0;31m                 \u001b[0;32mraise\u001b[0m \u001b[0mKeyboardInterrupt\u001b[0m\u001b[0;34m(\u001b[0m\u001b[0;34m\"Interrupted by user\"\u001b[0m\u001b[0;34m)\u001b[0m \u001b[0;32mfrom\u001b[0m \u001b[0;32mNone\u001b[0m\u001b[0;34m\u001b[0m\u001b[0;34m\u001b[0m\u001b[0m\n\u001b[0m\u001b[1;32m    896\u001b[0m             \u001b[0;32mexcept\u001b[0m \u001b[0mException\u001b[0m \u001b[0;32mas\u001b[0m \u001b[0me\u001b[0m\u001b[0;34m:\u001b[0m\u001b[0;34m\u001b[0m\u001b[0;34m\u001b[0m\u001b[0m\n\u001b[1;32m    897\u001b[0m                 \u001b[0mself\u001b[0m\u001b[0;34m.\u001b[0m\u001b[0mlog\u001b[0m\u001b[0;34m.\u001b[0m\u001b[0mwarning\u001b[0m\u001b[0;34m(\u001b[0m\u001b[0;34m\"Invalid Message:\"\u001b[0m\u001b[0;34m,\u001b[0m \u001b[0mexc_info\u001b[0m\u001b[0;34m=\u001b[0m\u001b[0;32mTrue\u001b[0m\u001b[0;34m)\u001b[0m\u001b[0;34m\u001b[0m\u001b[0;34m\u001b[0m\u001b[0m\n",
            "\u001b[0;31mKeyboardInterrupt\u001b[0m: Interrupted by user"
          ]
        }
      ]
    },
    {
      "cell_type": "code",
      "source": [
        "from pickle import FALSE\n",
        "# Write a program to trace your subject mark. Your program should fulfill the following conditions:\n",
        "\n",
        "If the subject mark is below 0 and above 100, print “error: mark should be between 0 and 100 only”\n",
        "Students will fail in the subject if their mark is below 50.\n",
        "Students will pass in the subject if they score 50 and above.\n",
        "If subject mark is between 50 and 60, grade student as good.\n",
        "If subject mark is between 60 and 80, grade student as very good.\n",
        "If subject mark is between 80 and 100, grade student as outstanding.\n",
        "\n",
        "Make sure to print their mark in every statement to prove that the condition is fulfilled. Moreover, name, class, and section should be also displayed along with the marks.\n",
        "\n",
        "## OR\n",
        "0 0 FALSE\n",
        "1 0 TRUE\n",
        "1 1 TRUE\n",
        "\n",
        "## AND\n",
        "0 0 FALSE\n",
        "1 0 FALSE\n",
        "0 1 FALSE\n",
        "1 1 TRUE\n",
        "\n",
        "\n"
      ],
      "metadata": {
        "id": "bxcQ__zoySJI"
      },
      "execution_count": null,
      "outputs": []
    },
    {
      "cell_type": "code",
      "source": [
        "name= input ('Enter your name: ').title()\n",
        "clas = input(\"Enter class: \")\n",
        "section=input(\"Enter section: \")\n",
        "subject=input(\"Enter the subject name: \")\n",
        "mark = float(input(\"Mark scored in that subject: \"))\n",
        "\n",
        "if mark<0 or mark>100:\n",
        "  print(\"Error: Mark should be between 0 and 100 only.\")\n",
        "elif mark<50:\n",
        "  print(subject, \"mark is\", mark)\n",
        "elif mark>=50:\n",
        "  print(subject,\"mark is\", mark)\n",
        "  print(\"Congratulations!Passed in \", subject)\n",
        "  if mark>=50 and mark<60:\n",
        "    print (\"Remark: Good in \", subject)\n",
        "  elif mark>=60 and mark<80:\n",
        "      print(\"Remark: Very good in \", subject)\n",
        "  elif mark>=80 and mark<=100:\n",
        "        print(\"Remark: Outstanding in \", subject)\n"
      ],
      "metadata": {
        "id": "rTVPPnSE1VaL",
        "colab": {
          "base_uri": "https://localhost:8080/"
        },
        "outputId": "37201142-1969-422d-81ba-98340b5711b1"
      },
      "execution_count": null,
      "outputs": [
        {
          "output_type": "stream",
          "name": "stdout",
          "text": [
            "Enter your name: R\n",
            "Enter class: 5\n",
            "Enter section: Y\n",
            "Enter the subject name: YY\n",
            "Mark scored in that subject: 56\n",
            "YY mark is 56.0\n",
            "Congratulations!Passed in  YY\n",
            "Remark: Good in  YY\n"
          ]
        }
      ]
    },
    {
      "cell_type": "markdown",
      "source": [
        "#**August 14, 2023**"
      ],
      "metadata": {
        "id": "zqswmcLml9vv"
      }
    },
    {
      "cell_type": "code",
      "source": [
        "# # Homework Question 1\n",
        "yos = float(input(\"Enter year of service\"))\n",
        "if yos>5:\n",
        "  salary = float(input(\"Enter salary\"))\n",
        "  print (\"Bonus is\",.05*salary)\n",
        "else:\n",
        "  print (\"No bonus\")"
      ],
      "metadata": {
        "id": "cH2-uWFlmEdb",
        "colab": {
          "base_uri": "https://localhost:8080/",
          "height": 408
        },
        "outputId": "d1b6ac3e-be2a-403a-ea97-07d4fdd94a99"
      },
      "execution_count": null,
      "outputs": [
        {
          "output_type": "error",
          "ename": "KeyboardInterrupt",
          "evalue": "ignored",
          "traceback": [
            "\u001b[0;31m---------------------------------------------------------------------------\u001b[0m",
            "\u001b[0;31mKeyboardInterrupt\u001b[0m                         Traceback (most recent call last)",
            "\u001b[0;32m<ipython-input-4-143d646d4aca>\u001b[0m in \u001b[0;36m<cell line: 2>\u001b[0;34m()\u001b[0m\n\u001b[1;32m      1\u001b[0m \u001b[0;31m# # Homework Question 1\u001b[0m\u001b[0;34m\u001b[0m\u001b[0;34m\u001b[0m\u001b[0m\n\u001b[0;32m----> 2\u001b[0;31m \u001b[0myos\u001b[0m \u001b[0;34m=\u001b[0m \u001b[0mfloat\u001b[0m\u001b[0;34m(\u001b[0m\u001b[0minput\u001b[0m\u001b[0;34m(\u001b[0m\u001b[0;34m\"Enter year of service\"\u001b[0m\u001b[0;34m)\u001b[0m\u001b[0;34m)\u001b[0m\u001b[0;34m\u001b[0m\u001b[0;34m\u001b[0m\u001b[0m\n\u001b[0m\u001b[1;32m      3\u001b[0m \u001b[0;32mif\u001b[0m \u001b[0myos\u001b[0m\u001b[0;34m>\u001b[0m\u001b[0;36m5\u001b[0m\u001b[0;34m:\u001b[0m\u001b[0;34m\u001b[0m\u001b[0;34m\u001b[0m\u001b[0m\n\u001b[1;32m      4\u001b[0m   \u001b[0msalary\u001b[0m \u001b[0;34m=\u001b[0m \u001b[0mfloat\u001b[0m\u001b[0;34m(\u001b[0m\u001b[0minput\u001b[0m\u001b[0;34m(\u001b[0m\u001b[0;34m\"Enter salary\"\u001b[0m\u001b[0;34m)\u001b[0m\u001b[0;34m)\u001b[0m\u001b[0;34m\u001b[0m\u001b[0;34m\u001b[0m\u001b[0m\n\u001b[1;32m      5\u001b[0m   \u001b[0mprint\u001b[0m \u001b[0;34m(\u001b[0m\u001b[0;34m\"Bonus is\"\u001b[0m\u001b[0;34m,\u001b[0m\u001b[0;36m.05\u001b[0m\u001b[0;34m*\u001b[0m\u001b[0msalary\u001b[0m\u001b[0;34m)\u001b[0m\u001b[0;34m\u001b[0m\u001b[0;34m\u001b[0m\u001b[0m\n",
            "\u001b[0;32m/usr/local/lib/python3.10/dist-packages/ipykernel/kernelbase.py\u001b[0m in \u001b[0;36mraw_input\u001b[0;34m(self, prompt)\u001b[0m\n\u001b[1;32m    849\u001b[0m                 \u001b[0;34m\"raw_input was called, but this frontend does not support input requests.\"\u001b[0m\u001b[0;34m\u001b[0m\u001b[0;34m\u001b[0m\u001b[0m\n\u001b[1;32m    850\u001b[0m             )\n\u001b[0;32m--> 851\u001b[0;31m         return self._input_request(str(prompt),\n\u001b[0m\u001b[1;32m    852\u001b[0m             \u001b[0mself\u001b[0m\u001b[0;34m.\u001b[0m\u001b[0m_parent_ident\u001b[0m\u001b[0;34m,\u001b[0m\u001b[0;34m\u001b[0m\u001b[0;34m\u001b[0m\u001b[0m\n\u001b[1;32m    853\u001b[0m             \u001b[0mself\u001b[0m\u001b[0;34m.\u001b[0m\u001b[0m_parent_header\u001b[0m\u001b[0;34m,\u001b[0m\u001b[0;34m\u001b[0m\u001b[0;34m\u001b[0m\u001b[0m\n",
            "\u001b[0;32m/usr/local/lib/python3.10/dist-packages/ipykernel/kernelbase.py\u001b[0m in \u001b[0;36m_input_request\u001b[0;34m(self, prompt, ident, parent, password)\u001b[0m\n\u001b[1;32m    893\u001b[0m             \u001b[0;32mexcept\u001b[0m \u001b[0mKeyboardInterrupt\u001b[0m\u001b[0;34m:\u001b[0m\u001b[0;34m\u001b[0m\u001b[0;34m\u001b[0m\u001b[0m\n\u001b[1;32m    894\u001b[0m                 \u001b[0;31m# re-raise KeyboardInterrupt, to truncate traceback\u001b[0m\u001b[0;34m\u001b[0m\u001b[0;34m\u001b[0m\u001b[0m\n\u001b[0;32m--> 895\u001b[0;31m                 \u001b[0;32mraise\u001b[0m \u001b[0mKeyboardInterrupt\u001b[0m\u001b[0;34m(\u001b[0m\u001b[0;34m\"Interrupted by user\"\u001b[0m\u001b[0;34m)\u001b[0m \u001b[0;32mfrom\u001b[0m \u001b[0;32mNone\u001b[0m\u001b[0;34m\u001b[0m\u001b[0;34m\u001b[0m\u001b[0m\n\u001b[0m\u001b[1;32m    896\u001b[0m             \u001b[0;32mexcept\u001b[0m \u001b[0mException\u001b[0m \u001b[0;32mas\u001b[0m \u001b[0me\u001b[0m\u001b[0;34m:\u001b[0m\u001b[0;34m\u001b[0m\u001b[0;34m\u001b[0m\u001b[0m\n\u001b[1;32m    897\u001b[0m                 \u001b[0mself\u001b[0m\u001b[0;34m.\u001b[0m\u001b[0mlog\u001b[0m\u001b[0;34m.\u001b[0m\u001b[0mwarning\u001b[0m\u001b[0;34m(\u001b[0m\u001b[0;34m\"Invalid Message:\"\u001b[0m\u001b[0;34m,\u001b[0m \u001b[0mexc_info\u001b[0m\u001b[0;34m=\u001b[0m\u001b[0;32mTrue\u001b[0m\u001b[0;34m)\u001b[0m\u001b[0;34m\u001b[0m\u001b[0;34m\u001b[0m\u001b[0m\n",
            "\u001b[0;31mKeyboardInterrupt\u001b[0m: Interrupted by user"
          ]
        }
      ]
    },
    {
      "cell_type": "code",
      "source": [
        "# Homework Question 2\n",
        "length = input(\"Enter length :- \")\n",
        "breadth = input(\"Enter breadth :-\")\n",
        "if length == breadth:\n",
        "  print (\"Yes, it is square\")\n",
        "else:\n",
        "  print (\"No, it is only Rectangle\")"
      ],
      "metadata": {
        "id": "JuCX440dFbdS"
      },
      "execution_count": null,
      "outputs": []
    },
    {
      "cell_type": "code",
      "source": [
        "# Homework Question 3\n",
        "\n",
        "first = int(input(\"Enter first number\"))\n",
        "second = int(input(\"Enter second number\"))\n",
        "if first>second:\n",
        "  print (\"Greatest is\",first)\n",
        "elif second>first:\n",
        "  print (\"Greatest is\",second)\n",
        "else:\n",
        "  print (\"Both are equal\")"
      ],
      "metadata": {
        "id": "7gwasBvuFdoB"
      },
      "execution_count": null,
      "outputs": []
    },
    {
      "cell_type": "code",
      "source": [
        "# Homework Question 4\n",
        "quantity = int(input(\"Enter quantity \"))\n",
        "if quantity*100 > 1000:\n",
        "  print (\"Cost is\",((quantity*100)-(.1*quantity*100)))\n",
        "else:\n",
        "  print (\"Cost is\",quantity*100)"
      ],
      "metadata": {
        "id": "QYU0X-NYFerU"
      },
      "execution_count": null,
      "outputs": []
    },
    {
      "cell_type": "code",
      "source": [
        "# Homework Question 5\n",
        "marks = float(input(\"Enter marks\"))\n",
        "if marks<25:\n",
        "  print (\"F\")\n",
        "elif marks>=25 and marks<45:\n",
        "  print (\"E\")\n",
        "elif marks>=45 and marks<50:\n",
        "  print (\"D\")\n",
        "elif marks>=50 and marks<60:\n",
        "  print (\"C\")\n",
        "elif marks>=60 and marks<80:\n",
        "  print (\"B\")\n",
        "else:\n",
        "  print (\"A\")"
      ],
      "metadata": {
        "id": "b9nlTw2hFg9d"
      },
      "execution_count": null,
      "outputs": []
    },
    {
      "cell_type": "code",
      "source": [
        "# Homework Question 6\n",
        "\n",
        "first = int(input(\"Enter first age\"))\n",
        "second = int(input(\"Enter second age\"))\n",
        "third = int(input(\"third age\"))\n",
        "# 54 54 26\n",
        "if first >= second and first >= third:\n",
        "  if second>third:\n",
        "    print(\"The youngest is \",third)\n",
        "  elif first==second==third:\n",
        "    print (\"All are equal\")\n",
        "  else:\n",
        "    print(\"The youngest is \",second)\n",
        "  print (\"Oldest is\",first)\n",
        "elif second >= first and second >= third:\n",
        "  if first>third:\n",
        "    print(\"The youngest is \",third)\n",
        "  elif first==second==third:\n",
        "    print (\"All are equal\")\n",
        "  else:\n",
        "    print(\"The youngest is \",first)\n",
        "  print (\"Oldest is\",second)\n",
        "elif third >= first and third >= second:\n",
        "  if second>first:\n",
        "    print(\"The youngest is \",first)\n",
        "  elif first==second==third:\n",
        "    print (\"All are equal\")\n",
        "  else:\n",
        "    print(\"The youngest is \",second)\n",
        "  print (\"Oldest is\",third)"
      ],
      "metadata": {
        "id": "nXb462lmFjn3"
      },
      "execution_count": null,
      "outputs": []
    },
    {
      "cell_type": "code",
      "source": [
        "# Homework Question 7\n",
        "number = float(input(\"Enter a number\"))\n",
        "if number<0:\n",
        "  print(number*-1)\n",
        "else:\n",
        "  print(number)"
      ],
      "metadata": {
        "id": "m-zYzENxFmuV"
      },
      "execution_count": null,
      "outputs": []
    },
    {
      "cell_type": "code",
      "source": [
        "# Homework Question 8\n",
        "noh = int(input(\"Number of classes held\"))\n",
        "noa = int(input(\"Number of classes attended\"))\n",
        "atten = (noa/noh)*100\n",
        "print(\"Attendence is %\",round(atten,1))\n",
        "if atten >= 75:\n",
        "  print (\"You are allowed to sit in exam\")\n",
        "else:\n",
        "  print (\"Sorry, you are not allowed. Attend more classes from next time.\")"
      ],
      "metadata": {
        "id": "6rX6x5bbFoxa"
      },
      "execution_count": null,
      "outputs": []
    },
    {
      "cell_type": "code",
      "source": [
        "# Homework Question 9\n",
        "noh = int(input(\"Number of classes held \"))\n",
        "noa = int(input(\"Number of classes attended \"))\n",
        "atten = (noa/noh)*100\n",
        "print (\"Attendence is\",atten)\n",
        "if atten >= 75:\n",
        "  print (\"You are allowed to sit in exam\")\n",
        "else:\n",
        "  medical_cause = input(\"Medical Condition? Type Y if yes Else N\").lower()\n",
        "  if medical_cause == 'y':\n",
        "    print (\"You are allowed due to medical condition \")\n",
        "  else:\n",
        "    print (\"Sorry, you are not allowed. Attend more classes from next time.\")"
      ],
      "metadata": {
        "id": "RgsYSOWcFurN"
      },
      "execution_count": null,
      "outputs": []
    },
    {
      "cell_type": "code",
      "source": [
        " # round function\n",
        "\n",
        "atten=66.67852123252\n",
        "round(atten,1) #It prints only 1 decimal."
      ],
      "metadata": {
        "colab": {
          "base_uri": "https://localhost:8080/"
        },
        "id": "Z9fETuLPyKWb",
        "outputId": "4c2ab92d-0591-43ac-b35c-3d0f1ba7d3a4"
      },
      "execution_count": null,
      "outputs": [
        {
          "output_type": "execute_result",
          "data": {
            "text/plain": [
              "66.7"
            ]
          },
          "metadata": {},
          "execution_count": 1
        }
      ]
    }
  ]
}