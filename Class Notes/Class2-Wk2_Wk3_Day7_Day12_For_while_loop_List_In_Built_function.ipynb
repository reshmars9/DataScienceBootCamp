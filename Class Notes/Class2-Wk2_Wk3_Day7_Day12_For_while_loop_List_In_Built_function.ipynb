{
  "nbformat": 4,
  "nbformat_minor": 0,
  "metadata": {
    "colab": {
      "provenance": []
    },
    "kernelspec": {
      "name": "python3",
      "display_name": "Python 3"
    },
    "language_info": {
      "name": "python"
    }
  },
  "cells": [
    {
      "cell_type": "markdown",
      "source": [
        "#**August 15, 2023**"
      ],
      "metadata": {
        "id": "UfCLWYFW1KxO"
      }
    },
    {
      "cell_type": "code",
      "source": [
        "# List In-Built Function"
      ],
      "metadata": {
        "id": "pkG99ZA51Pzj"
      },
      "execution_count": null,
      "outputs": []
    },
    {
      "cell_type": "code",
      "source": [
        "a=[1,2,3,4,5]\n",
        "dir(a) #"
      ],
      "metadata": {
        "colab": {
          "base_uri": "https://localhost:8080/"
        },
        "id": "57F5EC_H1Pv7",
        "outputId": "12edce52-94ed-4273-aeb8-3b69260196ad"
      },
      "execution_count": null,
      "outputs": [
        {
          "output_type": "execute_result",
          "data": {
            "text/plain": [
              "['__add__',\n",
              " '__class__',\n",
              " '__class_getitem__',\n",
              " '__contains__',\n",
              " '__delattr__',\n",
              " '__delitem__',\n",
              " '__dir__',\n",
              " '__doc__',\n",
              " '__eq__',\n",
              " '__format__',\n",
              " '__ge__',\n",
              " '__getattribute__',\n",
              " '__getitem__',\n",
              " '__gt__',\n",
              " '__hash__',\n",
              " '__iadd__',\n",
              " '__imul__',\n",
              " '__init__',\n",
              " '__init_subclass__',\n",
              " '__iter__',\n",
              " '__le__',\n",
              " '__len__',\n",
              " '__lt__',\n",
              " '__mul__',\n",
              " '__ne__',\n",
              " '__new__',\n",
              " '__reduce__',\n",
              " '__reduce_ex__',\n",
              " '__repr__',\n",
              " '__reversed__',\n",
              " '__rmul__',\n",
              " '__setattr__',\n",
              " '__setitem__',\n",
              " '__sizeof__',\n",
              " '__str__',\n",
              " '__subclasshook__',\n",
              " 'append',\n",
              " 'clear',\n",
              " 'copy',\n",
              " 'count',\n",
              " 'extend',\n",
              " 'index',\n",
              " 'insert',\n",
              " 'pop',\n",
              " 'remove',\n",
              " 'reverse',\n",
              " 'sort']"
            ]
          },
          "metadata": {},
          "execution_count": 1
        }
      ]
    },
    {
      "cell_type": "code",
      "source": [
        "#append adds value to the last value of the index\n",
        "#only adds value at the last index of the list\n",
        "a=[1,2,3,4,5,6]\n",
        "print(\"Before append\",a)\n",
        "a.append(8)\n",
        "print (\"After append\",a)"
      ],
      "metadata": {
        "colab": {
          "base_uri": "https://localhost:8080/"
        },
        "id": "XfgzOS6Z1PtB",
        "outputId": "4c0db9e7-021e-455e-f988-f30702f80c44"
      },
      "execution_count": null,
      "outputs": [
        {
          "output_type": "stream",
          "name": "stdout",
          "text": [
            "Before append [1, 2, 3, 4, 5, 6]\n",
            "After append [1, 2, 3, 4, 5, 6, 8]\n"
          ]
        }
      ]
    },
    {
      "cell_type": "code",
      "source": [
        "#clear (removes all the elements of list)\n",
        "#makes it empty\n",
        "\n",
        "a=[1,2,3,4,5,6]\n",
        "print(\"Before clear\",a)\n",
        "a.clear()\n",
        "print(\"Afer clear\",a) #length of list 'a' after clear is 0"
      ],
      "metadata": {
        "colab": {
          "base_uri": "https://localhost:8080/"
        },
        "id": "rlKqTKOn1Pps",
        "outputId": "d0ead34f-59be-4a39-c14b-da774d25afd1"
      },
      "execution_count": null,
      "outputs": [
        {
          "output_type": "stream",
          "name": "stdout",
          "text": [
            "Before clear [1, 2, 3, 4, 5, 6]\n",
            "Afer clear []\n"
          ]
        }
      ]
    },
    {
      "cell_type": "code",
      "source": [
        "#copy\n",
        "a_list=[1,2,3,4,5,6,7]\n",
        "b_list=a_list\n",
        "c_list=a_list.copy()\n",
        "\n",
        "print(\"Before Operation Actual List\",a_list)\n",
        "print(\"Before Operation Equal to List\",b_list)\n",
        "print(\"Before Operation Copy List\",c_list)\n",
        "print(\"=============================\")\n",
        "#make a operation on a_list\n",
        "a_list.append(8) #a will have value of 8 at the end of the list.\n",
        "print(\"After Operation Actual List\",a_list)\n",
        "print(\"After Operation Equal to List\",b_list)\n",
        "print(\"After Operation Copy List\",c_list)\n"
      ],
      "metadata": {
        "colab": {
          "base_uri": "https://localhost:8080/"
        },
        "id": "RbApxV3X1PnB",
        "outputId": "f5ef2c05-5d20-4fb7-d691-f669fe1b0996"
      },
      "execution_count": null,
      "outputs": [
        {
          "output_type": "stream",
          "name": "stdout",
          "text": [
            "Before Operation Actual List [1, 2, 3, 4, 5, 6, 7]\n",
            "Before Operation Equal to List [1, 2, 3, 4, 5, 6, 7]\n",
            "Before Operation Copy List [1, 2, 3, 4, 5, 6, 7]\n",
            "=============================\n",
            "After Operation Actual List [1, 2, 3, 4, 5, 6, 7, 8]\n",
            "After Operation Equal to List [1, 2, 3, 4, 5, 6, 7, 8]\n",
            "After Operation Copy List [1, 2, 3, 4, 5, 6, 7]\n"
          ]
        }
      ]
    },
    {
      "cell_type": "code",
      "source": [
        "#count gives count of the value in the list / frequency\n",
        "a_list=[1,2,3,4,5,6,7,8,6,4]\n",
        "print(a_list.count(44)) #as 44 is not in the list, so it comes out as 0\n",
        "print(a_list.count(6)) #there are TWO 6, so it gave 2"
      ],
      "metadata": {
        "colab": {
          "base_uri": "https://localhost:8080/"
        },
        "id": "ETwm3rq0-fHY",
        "outputId": "207357f7-bca2-4c80-fb77-756d0cada7ad"
      },
      "execution_count": null,
      "outputs": [
        {
          "output_type": "stream",
          "name": "stdout",
          "text": [
            "0\n",
            "2\n"
          ]
        }
      ]
    },
    {
      "cell_type": "code",
      "source": [
        "#Extend function\n",
        "a_list=[1,2,3,4,5,6,7]\n",
        "a_list.append([8,9,10]) #it took list of 8,9,10 as one item\n",
        "print(\"Append function \",a_list)\n",
        "print(\"Append function len\",len(a_list))"
      ],
      "metadata": {
        "colab": {
          "base_uri": "https://localhost:8080/"
        },
        "id": "WS0qgBTw-e7p",
        "outputId": "f5af5ec0-e1b8-4e0e-eede-890149e0a2d1"
      },
      "execution_count": null,
      "outputs": [
        {
          "output_type": "stream",
          "name": "stdout",
          "text": [
            "Append function  [1, 2, 3, 4, 5, 6, 7, [8, 9, 10]]\n",
            "Append function len 8\n"
          ]
        }
      ]
    },
    {
      "cell_type": "code",
      "source": [
        "a_list=[1,2,3,4,5,6,7]\n",
        "a_list.extend([8,9,10]) #extend added each value to the list and printed the length as 10.\n",
        "print(\"Append function \",a_list)\n",
        "print(\"Append function len\",len(a_list))"
      ],
      "metadata": {
        "colab": {
          "base_uri": "https://localhost:8080/"
        },
        "id": "7YpTVPw4CGF1",
        "outputId": "9c04a4cf-5785-4c71-ab27-9afeaab9e9c4"
      },
      "execution_count": null,
      "outputs": [
        {
          "output_type": "stream",
          "name": "stdout",
          "text": [
            "Append function  [1, 2, 3, 4, 5, 6, 7, 8, 9, 10]\n",
            "Append function len 10\n"
          ]
        }
      ]
    },
    {
      "cell_type": "code",
      "source": [
        "a_list=[1,2,3,4,5,6,7]\n",
        "a_list.extend([8,9,10])\n",
        "print(\"Append function \",a_list)\n",
        "print(\"Append function len\",len(a_list))"
      ],
      "metadata": {
        "colab": {
          "base_uri": "https://localhost:8080/"
        },
        "id": "RS8JZhAnDX5L",
        "outputId": "5d93fcec-e7fa-4689-a7cd-ce0d40b67729"
      },
      "execution_count": null,
      "outputs": [
        {
          "output_type": "stream",
          "name": "stdout",
          "text": [
            "Append function  [1, 2, 3, 4, 5, 6, 7, 8, 9, 10]\n",
            "Append function len 10\n"
          ]
        }
      ]
    },
    {
      "cell_type": "code",
      "source": [
        "#print 9 out of this\n",
        "\n",
        "a_list=[1,2,3,4,5,6,7]\n",
        "a_list.append([8,9,10])\n",
        "print(a_list)\n",
        "print(a_list[7])\n",
        "print(a_list[7][1]) #prints 9 as it'll check[8,9,10] from a_list[7] and go to index 1(i.e., 9)\n",
        "\n"
      ],
      "metadata": {
        "colab": {
          "base_uri": "https://localhost:8080/"
        },
        "id": "YEyzsnyNCh13",
        "outputId": "ce109da9-e588-4c71-f18c-49e25c80469a"
      },
      "execution_count": null,
      "outputs": [
        {
          "output_type": "stream",
          "name": "stdout",
          "text": [
            "[1, 2, 3, 4, 5, 6, 7, [8, 9, 10]]\n",
            "[8, 9, 10]\n",
            "9\n"
          ]
        }
      ]
    },
    {
      "cell_type": "code",
      "source": [
        "# Insert function takes in two values: index and object/value/number\n",
        "\n",
        "a_list=[11,22,33,44,55,66,77,33]\n",
        "a_list.insert(5,111) #it'll post value before 6 index\n",
        "print(a_list)"
      ],
      "metadata": {
        "colab": {
          "base_uri": "https://localhost:8080/"
        },
        "id": "pAJ6dhDyHvvW",
        "outputId": "1414b4b2-0292-4aa2-beaa-8e086e35fa7c"
      },
      "execution_count": null,
      "outputs": [
        {
          "output_type": "stream",
          "name": "stdout",
          "text": [
            "[11, 22, 33, 44, 55, 111, 66, 77, 33]\n"
          ]
        }
      ]
    },
    {
      "cell_type": "code",
      "source": [
        "#It removes the value from the last of the list\n",
        "#default value is last element in the list\n",
        "\n",
        "a_list=[11,22,33,44,55,66,77,33]\n",
        "print(a_list.pop())\n",
        "print(a_list)"
      ],
      "metadata": {
        "id": "hen5ch-2FLP1",
        "colab": {
          "base_uri": "https://localhost:8080/"
        },
        "outputId": "dc2c7baf-d3c2-45c9-8f6f-82fd48fc4b14"
      },
      "execution_count": null,
      "outputs": [
        {
          "output_type": "stream",
          "name": "stdout",
          "text": [
            "33\n",
            "[11, 22, 33, 44, 55, 66, 77]\n"
          ]
        }
      ]
    },
    {
      "cell_type": "code",
      "source": [
        "#remove value and works like index fxn, It'll find the first value from left to right and remove and display.\n",
        "a_list=[11,22,33,44,55,66,77,33]\n",
        "a_list.remove(33)\n",
        "print(a_list)"
      ],
      "metadata": {
        "id": "XsyJEyT3FLBQ",
        "colab": {
          "base_uri": "https://localhost:8080/"
        },
        "outputId": "eb1f1910-b30c-43f6-8d14-20fc6b9a0132"
      },
      "execution_count": null,
      "outputs": [
        {
          "output_type": "stream",
          "name": "stdout",
          "text": [
            "[11, 22, 44, 55, 66, 77, 33]\n"
          ]
        }
      ]
    },
    {
      "cell_type": "code",
      "source": [
        "#reverse\n",
        "\n",
        "a_list=[11,22,33,44,55,66,77,33]\n",
        "a_list.reverse()\n",
        "print(a_list)"
      ],
      "metadata": {
        "colab": {
          "base_uri": "https://localhost:8080/"
        },
        "id": "Y9-gEMfpMVQo",
        "outputId": "34d09767-dc2b-44c3-df2a-31ac7bac0503"
      },
      "execution_count": null,
      "outputs": [
        {
          "output_type": "stream",
          "name": "stdout",
          "text": [
            "[33, 77, 66, 55, 44, 33, 22, 11]\n"
          ]
        }
      ]
    },
    {
      "cell_type": "code",
      "source": [
        "# sort (it is used only to document in ascending or descending order)\n",
        "\n",
        "a_list=[11,5,9,89,100,0]\n",
        "a_list.sort()\n",
        "print(a_list)"
      ],
      "metadata": {
        "colab": {
          "base_uri": "https://localhost:8080/"
        },
        "id": "TQtTdoapMnQz",
        "outputId": "1278bd2f-f0f6-483e-fcba-5441cb33a644"
      },
      "execution_count": null,
      "outputs": [
        {
          "output_type": "stream",
          "name": "stdout",
          "text": [
            "[0, 5, 9, 11, 89, 100]\n"
          ]
        }
      ]
    },
    {
      "cell_type": "code",
      "source": [
        "#Sort: default is asceding order #for descending order, need to give command as reverse.\n",
        "#if there is string, it'll give an error (It doesn't work with string)\n",
        "a_list=[11,5,9,89,100,0]\n",
        "a_list.sort(reverse=True)\n",
        "print(a_list)"
      ],
      "metadata": {
        "colab": {
          "base_uri": "https://localhost:8080/"
        },
        "id": "bKxkYKp1NIxg",
        "outputId": "fa87e407-fceb-4960-9429-4c5b0e822ee8"
      },
      "execution_count": null,
      "outputs": [
        {
          "output_type": "stream",
          "name": "stdout",
          "text": [
            "[100, 89, 11, 9, 5, 0]\n"
          ]
        }
      ]
    },
    {
      "cell_type": "code",
      "source": [
        "#Tuple can't alter.\n",
        "#It has count and index function.\n",
        "#count: counts the no. times of the value occured and executes where the repetitive element is started/\n",
        "\n",
        "b_tup=(1,2,3,4,2,4)\n",
        "b_tup.count(4) #"
      ],
      "metadata": {
        "colab": {
          "base_uri": "https://localhost:8080/"
        },
        "id": "3KLeu9-ONVa3",
        "outputId": "6c12996a-cf11-4364-fd79-d47024e26e6d"
      },
      "execution_count": null,
      "outputs": [
        {
          "output_type": "execute_result",
          "data": {
            "text/plain": [
              "2"
            ]
          },
          "metadata": {},
          "execution_count": 68
        }
      ]
    },
    {
      "cell_type": "code",
      "source": [
        "#Tuple Index\n",
        "\n",
        "b_tup=(1,2,3,4,2,4)\n",
        "b_tup.index (4)"
      ],
      "metadata": {
        "id": "BRAQIdmoFKwY",
        "colab": {
          "base_uri": "https://localhost:8080/"
        },
        "outputId": "d8b2ada3-bafa-495b-dfe6-f9f81a591668"
      },
      "execution_count": null,
      "outputs": [
        {
          "output_type": "execute_result",
          "data": {
            "text/plain": [
              "3"
            ]
          },
          "metadata": {},
          "execution_count": 69
        }
      ]
    },
    {
      "cell_type": "markdown",
      "source": [
        "#**August 16, 2023**"
      ],
      "metadata": {
        "id": "FCLzEgv-N3KJ"
      }
    },
    {
      "cell_type": "code",
      "execution_count": null,
      "metadata": {
        "colab": {
          "base_uri": "https://localhost:8080/"
        },
        "id": "YmD1ZUQUUvTs",
        "outputId": "cc510450-4e99-45df-ee6e-a5c1fdf1f5bd"
      },
      "outputs": [
        {
          "output_type": "stream",
          "name": "stdout",
          "text": [
            "1\n",
            "2\n",
            "3\n",
            "4\n",
            "5\n",
            "11\n",
            "1\n",
            "2\n",
            "6\n",
            "1\n",
            "8\n"
          ]
        }
      ],
      "source": [
        "a=[1,2,3,4,5,11,1,2,6,1,8]\n",
        "\n",
        "#1st way with the values\n",
        "#a_list=[1,2,3,4,5,11,1,2,6,1,8]\n",
        "#for k in a_list:\n",
        " #   print(k)\n",
        "\n",
        "#2nd way with index\n",
        "for ind in range(len(a_list)): #for ind in range (0,11) starts index 0 and ends at end, here, 11 index\n",
        "    print(ind)"
      ]
    },
    {
      "cell_type": "code",
      "source": [
        "# Question 1) Remove all repeated elements from the list Given below using for loop.\n",
        "a_list=[1,2,3,4,5,11,1,2,6,1,8]\n",
        "\n",
        "unique_list=[]\n",
        "for k in a_list:\n",
        "  if k in unique_list:\n",
        "    print(\"Repeated value :-\", k)\n",
        "  else:\n",
        "    unique_list.append(k) #append adds in the lists\n",
        "print(unique_list)"
      ],
      "metadata": {
        "colab": {
          "base_uri": "https://localhost:8080/"
        },
        "id": "69UGNnogWIBc",
        "outputId": "37d2b0a5-0c55-40b1-bf90-c335f182ef75"
      },
      "execution_count": null,
      "outputs": [
        {
          "output_type": "stream",
          "name": "stdout",
          "text": [
            "Repeated value :- 1\n",
            "Repeated value :- 2\n",
            "Repeated value :- 1\n",
            "[1, 2, 3, 4, 5, 11, 6, 8]\n"
          ]
        }
      ]
    },
    {
      "cell_type": "code",
      "source": [
        "#with sets\n",
        "a_list=[1,2,3,4,5,11,1,2,6,1,8]\n",
        "print(set(a_list))"
      ],
      "metadata": {
        "colab": {
          "base_uri": "https://localhost:8080/"
        },
        "id": "IZM59dY0XVzt",
        "outputId": "ed18eb28-48c2-4a1e-c02a-46b8fcb1704a"
      },
      "execution_count": null,
      "outputs": [
        {
          "output_type": "stream",
          "name": "stdout",
          "text": [
            "{1, 2, 3, 4, 5, 6, 8, 11}\n"
          ]
        }
      ]
    },
    {
      "cell_type": "code",
      "source": [
        "# Question 2) Print all prime numbers below 100\n",
        "#0 & 1 are not prime numbers, so it starts from 2\n",
        "#divisible only by itself or 1\n",
        "\n",
        "list_of_prime_numbers=[]\n",
        "for k in range(2,100): #starts loop from 2 to 100\n",
        "  flag=True            # for all values of k by default we set prime no. #flag is just a name, not a key\n",
        "  for s in range(2,k): # this loop'll\n",
        "    if k%s==0:\n",
        "      flag=False\n",
        "      break\n",
        "  if flag:\n",
        "    list_of_prime_numbers.append(k)\n",
        "\n",
        "for primes in list_of_prime_numbers:\n",
        "  print(primes,\"is a prime number\")"
      ],
      "metadata": {
        "id": "FbHL9deVVogH",
        "colab": {
          "base_uri": "https://localhost:8080/"
        },
        "outputId": "f1f4a9f7-a8a3-4b9b-d0b6-50d3327480b7"
      },
      "execution_count": null,
      "outputs": [
        {
          "output_type": "stream",
          "name": "stdout",
          "text": [
            "2 is a prime number\n",
            "3 is a prime number\n",
            "5 is a prime number\n",
            "7 is a prime number\n",
            "11 is a prime number\n",
            "13 is a prime number\n",
            "17 is a prime number\n",
            "19 is a prime number\n",
            "23 is a prime number\n",
            "29 is a prime number\n",
            "31 is a prime number\n",
            "37 is a prime number\n",
            "41 is a prime number\n",
            "43 is a prime number\n",
            "47 is a prime number\n",
            "53 is a prime number\n",
            "59 is a prime number\n",
            "61 is a prime number\n",
            "67 is a prime number\n",
            "71 is a prime number\n",
            "73 is a prime number\n",
            "79 is a prime number\n",
            "83 is a prime number\n",
            "89 is a prime number\n",
            "97 is a prime number\n"
          ]
        }
      ]
    },
    {
      "cell_type": "code",
      "source": [
        "# Question 3) print list in reverse order using for loop\n",
        "\n",
        "a=[1,2,3,4,5,6,7]\n",
        "reverse_list=[]\n",
        "for k in range(len(a)-1,-1,-1): # started from len of a is 7,stop till -1, steps -1\n",
        "  reverse_list.append(a[k])\n",
        "print(reverse_list)\n",
        "\n",
        "\n",
        "#2nd option\n",
        "#for i in range (1,len(a)+1):\n",
        "#  print (a[-1])\n",
        "\n",
        "#3rd option\n",
        "#for i in a[::-1]:\n",
        "#print(i)"
      ],
      "metadata": {
        "colab": {
          "base_uri": "https://localhost:8080/"
        },
        "id": "5_X6TGlaVvE_",
        "outputId": "e148724d-a270-4201-cdd6-02d1696d61b7"
      },
      "execution_count": null,
      "outputs": [
        {
          "output_type": "stream",
          "name": "stdout",
          "text": [
            "[7, 6, 5, 4, 3, 2, 1]\n"
          ]
        }
      ]
    },
    {
      "cell_type": "code",
      "source": [
        "# Question 4)  print multiplication table of 13 using for loop\n",
        "\n",
        "for i in range(1,11):\n",
        "  print(str(i)+\" X 13 is = \", i*13)"
      ],
      "metadata": {
        "colab": {
          "base_uri": "https://localhost:8080/"
        },
        "id": "BdP70m5nV86f",
        "outputId": "14fb8ca3-afe5-4462-87de-2bb406bc6c0e"
      },
      "execution_count": null,
      "outputs": [
        {
          "output_type": "stream",
          "name": "stdout",
          "text": [
            "1 X 13 is =  13\n",
            "2 X 13 is =  26\n",
            "3 X 13 is =  39\n",
            "4 X 13 is =  52\n",
            "5 X 13 is =  65\n",
            "6 X 13 is =  78\n",
            "7 X 13 is =  91\n",
            "8 X 13 is =  104\n",
            "9 X 13 is =  117\n",
            "10 X 13 is =  130\n"
          ]
        }
      ]
    },
    {
      "cell_type": "code",
      "source": [
        "# python program to count the total number of digits in a number\n",
        "# e.g.; for no. 123, it has 3 digits in total\n",
        "\n",
        "\n",
        "\n",
        "# method 1:\n",
        "# n = (input(\"Enter a number: \"))\n",
        "# print(len(n))\n",
        "\n",
        "#method 2:\n",
        "count=0\n",
        "a=input (\"Enter any number: \")\n",
        "for i in range(len(a)):\n",
        "  count+=1\n",
        "print(count)\n"
      ],
      "metadata": {
        "id": "xv_NXfXVe2FT",
        "colab": {
          "base_uri": "https://localhost:8080/"
        },
        "outputId": "c9dcef73-8233-4e74-f6d9-429da8379cfa"
      },
      "execution_count": null,
      "outputs": [
        {
          "output_type": "stream",
          "name": "stdout",
          "text": [
            "Enter any number: 456789\n",
            "6\n"
          ]
        }
      ]
    },
    {
      "cell_type": "code",
      "source": [
        "# Write a program to find greatest common divisor (GCD) or highest common factor (HCF) of given two numbers.\n",
        "# HCF highest no. that divides both the no.\n",
        "\n",
        "a=int(input(\"First Number\"))\n",
        "b=int(input(\"Second Number\"))\n",
        "\n",
        "smallest_number=min(a,b)\n",
        "\n",
        "for k in range(smallest_number,-1,-1): #start,stop,step #starts with min 14, then stops at 0, -1 index\n",
        "  if a%k==0 and b%k==0:\n",
        "    print(\"The GCD is \", k)\n",
        "    break\n"
      ],
      "metadata": {
        "colab": {
          "base_uri": "https://localhost:8080/"
        },
        "id": "1RE9jEr6hzCf",
        "outputId": "59564bd9-4653-4533-88cf-94bc1be8e401"
      },
      "execution_count": null,
      "outputs": [
        {
          "output_type": "stream",
          "name": "stdout",
          "text": [
            "First Number32\n",
            "Second Number14\n",
            "The GCD is  2\n"
          ]
        }
      ]
    },
    {
      "cell_type": "markdown",
      "source": [
        "#**August 17, 2023**"
      ],
      "metadata": {
        "id": "_kIqZHl7nBP-"
      }
    },
    {
      "cell_type": "code",
      "source": [
        "#Question 1 ) Write a program in Python to display the Factorial of a number.\n",
        "\n",
        "i=int(input(\"Enter a number: \"))\n",
        "factorial=1\n",
        "\n",
        "for k in range(1,i+1): #\n",
        "  print (\"Value of factorial\",factorial)\n",
        "  print(\"Value of k\", k)\n",
        "  factorial=factorial*k #when factorial is 1, value of k is 2\n",
        "if i==0:\n",
        "  print(\"factorial of 0 is 1\")\n",
        "else:\n",
        "  print(factorial)\n",
        "\n"
      ],
      "metadata": {
        "colab": {
          "base_uri": "https://localhost:8080/"
        },
        "id": "1UPHYj91nFG0",
        "outputId": "38012120-dab9-45d0-ea26-9f09869a7b8c"
      },
      "execution_count": null,
      "outputs": [
        {
          "output_type": "stream",
          "name": "stdout",
          "text": [
            "Enter a number: 4\n",
            "Value of factorial 1\n",
            "Value of k 1\n",
            "Value of factorial 1\n",
            "Value of k 2\n",
            "Value of factorial 2\n",
            "Value of k 3\n",
            "Value of factorial 6\n",
            "Value of k 4\n",
            "24\n"
          ]
        }
      ]
    },
    {
      "cell_type": "code",
      "source": [
        "# factorial of a number\n",
        "num=int(input(\"Please enter a number \"))\n",
        "factorial=1\n",
        "\n",
        "for k in range(1,num+1):\n",
        "  factorial=factorial*k\n",
        "\n",
        "print(factorial)"
      ],
      "metadata": {
        "colab": {
          "base_uri": "https://localhost:8080/"
        },
        "id": "NoChPAe1t2MR",
        "outputId": "568f6392-6fb3-4eb0-decb-735ea9701ef6"
      },
      "execution_count": null,
      "outputs": [
        {
          "output_type": "stream",
          "name": "stdout",
          "text": [
            "Please enter a number -5\n",
            "1\n"
          ]
        }
      ]
    },
    {
      "cell_type": "code",
      "source": [
        "# WAP to separate positive and negative number from a list.\n",
        "\n",
        "lst1=[1,5,-10,8,9,-4,-8,-3,0]\n",
        "post_num=[]\n",
        "nega_num=[]\n",
        "for k in lst1:\n",
        "  if k<0:\n",
        "    nega_num.append(k)\n",
        "  else:\n",
        "    post_num.append(k)\n",
        "\n",
        "print(post_num)\n",
        "print(nega_num)\n"
      ],
      "metadata": {
        "id": "1UQgooJ9pM2k",
        "colab": {
          "base_uri": "https://localhost:8080/"
        },
        "outputId": "fbb8de00-27ad-4468-f594-2ff97fc899dc"
      },
      "execution_count": null,
      "outputs": [
        {
          "output_type": "stream",
          "name": "stdout",
          "text": [
            "[1, 5, 8, 9, 0]\n",
            "[-10, -4, -8, -3]\n"
          ]
        }
      ]
    },
    {
      "cell_type": "code",
      "source": [
        "num = float(input(\"Give a number: \"))\n",
        "if num > 0:\n",
        "   print(\"It is a positive number\")\n",
        "elif num == 0:\n",
        "   print(\"It is Zero\")\n",
        "else:\n",
        "   print(\"It is a negative number\")\n"
      ],
      "metadata": {
        "colab": {
          "base_uri": "https://localhost:8080/"
        },
        "id": "n18_Z58TvAne",
        "outputId": "11e12bdd-b8ba-4601-8c65-5b0bd37a2dd6"
      },
      "execution_count": null,
      "outputs": [
        {
          "output_type": "stream",
          "name": "stdout",
          "text": [
            "Give a number: 9\n",
            "It is a positive number\n"
          ]
        }
      ]
    },
    {
      "cell_type": "code",
      "source": [
        "# fibonnaci series is starts from 0,1 rest of the terms are sum of previous two terms\n",
        "\n",
        "a = 0\n",
        "b = 1\n",
        "print(a, b, end=' ')\n",
        "for i in range(10):\n",
        "  c = a + b\n",
        "  print(c, end=' ')\n",
        "  a = b\n",
        "  b = c"
      ],
      "metadata": {
        "colab": {
          "base_uri": "https://localhost:8080/"
        },
        "id": "FmBZTl0dv0_-",
        "outputId": "d547d2ab-ab15-4856-fdf7-bcfbb9fc951a"
      },
      "execution_count": null,
      "outputs": [
        {
          "output_type": "stream",
          "name": "stdout",
          "text": [
            "0 1 1 2 3 5 8 13 21 34 55 89 "
          ]
        }
      ]
    },
    {
      "cell_type": "code",
      "source": [
        "fibonacci_list=[0,1] #first and second terms are defined\n",
        "\n",
        "number_of_terms=int(input(\"Number of terms: \"))\n",
        "while len(fibonacci_list)<number_of_terms: #used while because we don't know how many times we need to run the loop\n",
        "  next_term=fibonacci_list[-1]+fibonacci_list[-2] #-1 gives last , -2 gives 2nd last term\n",
        "  fibonacci_list.append(next_term)\n",
        "print(fibonacci_list)"
      ],
      "metadata": {
        "colab": {
          "base_uri": "https://localhost:8080/"
        },
        "id": "t0-sp0xXzZwQ",
        "outputId": "f89cadb0-37ff-453c-f364-9eb01a22b116"
      },
      "execution_count": null,
      "outputs": [
        {
          "output_type": "stream",
          "name": "stdout",
          "text": [
            "Number of terms: 10\n",
            "[0, 1, 1, 2, 3, 5, 8, 13, 21, 34]\n"
          ]
        }
      ]
    },
    {
      "cell_type": "markdown",
      "source": [
        "#**August 18, 2023**"
      ],
      "metadata": {
        "id": "MtnqAAyputs-"
      }
    },
    {
      "cell_type": "code",
      "source": [
        "# 1) Write a Python program to find those numbers which are divisible by 7 and multiples of 5, between 1500 and 2700 (both included).\n",
        "for i in range(1500,2701):\n",
        "    if(i%7 == 0 and i%5 == 0):\n",
        "        print(i)"
      ],
      "metadata": {
        "id": "or-SYeul3f0R",
        "colab": {
          "base_uri": "https://localhost:8080/"
        },
        "outputId": "a845b29d-71ee-40b3-b622-b737b9b0b182"
      },
      "execution_count": null,
      "outputs": [
        {
          "output_type": "stream",
          "name": "stdout",
          "text": [
            "1505\n",
            "1540\n",
            "1575\n",
            "1610\n",
            "1645\n",
            "1680\n",
            "1715\n",
            "1750\n",
            "1785\n",
            "1820\n",
            "1855\n",
            "1890\n",
            "1925\n",
            "1960\n",
            "1995\n",
            "2030\n",
            "2065\n",
            "2100\n",
            "2135\n",
            "2170\n",
            "2205\n",
            "2240\n",
            "2275\n",
            "2310\n",
            "2345\n",
            "2380\n",
            "2415\n",
            "2450\n",
            "2485\n",
            "2520\n",
            "2555\n",
            "2590\n",
            "2625\n",
            "2660\n",
            "2695\n"
          ]
        }
      ]
    },
    {
      "cell_type": "code",
      "source": [
        "# Write a Python program to count the number of even and odd numbers in a series of numbers\n",
        "# Sample numbers : numbers = (1, 2, 3, 4, 5, 6, 7, 8, 9)\n",
        "\n",
        "a = 0\n",
        "\n",
        "while a < 100:\n",
        "  a+=1\n",
        "  if a%2==0:\n",
        "      print(a, 'is even number')\n",
        "  else:\n",
        "      print(a,'is odd number')"
      ],
      "metadata": {
        "id": "lOhDZp2R3otr"
      },
      "execution_count": null,
      "outputs": []
    },
    {
      "cell_type": "code",
      "source": [
        "# Write a Python program that prints all the numbers from 0 to 6 except 3 and 6.\n",
        "# Expected Output : 0 1 2 4 5\n",
        "# like 2\n",
        "\n",
        "for num in range(7):\n",
        "  if num==3 or num==6:\n",
        "    continue\n",
        "  else:\n",
        "    print(num)"
      ],
      "metadata": {
        "id": "mtB1Rwpb3uxd",
        "colab": {
          "base_uri": "https://localhost:8080/"
        },
        "outputId": "288447c3-76ba-428e-88a4-5325eb0097ab"
      },
      "execution_count": null,
      "outputs": [
        {
          "output_type": "stream",
          "name": "stdout",
          "text": [
            "0\n",
            "1\n",
            "2\n",
            "4\n",
            "5\n"
          ]
        }
      ]
    },
    {
      "cell_type": "markdown",
      "source": [
        "#**August 21, 2023**"
      ],
      "metadata": {
        "id": "AOi7SJcevrIx"
      }
    },
    {
      "cell_type": "code",
      "source": [
        "# 1) Write a Python Function that accepts a hyphen-separated sequence of words as input and prints the words in a hyphen-separated sequence after sorting them alphabetically.\n",
        "# Sample Items : green-red-yellow-black-white\n",
        "# Expected Result : black-green-red-white-yellow\n",
        "\n",
        "\n",
        "def sort_the_string (words_str):\n",
        "  words_list = words_str.split(\"-\") #splits list by hyphen\n",
        "  sorted_list=sorted(words_list)\n",
        "  print(\"-\".join (sorted_list))\n",
        "\n",
        "sort_the_string(\"green-red-yellow-black-white\")"
      ],
      "metadata": {
        "colab": {
          "base_uri": "https://localhost:8080/"
        },
        "id": "cSDlJlrnEYNP",
        "outputId": "8af5cfde-d0aa-4005-d545-c826367077ed"
      },
      "execution_count": null,
      "outputs": [
        {
          "output_type": "stream",
          "name": "stdout",
          "text": [
            "black-green-red-white-yellow\n"
          ]
        }
      ]
    },
    {
      "cell_type": "code",
      "source": [
        "def sort_the_string (words_str):\n",
        "  words_list = words_str.split(\"-\") #splits list by hyphen\n",
        "  sorted_list=sorted(words_list)\n",
        "  str_out=\"\"\n",
        "  print(\"Sorted list \", sorted_list)\n",
        "  for k in range(len(sorted_list)):\n",
        "    if k==len(sorted_list)-1:\n",
        "      str_out=str_out+k\n",
        "    else:\n",
        "    str_out=str_out+\"-\"+k\n",
        "    print(k)\n",
        "    print(str_out)\n",
        "\n",
        "\n",
        "sort_the_string(\"green-red-yellow-black-white\")"
      ],
      "metadata": {
        "id": "kmbizcBBKnrw"
      },
      "execution_count": null,
      "outputs": []
    },
    {
      "cell_type": "code",
      "source": [
        "# 2)  Write a function that accepts a string and count consonant and vowels in that string\n",
        "\n",
        "def count_const_vowels(words):\n",
        "  vowels_list=['a','e','i','o','u']\n",
        "  count_vowls=0\n",
        "  count_const=0\n",
        "\n",
        "  for k in words:\n",
        "    if k in vowels_list:\n",
        "      count_vowls=count_vowls+1\n",
        "    else:\n",
        "      count_const=count_const+1\n",
        "  print(\"Count of consonants\", count_const)\n",
        "  print(\"Count of Vowels\", count_vowls)\n",
        "\n",
        "count_const_vowels(\"blackgreenredwhiteyellow\")"
      ],
      "metadata": {
        "colab": {
          "base_uri": "https://localhost:8080/"
        },
        "id": "8LpuesNaG-Sx",
        "outputId": "2f8f3447-d0aa-444d-e495-80b178b575b2"
      },
      "execution_count": null,
      "outputs": [
        {
          "output_type": "stream",
          "name": "stdout",
          "text": [
            "Count of consonants 16\n",
            "Count of Vowels 8\n"
          ]
        }
      ]
    },
    {
      "cell_type": "code",
      "source": [
        "def count_const_vowels(words):\n",
        "  vowels_list=['a','e','i','o','u']\n",
        "  count_vowls=0\n",
        "  count_const=0\n",
        "\n",
        "  for k in words.lower():\n",
        "    if k.isalpha():\n",
        "      if k in vowels_list:\n",
        "       count_vowls=count_vowls+1\n",
        "      else:\n",
        "       count_const=count_const+1\n",
        "  print(\"Count of consonants\", count_const)\n",
        "  print(\"Count of Vowels\", count_vowls)\n",
        "\n",
        "count_const_vowels(\"black-green-red-white-yellow\")"
      ],
      "metadata": {
        "colab": {
          "base_uri": "https://localhost:8080/"
        },
        "id": "_bJIIRRwRRds",
        "outputId": "c76f11d2-e03a-48e5-da65-6a800974286c"
      },
      "execution_count": null,
      "outputs": [
        {
          "output_type": "stream",
          "name": "stdout",
          "text": [
            "Count of consonants 16\n",
            "Count of Vowels 8\n"
          ]
        }
      ]
    },
    {
      "cell_type": "code",
      "source": [
        "# Write a Python function to check whether a number is \"Perfect\" or not.\n",
        "#According to Wikipedia : In number theory, a perfect number is a positive integer that is equal to the sum of its proper positive divisors, that is, the sum of its positive divisors excluding the number itself (also known as its aliquot sum). Equivalently, a perfect number is a number that is half the sum of all of its positive divisors (including itself).\n",
        "# Example : The first perfect number is 6, because 1, 2, and 3 are its proper positive divisors, and 1 + 2 + 3 = 6. Equivalently, the number 6 is equal to half the sum of all its positive divisors: ( 1 + 2 + 3 + 6 ) / 2 = 6. The next perfect number is 28 = 1 + 2 + 4 + 7 + 14. This is followed by the perfect numbers 496 and 8128.\n",
        "\n",
        "\n",
        "n=int(input(\"Enter any number: \"))\n",
        "sum1=0\n",
        "for i in range(1,n):\n",
        "  if(n%i==0): #trying to find out proper divisor\n",
        "    sum1=sum1+i\n",
        "if(sum1==n):\n",
        "  print(\"The number is a Perfect number!\")\n",
        "else:\n",
        "  print(\"The number is not a Perfect number!\")\n",
        "\n",
        "\n",
        "\n"
      ],
      "metadata": {
        "colab": {
          "base_uri": "https://localhost:8080/"
        },
        "id": "nmFQuJYMNjcB",
        "outputId": "979f6b9c-8a4e-429a-bb01-bdd0a3c8ef9f"
      },
      "execution_count": null,
      "outputs": [
        {
          "output_type": "stream",
          "name": "stdout",
          "text": [
            "Enter any number: 18\n",
            "The number is not a Perfect number!\n"
          ]
        }
      ]
    },
    {
      "cell_type": "markdown",
      "source": [
        "#**August 22, 2023**"
      ],
      "metadata": {
        "id": "kDlr7nbrzF4a"
      }
    },
    {
      "cell_type": "code",
      "source": [],
      "metadata": {
        "id": "YxTBc4_szDgA"
      },
      "execution_count": null,
      "outputs": []
    },
    {
      "cell_type": "code",
      "source": [
        "# HW\n",
        "#1) Write a program to print twin primes less than 1000.\n",
        "# If two consecutive odd numbers are both prime then they are known as twin primes\n",
        "\n",
        "#Solution:\n",
        "#first part is we have to iterate till 1000\n",
        "# 2nd part only check for odd numbers\n",
        "# 3rd part, both the numbers should be prime\n",
        "\n",
        "n=int(input(\"Enter the Max Range: \"))\n",
        "\n",
        "def check_prime_number(num):\n",
        "  check_prime=True\n",
        "  for i in range(2,num): # by default range(2,-1)\n",
        "    if num%i==0:\n",
        "      return False\n",
        "  return True\n",
        "\n",
        "def print_prime_pairs(n):\n",
        "# We start from 3 which is first odd prime number and jump 2 places each for next odd number\n",
        "  for k in range(3,n,2):\n",
        "    if check_prime_number(k) and check_prime_number(k+2):\n",
        "      print(\"Pair Prime Numbers\",k,k+2)\n",
        "\n",
        "print_prime_pairs(n)\n"
      ],
      "metadata": {
        "colab": {
          "base_uri": "https://localhost:8080/"
        },
        "id": "xD1mwP4tS2dk",
        "outputId": "7dcd0e55-1fb9-4e0d-d896-d1648ea335be"
      },
      "execution_count": null,
      "outputs": [
        {
          "output_type": "stream",
          "name": "stdout",
          "text": [
            "Enter the Max Range: 1000\n",
            "Pair Prime Numbers 3 5\n",
            "Pair Prime Numbers 5 7\n",
            "Pair Prime Numbers 11 13\n",
            "Pair Prime Numbers 17 19\n",
            "Pair Prime Numbers 29 31\n",
            "Pair Prime Numbers 41 43\n",
            "Pair Prime Numbers 59 61\n",
            "Pair Prime Numbers 71 73\n",
            "Pair Prime Numbers 101 103\n",
            "Pair Prime Numbers 107 109\n",
            "Pair Prime Numbers 137 139\n",
            "Pair Prime Numbers 149 151\n",
            "Pair Prime Numbers 179 181\n",
            "Pair Prime Numbers 191 193\n",
            "Pair Prime Numbers 197 199\n",
            "Pair Prime Numbers 227 229\n",
            "Pair Prime Numbers 239 241\n",
            "Pair Prime Numbers 269 271\n",
            "Pair Prime Numbers 281 283\n",
            "Pair Prime Numbers 311 313\n",
            "Pair Prime Numbers 347 349\n",
            "Pair Prime Numbers 419 421\n",
            "Pair Prime Numbers 431 433\n",
            "Pair Prime Numbers 461 463\n",
            "Pair Prime Numbers 521 523\n",
            "Pair Prime Numbers 569 571\n",
            "Pair Prime Numbers 599 601\n",
            "Pair Prime Numbers 617 619\n",
            "Pair Prime Numbers 641 643\n",
            "Pair Prime Numbers 659 661\n",
            "Pair Prime Numbers 809 811\n",
            "Pair Prime Numbers 821 823\n",
            "Pair Prime Numbers 827 829\n",
            "Pair Prime Numbers 857 859\n",
            "Pair Prime Numbers 881 883\n"
          ]
        }
      ]
    },
    {
      "cell_type": "code",
      "source": [
        "# 2) Write a program to find out the prime factorization of a number. Example: prime factorization  of 56 2 × 2 × 2 × 7\n",
        "\n",
        "#Solution:\n",
        "#first, we will divide the number until it becomes 1\n",
        "#\n",
        "\n",
        "n=int(input(\"Enter the number for prime factorization: \"))\n",
        "\n",
        "def prime_factors(num):\n",
        "  factors=[]\n",
        "  divisor=2\n",
        "  while num>1:\n",
        "    while num%divisor==0:\n",
        "      num=num/divisor\n",
        "      factors.append(str(divisor))\n",
        "    divisor=divisor+1\n",
        "  return factors\n",
        "\n",
        "def show_prime_factorization(n):\n",
        "  factors=prime_factors(n)\n",
        "  return \"x\".join(factors)\n",
        "\n",
        "show_prime_factorization(n)\n"
      ],
      "metadata": {
        "colab": {
          "base_uri": "https://localhost:8080/",
          "height": 52
        },
        "id": "EFrvbsxlqULU",
        "outputId": "11b6dd59-f65d-485e-8cac-f3398dbca3e7"
      },
      "execution_count": null,
      "outputs": [
        {
          "name": "stdout",
          "output_type": "stream",
          "text": [
            "Enter the number for prime factorization: 83\n"
          ]
        },
        {
          "output_type": "execute_result",
          "data": {
            "text/plain": [
              "'83'"
            ],
            "application/vnd.google.colaboratory.intrinsic+json": {
              "type": "string"
            }
          },
          "metadata": {},
          "execution_count": 13
        }
      ]
    },
    {
      "cell_type": "code",
      "source": [
        "# 3) Two different numbers are called amicable numbers if the sum of the proper divisors of each is equal to the other number. For example 220 and 284 are amicable numbers.\n",
        "\n",
        "#Solution: get all divisors of both numbers\n",
        "# check if sum is equal to original number\n",
        "\n",
        "x=int(input(\"Enter first number \"))\n",
        "y=int(input(\"Enter second number \"))\n",
        "\n",
        "def get_proper_divisors_sum(num):\n",
        "  sum=0\n",
        "  for k in range(1,num):\n",
        "    if num%k==0:\n",
        "      sum=sum+k\n",
        "  return sum\n",
        "\n",
        "def check_ambicale_numbers(x,y):\n",
        "  if get_proper_divisors_sum(x)==y and get_proper_divisors_sum(y)==x:\n",
        "    print(\"These are ambicale numbers\",x,y)\n",
        "  else:\n",
        "    print(\"Not ambicale number\")\n",
        "\n",
        "check_ambicale_numbers(x,y)"
      ],
      "metadata": {
        "colab": {
          "base_uri": "https://localhost:8080/"
        },
        "id": "yoPHceNLLTXl",
        "outputId": "5d2dc2be-9d8a-4f17-9492-9e4c079b8233"
      },
      "execution_count": null,
      "outputs": [
        {
          "output_type": "stream",
          "name": "stdout",
          "text": [
            "Enter first number 1184\n",
            "Enter second number 1210\n",
            "These are ambicale numbers 1184 1210\n"
          ]
        }
      ]
    },
    {
      "cell_type": "code",
      "source": [
        "# 1) Swap first and last element of the list\n",
        "# remove functions work on values which we might not know\n",
        "# pop works at indexes more suitable\n",
        "# clear removes everything from list which is not suggested\n",
        "\n",
        "a=[1,2,5,10,'1']\n",
        "\n",
        "def swap_elements(list_temp):\n",
        "  first=list_temp.pop(0)\n",
        "  last=list_temp.pop(-1)\n",
        "  list_temp.insert(0,last)\n",
        "  list_temp.append(first)\n",
        "\n",
        "swap_elements(a.copy())\n",
        "print(a)"
      ],
      "metadata": {
        "colab": {
          "base_uri": "https://localhost:8080/"
        },
        "id": "_AWBkw1LXqtX",
        "outputId": "10fa206d-5aca-4d5f-b7c3-c2b560248dba"
      },
      "execution_count": null,
      "outputs": [
        {
          "output_type": "stream",
          "name": "stdout",
          "text": [
            "['1', 2, 5, 10, 1]\n"
          ]
        }
      ]
    },
    {
      "cell_type": "code",
      "source": [
        "#\"=\" sign makes changes on both sides\n",
        "#copy fxn will not change on the list, though the internal fxn values are changed in program"
      ],
      "metadata": {
        "id": "X-kSd0oniQWl"
      },
      "execution_count": null,
      "outputs": []
    },
    {
      "cell_type": "code",
      "source": [
        "# swap 1st and last element of list\n",
        "a=[1,2,5,10,'1']\n",
        "\n",
        "def swap_elements(list_temp):\n",
        "  list_temp[0],list_temp[-1]=list_temp[-1],list_temp[0]\n",
        "  return list_temp\n",
        "\n",
        "swap_elements(a)"
      ],
      "metadata": {
        "colab": {
          "base_uri": "https://localhost:8080/"
        },
        "id": "rhdOHZ5Hi2Fk",
        "outputId": "b88eb752-a19e-43c3-cb2f-2c3eac24bb58"
      },
      "execution_count": null,
      "outputs": [
        {
          "output_type": "execute_result",
          "data": {
            "text/plain": [
              "['1', 2, 5, 10, 1]"
            ]
          },
          "metadata": {},
          "execution_count": 33
        }
      ]
    }
  ]
}