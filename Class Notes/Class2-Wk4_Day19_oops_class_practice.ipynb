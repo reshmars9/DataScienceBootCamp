{
  "cells": [
    {
      "cell_type": "code",
      "execution_count": null,
      "metadata": {
        "id": "YvGmmYDji7Ra"
      },
      "outputs": [],
      "source": [
        "# Basic data types\n",
        "# list inbuilt functions\n",
        "# string inbuilt functions\n",
        "# slicing / indexing\n",
        "# for loop\n",
        "# while loop\n",
        "# functions\n",
        "# set\n",
        "# dictionary\n",
        "# if-else conditions\n",
        "# exception handling\n",
        "# OOPS concepts"
      ]
    },
    {
      "cell_type": "code",
      "execution_count": null,
      "metadata": {
        "colab": {
          "base_uri": "https://localhost:8080/"
        },
        "id": "J2iYJditkVGN",
        "outputId": "2932d8db-cd3d-44b2-f031-66a6028173c3"
      },
      "outputs": [
        {
          "name": "stdout",
          "output_type": "stream",
          "text": [
            "Enter the number you want to sum5\n",
            "Enter the number you want to sum9\n",
            "Enter the number you want to sum10\n",
            "Enter the number you want to sum0\n",
            "total 24\n"
          ]
        }
      ],
      "source": [
        "# program to sum user input until user enters zero\n",
        "# while: where you have to force the exit\n",
        "\n",
        "n=int (input(\"Enter the number you want to sum\"))\n",
        "sum=0\n",
        "while n!=0:\n",
        "  sum=sum+n\n",
        "  n=int(input(\"Enter the number you want to sum\"))\n",
        "\n",
        "print(\"total\",sum)"
      ]
    },
    {
      "cell_type": "code",
      "execution_count": null,
      "metadata": {
        "colab": {
          "base_uri": "https://localhost:8080/"
        },
        "id": "60T3HtDClif-",
        "outputId": "8551a7ff-6ed8-423b-d206-8921e1201e8e"
      },
      "outputs": [
        {
          "name": "stdout",
          "output_type": "stream",
          "text": [
            "Enter the number you want to sum5\n",
            "Enter the number you want to sum4\n",
            "Enter the number you want to sum0\n",
            "total 9\n"
          ]
        }
      ],
      "source": [
        "n=int (input(\"Enter the number you want to sum\"))\n",
        "sum=0\n",
        "while True:\n",
        "  if n!=0:\n",
        "    sum=sum+n\n",
        "    n=int(input(\"Enter the number you want to sum\"))\n",
        "  else:\n",
        "    break\n",
        "print(\"total\",sum)"
      ]
    },
    {
      "cell_type": "code",
      "execution_count": null,
      "metadata": {
        "colab": {
          "base_uri": "https://localhost:8080/"
        },
        "id": "ZOfywlNcmmy_",
        "outputId": "1fe86c14-9395-4421-cf1d-53ad83bc9d38"
      },
      "outputs": [
        {
          "name": "stdout",
          "output_type": "stream",
          "text": [
            "Enter the number you want to sum 0\n",
            "total 0\n"
          ]
        }
      ],
      "source": [
        "n=int(input(\"Enter the number you want to sum \"))\n",
        "sum=0\n",
        "while True:\n",
        "  if n!=0:\n",
        "    sum=sum+n\n",
        "    n=int(input(\"Enter the number you want to sum \"))\n",
        "  else:\n",
        "    break\n",
        "print(\"total\",sum)"
      ]
    },
    {
      "cell_type": "code",
      "execution_count": null,
      "metadata": {
        "id": "b9sfIznnLtm4"
      },
      "outputs": [],
      "source": [
        "# Functions\n",
        "\n",
        "def calculate_sum(list_marks):\n",
        "  sum_list=sum(list_marks)\n",
        "  average=sum(list_marks)/len(list_marks)\n",
        "  return sum_list,average"
      ]
    },
    {
      "cell_type": "code",
      "execution_count": null,
      "metadata": {
        "id": "4bTcqa2dNJ09"
      },
      "outputs": [],
      "source": []
    },
    {
      "cell_type": "code",
      "execution_count": null,
      "metadata": {
        "colab": {
          "base_uri": "https://localhost:8080/",
          "height": 141
        },
        "id": "2_uToJyuL2bu",
        "outputId": "4b59e5a1-880b-4638-abab-39fb897fdfbf"
      },
      "outputs": [
        {
          "ename": "IndentationError",
          "evalue": "ignored",
          "output_type": "error",
          "traceback": [
            "\u001b[0;36m  File \u001b[0;32m\"<ipython-input-22-75786eb724c2>\"\u001b[0;36m, line \u001b[0;32m2\u001b[0m\n\u001b[0;31m    print(performa[0])\u001b[0m\n\u001b[0m    ^\u001b[0m\n\u001b[0;31mIndentationError\u001b[0m\u001b[0;31m:\u001b[0m unexpected indent\n"
          ]
        }
      ],
      "source": [
        "performa=calculate_sum([1,5,16,19,20])\n",
        "print(performa[0])\n",
        "print(type(performa))"
      ]
    },
    {
      "cell_type": "code",
      "execution_count": null,
      "metadata": {
        "id": "FCyXf-3cL3Vs"
      },
      "outputs": [],
      "source": [
        "b=(1,2)\n",
        "c=1,\n",
        "d=1,2,3,4,5,6"
      ]
    },
    {
      "cell_type": "code",
      "execution_count": null,
      "metadata": {
        "colab": {
          "base_uri": "https://localhost:8080/"
        },
        "id": "5YNZK7s5L5eg",
        "outputId": "d7c5a60b-e4b0-413d-afad-7e9de3c0ae3c"
      },
      "outputs": [
        {
          "name": "stdout",
          "output_type": "stream",
          "text": [
            "(1,)\n",
            "(1, 2, 3, 4, 5, 6)\n"
          ]
        }
      ],
      "source": [
        "print(c)\n",
        "print(d)"
      ]
    },
    {
      "cell_type": "code",
      "execution_count": null,
      "metadata": {
        "colab": {
          "base_uri": "https://localhost:8080/"
        },
        "id": "1TVOerXUL7lF",
        "outputId": "d918f585-abdb-4358-e2ea-338865774edc"
      },
      "outputs": [
        {
          "name": "stdout",
          "output_type": "stream",
          "text": [
            "<class 'tuple'>\n",
            "<class 'tuple'>\n",
            "<class 'tuple'>\n"
          ]
        }
      ],
      "source": [
        "print(type(b))\n",
        "print(type(c))\n",
        "print(type(d))"
      ]
    },
    {
      "cell_type": "code",
      "execution_count": null,
      "metadata": {
        "id": "xDZKQkCcL98o"
      },
      "outputs": [],
      "source": [
        "def calculate_sum(list_marks):\n",
        "  sum_list=sum(list_marks)\n",
        "  average=sum(list_marks)/len(list_marks)\n",
        "  print(sum_list)\n",
        "  print(average)"
      ]
    },
    {
      "cell_type": "code",
      "execution_count": null,
      "metadata": {
        "colab": {
          "base_uri": "https://localhost:8080/",
          "height": 297
        },
        "id": "r2C6-BwmMBYS",
        "outputId": "a8d757f7-c9da-478d-feb4-5ecdc2ee4297"
      },
      "outputs": [
        {
          "ename": "TypeError",
          "evalue": "ignored",
          "output_type": "error",
          "traceback": [
            "\u001b[0;31m---------------------------------------------------------------------------\u001b[0m",
            "\u001b[0;31mTypeError\u001b[0m                                 Traceback (most recent call last)",
            "\u001b[0;32m<ipython-input-21-eb7ea09d49fd>\u001b[0m in \u001b[0;36m<cell line: 1>\u001b[0;34m()\u001b[0m\n\u001b[0;32m----> 1\u001b[0;31m \u001b[0mperforma\u001b[0m\u001b[0;34m=\u001b[0m\u001b[0mcalculate_sum\u001b[0m\u001b[0;34m(\u001b[0m\u001b[0;34m[\u001b[0m\u001b[0;36m1\u001b[0m\u001b[0;34m,\u001b[0m\u001b[0;36m5\u001b[0m\u001b[0;34m,\u001b[0m\u001b[0;36m16\u001b[0m\u001b[0;34m,\u001b[0m\u001b[0;36m19\u001b[0m\u001b[0;34m,\u001b[0m\u001b[0;36m20\u001b[0m\u001b[0;34m]\u001b[0m\u001b[0;34m)\u001b[0m\u001b[0;34m\u001b[0m\u001b[0;34m\u001b[0m\u001b[0m\n\u001b[0m",
            "\u001b[0;32m<ipython-input-18-7aaa10b10fdd>\u001b[0m in \u001b[0;36mcalculate_sum\u001b[0;34m(list_marks)\u001b[0m\n\u001b[1;32m      1\u001b[0m \u001b[0;32mdef\u001b[0m \u001b[0mcalculate_sum\u001b[0m\u001b[0;34m(\u001b[0m\u001b[0mlist_marks\u001b[0m\u001b[0;34m)\u001b[0m\u001b[0;34m:\u001b[0m\u001b[0;34m\u001b[0m\u001b[0;34m\u001b[0m\u001b[0m\n\u001b[0;32m----> 2\u001b[0;31m   \u001b[0msum_list\u001b[0m\u001b[0;34m=\u001b[0m\u001b[0msum\u001b[0m\u001b[0;34m(\u001b[0m\u001b[0mlist_marks\u001b[0m\u001b[0;34m)\u001b[0m\u001b[0;34m\u001b[0m\u001b[0;34m\u001b[0m\u001b[0m\n\u001b[0m\u001b[1;32m      3\u001b[0m   \u001b[0maverage\u001b[0m\u001b[0;34m=\u001b[0m\u001b[0msum\u001b[0m\u001b[0;34m(\u001b[0m\u001b[0mlist_marks\u001b[0m\u001b[0;34m)\u001b[0m\u001b[0;34m/\u001b[0m\u001b[0mlen\u001b[0m\u001b[0;34m(\u001b[0m\u001b[0mlist_marks\u001b[0m\u001b[0;34m)\u001b[0m\u001b[0;34m\u001b[0m\u001b[0;34m\u001b[0m\u001b[0m\n\u001b[1;32m      4\u001b[0m   \u001b[0mprint\u001b[0m\u001b[0;34m(\u001b[0m\u001b[0msum_list\u001b[0m\u001b[0;34m)\u001b[0m\u001b[0;34m\u001b[0m\u001b[0;34m\u001b[0m\u001b[0m\n\u001b[1;32m      5\u001b[0m   \u001b[0mprint\u001b[0m\u001b[0;34m(\u001b[0m\u001b[0maverage\u001b[0m\u001b[0;34m)\u001b[0m\u001b[0;34m\u001b[0m\u001b[0;34m\u001b[0m\u001b[0m\n",
            "\u001b[0;31mTypeError\u001b[0m: 'int' object is not callable"
          ]
        }
      ],
      "source": [
        "performa=calculate_sum([1,5,16,19,20])"
      ]
    },
    {
      "cell_type": "code",
      "execution_count": null,
      "metadata": {
        "colab": {
          "base_uri": "https://localhost:8080/",
          "height": 176
        },
        "id": "AIprArrlMG5N",
        "outputId": "af6cc94b-59ed-4f5f-887d-a91eda7a098c"
      },
      "outputs": [
        {
          "ename": "NameError",
          "evalue": "ignored",
          "output_type": "error",
          "traceback": [
            "\u001b[0;31m---------------------------------------------------------------------------\u001b[0m",
            "\u001b[0;31mNameError\u001b[0m                                 Traceback (most recent call last)",
            "\u001b[0;32m<ipython-input-20-cc8d8ecba242>\u001b[0m in \u001b[0;36m<cell line: 1>\u001b[0;34m()\u001b[0m\n\u001b[0;32m----> 1\u001b[0;31m \u001b[0mprint\u001b[0m\u001b[0;34m(\u001b[0m\u001b[0mperforma\u001b[0m\u001b[0;34m)\u001b[0m\u001b[0;34m\u001b[0m\u001b[0;34m\u001b[0m\u001b[0m\n\u001b[0m",
            "\u001b[0;31mNameError\u001b[0m: name 'performa' is not defined"
          ]
        }
      ],
      "source": [
        "print(performa)"
      ]
    },
    {
      "cell_type": "code",
      "execution_count": null,
      "metadata": {
        "id": "qlxW6GFvMIud"
      },
      "outputs": [],
      "source": [
        "def calculate_sum(list_marks,class_average=80):\n",
        "  sum_list=sum(list_marks)\n",
        "  average=sum(list_marks)/len(list_marks)\n",
        "  return average\n",
        "  if average>class_average:\n",
        "    print(\"Pass\")\n",
        "  else:\n",
        "    print(\"Fail\")"
      ]
    },
    {
      "cell_type": "code",
      "execution_count": null,
      "metadata": {
        "id": "bMq3qauyMLJS"
      },
      "outputs": [],
      "source": [
        "calculate_sum([1,5,16,19,20])"
      ]
    },
    {
      "cell_type": "code",
      "execution_count": null,
      "metadata": {
        "id": "FWNSr7TyMNUK"
      },
      "outputs": [],
      "source": [
        "calculate_sum([100,5,16,19,20],class_average=30)"
      ]
    },
    {
      "cell_type": "code",
      "execution_count": null,
      "metadata": {
        "id": "2yKVsCoUMQ-c"
      },
      "outputs": [],
      "source": [
        "sum_list=[1,2,3,4,5,6,7,8,234,43,43]\n",
        "\n",
        "def calculate_sum(list_marks,class_average=80):\n",
        "  sum_list=sum(list_marks)\n",
        "  average=sum(list_marks)/len(list_marks)\n",
        "  print(sum_list)\n",
        "  if average>class_average:\n",
        "    print(\"Pass\")\n",
        "  else:\n",
        "    print(\"Fail\")\n",
        "  return sum_list\n",
        "\n",
        "\n",
        "print(sum_list)\n",
        "sum_list=calculate_sum(sum_list)\n",
        "print(sum_list)"
      ]
    },
    {
      "cell_type": "code",
      "execution_count": null,
      "metadata": {
        "id": "bZAvKyFLMR-D"
      },
      "outputs": [],
      "source": [
        "# Exception handling\n",
        "n=int(input(\"Enter the number you want to divide from\"))\n",
        "try:\n",
        "  k=5/n\n",
        "  print(k)\n",
        "except Exception as e:\n",
        "  print(\"Cant Divide by Zero\")\n",
        "finally:\n",
        "  print(\"THIS BLOCK IS ALWAYS EXCECUTED\")"
      ]
    },
    {
      "cell_type": "code",
      "execution_count": null,
      "metadata": {
        "id": "Wpf0XW4WMVC8"
      },
      "outputs": [],
      "source": [
        "def divide_by_user_input(n):\n",
        "  error=False\n",
        "  try:\n",
        "    k=5/n\n",
        "    print(k)\n",
        "  except ZeroDivisionError:\n",
        "    print(\"Cant Divide by Zero\")\n",
        "    error=True\n",
        "  finally:\n",
        "    if error:\n",
        "      n=int(input(\"Enter the number you want to divide from should be greater than 0\"))\n",
        "      divide_by_user_input(n)"
      ]
    },
    {
      "cell_type": "code",
      "execution_count": null,
      "metadata": {
        "id": "EY2ebtpTMZpt"
      },
      "outputs": [],
      "source": [
        "def divide_by_user_input(n):\n",
        "  error=False\n",
        "  try:\n",
        "    k=5/n\n",
        "    print(k)\n",
        "  except ZeroDivisionError:\n",
        "    print(\"Cant Divide by Zero\")\n",
        "    error=True\n",
        "    n=int(input(\"Enter the number you want to divide from should be greater than 0\"))\n",
        "    divide_by_user_input(n)"
      ]
    },
    {
      "cell_type": "code",
      "execution_count": null,
      "metadata": {
        "colab": {
          "background_save": true
        },
        "id": "etrQ5KXdMb8s",
        "outputId": "f2e4e7cb-338f-4318-af92-0a5159e78b68"
      },
      "outputs": [
        {
          "ename": "KeyboardInterrupt",
          "evalue": "ignored",
          "output_type": "error",
          "traceback": [
            "\u001b[0;31m---------------------------------------------------------------------------\u001b[0m",
            "\u001b[0;31mKeyboardInterrupt\u001b[0m                         Traceback (most recent call last)",
            "\u001b[0;32m<ipython-input-23-621c4750b4ae>\u001b[0m in \u001b[0;36m<cell line: 1>\u001b[0;34m()\u001b[0m\n\u001b[0;32m----> 1\u001b[0;31m \u001b[0mn\u001b[0m\u001b[0;34m=\u001b[0m\u001b[0mint\u001b[0m\u001b[0;34m(\u001b[0m\u001b[0minput\u001b[0m\u001b[0;34m(\u001b[0m\u001b[0;34m\"Enter the number you want to divide from\"\u001b[0m\u001b[0;34m)\u001b[0m\u001b[0;34m)\u001b[0m\u001b[0;34m\u001b[0m\u001b[0;34m\u001b[0m\u001b[0m\n\u001b[0m\u001b[1;32m      2\u001b[0m \u001b[0mdivide_by_user_input\u001b[0m\u001b[0;34m(\u001b[0m\u001b[0mn\u001b[0m\u001b[0;34m)\u001b[0m\u001b[0;34m\u001b[0m\u001b[0;34m\u001b[0m\u001b[0m\n",
            "\u001b[0;32m/usr/local/lib/python3.10/dist-packages/ipykernel/kernelbase.py\u001b[0m in \u001b[0;36mraw_input\u001b[0;34m(self, prompt)\u001b[0m\n\u001b[1;32m    849\u001b[0m                 \u001b[0;34m\"raw_input was called, but this frontend does not support input requests.\"\u001b[0m\u001b[0;34m\u001b[0m\u001b[0;34m\u001b[0m\u001b[0m\n\u001b[1;32m    850\u001b[0m             )\n\u001b[0;32m--> 851\u001b[0;31m         return self._input_request(str(prompt),\n\u001b[0m\u001b[1;32m    852\u001b[0m             \u001b[0mself\u001b[0m\u001b[0;34m.\u001b[0m\u001b[0m_parent_ident\u001b[0m\u001b[0;34m,\u001b[0m\u001b[0;34m\u001b[0m\u001b[0;34m\u001b[0m\u001b[0m\n\u001b[1;32m    853\u001b[0m             \u001b[0mself\u001b[0m\u001b[0;34m.\u001b[0m\u001b[0m_parent_header\u001b[0m\u001b[0;34m,\u001b[0m\u001b[0;34m\u001b[0m\u001b[0;34m\u001b[0m\u001b[0m\n",
            "\u001b[0;32m/usr/local/lib/python3.10/dist-packages/ipykernel/kernelbase.py\u001b[0m in \u001b[0;36m_input_request\u001b[0;34m(self, prompt, ident, parent, password)\u001b[0m\n\u001b[1;32m    893\u001b[0m             \u001b[0;32mexcept\u001b[0m \u001b[0mKeyboardInterrupt\u001b[0m\u001b[0;34m:\u001b[0m\u001b[0;34m\u001b[0m\u001b[0;34m\u001b[0m\u001b[0m\n\u001b[1;32m    894\u001b[0m                 \u001b[0;31m# re-raise KeyboardInterrupt, to truncate traceback\u001b[0m\u001b[0;34m\u001b[0m\u001b[0;34m\u001b[0m\u001b[0m\n\u001b[0;32m--> 895\u001b[0;31m                 \u001b[0;32mraise\u001b[0m \u001b[0mKeyboardInterrupt\u001b[0m\u001b[0;34m(\u001b[0m\u001b[0;34m\"Interrupted by user\"\u001b[0m\u001b[0;34m)\u001b[0m \u001b[0;32mfrom\u001b[0m \u001b[0;32mNone\u001b[0m\u001b[0;34m\u001b[0m\u001b[0;34m\u001b[0m\u001b[0m\n\u001b[0m\u001b[1;32m    896\u001b[0m             \u001b[0;32mexcept\u001b[0m \u001b[0mException\u001b[0m \u001b[0;32mas\u001b[0m \u001b[0me\u001b[0m\u001b[0;34m:\u001b[0m\u001b[0;34m\u001b[0m\u001b[0;34m\u001b[0m\u001b[0m\n\u001b[1;32m    897\u001b[0m                 \u001b[0mself\u001b[0m\u001b[0;34m.\u001b[0m\u001b[0mlog\u001b[0m\u001b[0;34m.\u001b[0m\u001b[0mwarning\u001b[0m\u001b[0;34m(\u001b[0m\u001b[0;34m\"Invalid Message:\"\u001b[0m\u001b[0;34m,\u001b[0m \u001b[0mexc_info\u001b[0m\u001b[0;34m=\u001b[0m\u001b[0;32mTrue\u001b[0m\u001b[0;34m)\u001b[0m\u001b[0;34m\u001b[0m\u001b[0;34m\u001b[0m\u001b[0m\n",
            "\u001b[0;31mKeyboardInterrupt\u001b[0m: Interrupted by user"
          ]
        }
      ],
      "source": [
        "n=int(input(\"Enter the number you want to divide from\"))\n",
        "divide_by_user_input(n)"
      ]
    }
  ],
  "metadata": {
    "colab": {
      "provenance": []
    },
    "kernelspec": {
      "display_name": "Python 3",
      "name": "python3"
    },
    "language_info": {
      "name": "python"
    }
  },
  "nbformat": 4,
  "nbformat_minor": 0
}