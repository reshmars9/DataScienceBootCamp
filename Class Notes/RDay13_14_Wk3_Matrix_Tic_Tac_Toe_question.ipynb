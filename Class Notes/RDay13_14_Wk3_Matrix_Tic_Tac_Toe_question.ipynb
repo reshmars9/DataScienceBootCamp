{
  "nbformat": 4,
  "nbformat_minor": 0,
  "metadata": {
    "colab": {
      "provenance": []
    },
    "kernelspec": {
      "name": "python3",
      "display_name": "Python 3"
    },
    "language_info": {
      "name": "python"
    }
  },
  "cells": [
    {
      "cell_type": "markdown",
      "source": [
        "#**August 23, 2023**"
      ],
      "metadata": {
        "id": "vn2vBvi87Pf3"
      }
    },
    {
      "cell_type": "code",
      "source": [
        "# Rules\n",
        "#The game should only stop when the user wins! If its a tie or user loses game should continue\n",
        "#Rock smashes scissors.\n",
        "#Paper covers rock.\n",
        "#Scissors cut paper."
      ],
      "metadata": {
        "id": "4CG3LAGd7O_x"
      },
      "execution_count": null,
      "outputs": []
    },
    {
      "cell_type": "code",
      "source": [
        "# 3 choices in total\n",
        "# 1) Rock\n",
        "# 2) Paper\n",
        "# 3) Scissor\n",
        "\n",
        "#Rock smashes scissors.\n",
        "# Paper covers rock.\n",
        "#Scissors cut paper.\n",
        "# Same choice is a Tie"
      ],
      "metadata": {
        "id": "WpMwOwXD_H5i"
      },
      "execution_count": null,
      "outputs": []
    },
    {
      "cell_type": "code",
      "source": [
        "import random\n",
        "possible_actions = [\"rock\", \"paper\", \"scissors\"]\n",
        "computer_action = random.choice(possible_actions)\n",
        "computer_action\n",
        "\n",
        "user_input=input(\"Please make a choice from rock, paper, scissors\")"
      ],
      "metadata": {
        "id": "D3tJ1rpT_Kfi"
      },
      "execution_count": null,
      "outputs": []
    },
    {
      "cell_type": "markdown",
      "source": [
        "#**August 24,2023**"
      ],
      "metadata": {
        "id": "oHFcOIyL_LfC"
      }
    },
    {
      "cell_type": "code",
      "source": [
        "def display_board(board):\n",
        "    print(\" {}  | {}  | {} \".format(board[6],board[7],board[8]))\n",
        "    print(\"-------------\")\n",
        "    print(\" {}  | {}  | {} \".format(board[3],board[4],board[5]))\n",
        "    print(\"-------------\")\n",
        "    print(\" {}  | {}  | {} \".format(board[0],board[1],board[2]))\n",
        "    print(\"-------------\")\n",
        "\n",
        "available = [num for num in range(1,10)]\n",
        "display_board(available)\n",
        "\n",
        "position_to_replace=int(input(\"Please choose between 1 and 9 :- \"))-1\n",
        "while True:\n",
        "  if position_to_replace<0 or position_to_replace>8:\n",
        "    print (\"Invalid Input\")\n",
        "    position_to_replace = int(input(\"Please choose between 1 and 9: \"))\n",
        "  else:\n",
        "    available[position_to_replace]=\"X\"\n",
        "    print(available)\n",
        "    break\n",
        "\n",
        "display_board(available)\n",
        "\n"
      ],
      "metadata": {
        "colab": {
          "base_uri": "https://localhost:8080/"
        },
        "id": "2Xx4hUR5_OMq",
        "outputId": "38028532-db0d-456c-bb94-ddaa57fb39db"
      },
      "execution_count": null,
      "outputs": [
        {
          "output_type": "stream",
          "name": "stdout",
          "text": [
            " 7  | 8  | 9 \n",
            "-------------\n",
            " 4  | 5  | 6 \n",
            "-------------\n",
            " 1  | 2  | 3 \n",
            "-------------\n",
            "Please choose between 1 and 9 :- 7\n",
            "[1, 2, 3, 4, 5, 6, 'X', 8, 9]\n",
            " X  | 8  | 9 \n",
            "-------------\n",
            " 4  | 5  | 6 \n",
            "-------------\n",
            " 1  | 2  | 3 \n",
            "-------------\n"
          ]
        }
      ]
    }
  ]
}