{
  "nbformat": 4,
  "nbformat_minor": 0,
  "metadata": {
    "colab": {
      "provenance": []
    },
    "kernelspec": {
      "name": "python3",
      "display_name": "Python 3"
    },
    "language_info": {
      "name": "python"
    }
  },
  "cells": [
    {
      "cell_type": "markdown",
      "source": [
        "#**August 9th, 2023**"
      ],
      "metadata": {
        "id": "XNPpwqrI-_k8"
      }
    },
    {
      "cell_type": "code",
      "source": [
        "#string slicing [start:stop:step]\n",
        "temp_str=\"Hello World\"\n",
        "print(temp_str[::2])"
      ],
      "metadata": {
        "colab": {
          "base_uri": "https://localhost:8080/"
        },
        "id": "m1J0iTznAWmD",
        "outputId": "97a25cd2-29e1-41ef-be2a-10558cccbbec"
      },
      "execution_count": null,
      "outputs": [
        {
          "output_type": "stream",
          "name": "stdout",
          "text": [
            "HloWrd\n"
          ]
        }
      ]
    },
    {
      "cell_type": "code",
      "source": [
        "dir(temp_str)"
      ],
      "metadata": {
        "colab": {
          "base_uri": "https://localhost:8080/"
        },
        "id": "h34bhpxKAzMS",
        "outputId": "2178d9f0-9832-46d6-e4d0-928bd20b9955"
      },
      "execution_count": null,
      "outputs": [
        {
          "output_type": "execute_result",
          "data": {
            "text/plain": [
              "['__add__',\n",
              " '__class__',\n",
              " '__contains__',\n",
              " '__delattr__',\n",
              " '__dir__',\n",
              " '__doc__',\n",
              " '__eq__',\n",
              " '__format__',\n",
              " '__ge__',\n",
              " '__getattribute__',\n",
              " '__getitem__',\n",
              " '__getnewargs__',\n",
              " '__gt__',\n",
              " '__hash__',\n",
              " '__init__',\n",
              " '__init_subclass__',\n",
              " '__iter__',\n",
              " '__le__',\n",
              " '__len__',\n",
              " '__lt__',\n",
              " '__mod__',\n",
              " '__mul__',\n",
              " '__ne__',\n",
              " '__new__',\n",
              " '__reduce__',\n",
              " '__reduce_ex__',\n",
              " '__repr__',\n",
              " '__rmod__',\n",
              " '__rmul__',\n",
              " '__setattr__',\n",
              " '__sizeof__',\n",
              " '__str__',\n",
              " '__subclasshook__',\n",
              " 'capitalize',\n",
              " 'casefold',\n",
              " 'center',\n",
              " 'count',\n",
              " 'encode',\n",
              " 'endswith',\n",
              " 'expandtabs',\n",
              " 'find',\n",
              " 'format',\n",
              " 'format_map',\n",
              " 'index',\n",
              " 'isalnum',\n",
              " 'isalpha',\n",
              " 'isascii',\n",
              " 'isdecimal',\n",
              " 'isdigit',\n",
              " 'isidentifier',\n",
              " 'islower',\n",
              " 'isnumeric',\n",
              " 'isprintable',\n",
              " 'isspace',\n",
              " 'istitle',\n",
              " 'isupper',\n",
              " 'join',\n",
              " 'ljust',\n",
              " 'lower',\n",
              " 'lstrip',\n",
              " 'maketrans',\n",
              " 'partition',\n",
              " 'removeprefix',\n",
              " 'removesuffix',\n",
              " 'replace',\n",
              " 'rfind',\n",
              " 'rindex',\n",
              " 'rjust',\n",
              " 'rpartition',\n",
              " 'rsplit',\n",
              " 'rstrip',\n",
              " 'split',\n",
              " 'splitlines',\n",
              " 'startswith',\n",
              " 'strip',\n",
              " 'swapcase',\n",
              " 'title',\n",
              " 'translate',\n",
              " 'upper',\n",
              " 'zfill']"
            ]
          },
          "metadata": {},
          "execution_count": 4
        }
      ]
    },
    {
      "cell_type": "code",
      "execution_count": null,
      "metadata": {
        "colab": {
          "base_uri": "https://localhost:8080/"
        },
        "id": "XVK-hEsIUDD2",
        "outputId": "a8c53be8-5628-45bd-89bc-f3bcd375057f"
      },
      "outputs": [
        {
          "output_type": "stream",
          "name": "stdout",
          "text": [
            "Hello world\n"
          ]
        }
      ],
      "source": [
        "#Takes 1st character of string to upper case\n",
        "temp_str=\"Hello World\"\n",
        "print (temp_str.capitalize())\n"
      ]
    },
    {
      "cell_type": "code",
      "source": [
        "#Returns a string where all characters are lowercase\n",
        "temp_str=\"HeLLo WorLD\"\n",
        "#print (temp_str.casefold())"
      ],
      "metadata": {
        "colab": {
          "base_uri": "https://localhost:8080/"
        },
        "id": "M6hLhUngUaqb",
        "outputId": "fcb736e6-5c47-44cf-f785-0a5fefb1ed50"
      },
      "execution_count": null,
      "outputs": [
        {
          "output_type": "stream",
          "name": "stdout",
          "text": [
            "hello world\n"
          ]
        }
      ]
    },
    {
      "cell_type": "code",
      "source": [
        "#18=string length, if our string is less than 18, then it will give * to complete keeping string in center\n",
        "#* adds from right to left\n",
        "# if nothing is assigned for additional string no., then space is added by default (i.e., what is assigned, it shows that char/no./alphabets to add as string lenght)\n",
        "#increases length of string by adding whatever character is mentioned if not by default fills by space\n",
        "temp_str=\"HeLLo WorLD\"\n",
        "print (temp_str.center(18,\"*\"))"
      ],
      "metadata": {
        "colab": {
          "base_uri": "https://localhost:8080/"
        },
        "id": "fHkVjcYdUuRZ",
        "outputId": "0f532d53-2a33-452b-856c-1c9f050b3e83"
      },
      "execution_count": null,
      "outputs": [
        {
          "output_type": "stream",
          "name": "stdout",
          "text": [
            "***HeLLo WorLD****\n"
          ]
        }
      ]
    },
    {
      "cell_type": "code",
      "source": [
        "#Returns how many times the substring (substring is a part of string) appears in the given range by default picks full string\n",
        "#by default tries to find how many \"how\" are there\n",
        "# count functions is case sensitive\n",
        "temp_str=\"HeLLo WorLD how is it going\"\n",
        "print (temp_str.count (\"how\"))"
      ],
      "metadata": {
        "colab": {
          "base_uri": "https://localhost:8080/"
        },
        "id": "KP2_c7V7WsmK",
        "outputId": "cb9920d6-0caf-4af0-f1eb-4eea404cd011"
      },
      "execution_count": null,
      "outputs": [
        {
          "output_type": "stream",
          "name": "stdout",
          "text": [
            "1\n"
          ]
        }
      ]
    },
    {
      "cell_type": "code",
      "source": [
        "temp_str=\"HeLLo WorLD how is it going? Hello all good\".casefold()\n",
        "print(temp_str)\n",
        "print (temp_str.count (\"Hello\"))\n",
        "print (temp_str.count (\"hello\"))"
      ],
      "metadata": {
        "colab": {
          "base_uri": "https://localhost:8080/"
        },
        "id": "s7W_KKcFXcR1",
        "outputId": "53e70560-f85f-4aa5-cc45-e17c073a8f32"
      },
      "execution_count": null,
      "outputs": [
        {
          "output_type": "stream",
          "name": "stdout",
          "text": [
            "hello world how is it going? hello all good\n",
            "0\n",
            "2\n"
          ]
        }
      ]
    },
    {
      "cell_type": "code",
      "source": [
        "temp_str=\"HeLLo WorLD how is it going? Hello all good\".casefold()\n",
        "print(temp_str)\n",
        "print (temp_str.count (\"Hello\"))\n",
        "print (temp_str.count (\"hello\"))\n",
        "#How to give range\n",
        "# count (value, start, end)# start and end are optional if not given takes full string\n",
        "temp_str_2=\"heLLo WorLD how is it going? hello all good\"\n",
        "print(temp_str_2[2:5])\n",
        "print(temp_str.count(\"hello\",2)) #looking if there's more no. of \"hello\" after 2nd index, so this executes 1"
      ],
      "metadata": {
        "colab": {
          "base_uri": "https://localhost:8080/"
        },
        "id": "yOy8FoBiX3mP",
        "outputId": "54dd3455-55f1-4577-b633-d9eecadcb6d7"
      },
      "execution_count": null,
      "outputs": [
        {
          "output_type": "stream",
          "name": "stdout",
          "text": [
            "hello world how is it going? hello all good\n",
            "0\n",
            "2\n",
            "LLo\n",
            "1\n"
          ]
        }
      ]
    },
    {
      "cell_type": "code",
      "source": [
        "temp_str=\"HeLLo WorLD how is it going? Hello all good\".casefold()\n",
        "print(temp_str)\n",
        "print (temp_str.count (\"Hello\"))\n",
        "print (temp_str.count (\"hello\"))\n",
        "temp_str_2=\"heLLo world how is it going? ghellog all good hello\"\n",
        "print (temp_str_2.count(\" hello\"))"
      ],
      "metadata": {
        "colab": {
          "base_uri": "https://localhost:8080/"
        },
        "id": "FRb_coSnbMlZ",
        "outputId": "4a471227-e8de-459b-f2b0-75045e155829"
      },
      "execution_count": null,
      "outputs": [
        {
          "output_type": "stream",
          "name": "stdout",
          "text": [
            "hello world how is it going? hello all good\n",
            "0\n",
            "2\n",
            "1\n"
          ]
        }
      ]
    },
    {
      "cell_type": "code",
      "source": [
        "#returns True and false on the basis of suffix passed.\n",
        "temp_str=\"HeLLo WorLD how is it going? Hello all good!\"\n",
        "#endswith(value,start,end) #start-index, end-length\n",
        "print (temp_str.endswith(\"god!\"))\n",
        "print (temp_str.endswith(\"o\",0,5))\n",
        "print (temp_str.endswith(\"Lo\",0,5)) #the word that starts 0 index and ends with length 5\n",
        "print (temp_str.endswith(\"good\",0, len(temp_str)-1))\n",
        "print (len(temp_str))"
      ],
      "metadata": {
        "colab": {
          "base_uri": "https://localhost:8080/"
        },
        "id": "MfoFx4yzbsf4",
        "outputId": "85a980b7-b988-430e-e017-e16d2a66faff"
      },
      "execution_count": null,
      "outputs": [
        {
          "output_type": "stream",
          "name": "stdout",
          "text": [
            "False\n",
            "True\n",
            "True\n",
            "True\n",
            "44\n"
          ]
        }
      ]
    },
    {
      "cell_type": "code",
      "source": [
        "#looks for the string and counts the index of 1st given sub string \"how\" (lowest index of substring)\n",
        "temp_str=\"HeLLo WorLD how is it going? Hello all good! how are you!\"\n",
        "print(temp_str.find(\"howhfdhasdhad\"))\n",
        "print (temp_str.find(\"how\")) #it first counts the \"how\" (the first \"how\") and executes the index no."
      ],
      "metadata": {
        "colab": {
          "base_uri": "https://localhost:8080/"
        },
        "id": "gfEOwl8vddcM",
        "outputId": "f3f90356-37f9-423e-8fbc-050115c2a397"
      },
      "execution_count": null,
      "outputs": [
        {
          "output_type": "stream",
          "name": "stdout",
          "text": [
            "-1\n",
            "12\n"
          ]
        }
      ]
    },
    {
      "cell_type": "code",
      "source": [
        "temp_str = \"HeLLo my name is {fname}, I am a {position}!\"\n",
        "print (temp_str.format(fname=\"Reshma\",position=\"Data Scientist\"))"
      ],
      "metadata": {
        "colab": {
          "base_uri": "https://localhost:8080/"
        },
        "id": "9Uk9S0xxe0nv",
        "outputId": "63b72d11-ca08-4fb4-9867-92b9b17c98e2"
      },
      "execution_count": null,
      "outputs": [
        {
          "output_type": "stream",
          "name": "stdout",
          "text": [
            "HeLLo my name is Reshma, I am a Data Scientist!\n"
          ]
        }
      ]
    },
    {
      "cell_type": "code",
      "source": [
        "temp_str = \"HeLLo my name is {fname}, I am a {position}!\"\n",
        "print (temp_str.format(fname=\"Reshma\",position=\"Data Scientist\"))\n",
        "temp_str1=\"HeLLo my name is {0}, I am a {1}!\"\n",
        "print (temp_str1.format (\"Data Scientist\", \"Reshma\")) #here, 0 index is data scientist & 1 index is reshma"
      ],
      "metadata": {
        "colab": {
          "base_uri": "https://localhost:8080/"
        },
        "id": "7uhWA26ufoB_",
        "outputId": "a803f5ba-0637-411f-db59-30720016ffb4"
      },
      "execution_count": null,
      "outputs": [
        {
          "output_type": "stream",
          "name": "stdout",
          "text": [
            "HeLLo my name is Reshma, I am a Data Scientist!\n",
            "HeLLo my name is Data Scientist, I am a Reshma!\n"
          ]
        }
      ]
    },
    {
      "cell_type": "code",
      "source": [
        "# functions jumped\n",
        "# 1 format map\n",
        "# 2 expand tabs\n",
        "# 3 isascii"
      ],
      "metadata": {
        "id": "IikAlutehng7"
      },
      "execution_count": null,
      "outputs": []
    },
    {
      "cell_type": "code",
      "source": [
        "#replica of find function but this returns error if nothing found\n",
        "temp_str=\"HeLLo WorLD how is it going? Hello all good! how are you!\"\n",
        "temp_str.index(\"how111\")"
      ],
      "metadata": {
        "colab": {
          "base_uri": "https://localhost:8080/",
          "height": 210
        },
        "id": "dVvWJBHxhdbf",
        "outputId": "ec6020f7-a705-4cad-d550-9dcca2dfd5c6"
      },
      "execution_count": null,
      "outputs": [
        {
          "output_type": "error",
          "ename": "ValueError",
          "evalue": "ignored",
          "traceback": [
            "\u001b[0;31m---------------------------------------------------------------------------\u001b[0m",
            "\u001b[0;31mValueError\u001b[0m                                Traceback (most recent call last)",
            "\u001b[0;32m<ipython-input-39-6040893a0726>\u001b[0m in \u001b[0;36m<cell line: 3>\u001b[0;34m()\u001b[0m\n\u001b[1;32m      1\u001b[0m \u001b[0;31m#replica of find function but this returns error if nothing found\u001b[0m\u001b[0;34m\u001b[0m\u001b[0;34m\u001b[0m\u001b[0m\n\u001b[1;32m      2\u001b[0m \u001b[0mtemp_str\u001b[0m\u001b[0;34m=\u001b[0m\u001b[0;34m\"HeLLo WorLD how is it going? Hello all good! how are you!\"\u001b[0m\u001b[0;34m\u001b[0m\u001b[0;34m\u001b[0m\u001b[0m\n\u001b[0;32m----> 3\u001b[0;31m \u001b[0mtemp_str\u001b[0m\u001b[0;34m.\u001b[0m\u001b[0mindex\u001b[0m\u001b[0;34m(\u001b[0m\u001b[0;34m\"how111\"\u001b[0m\u001b[0;34m)\u001b[0m\u001b[0;34m\u001b[0m\u001b[0;34m\u001b[0m\u001b[0m\n\u001b[0m",
            "\u001b[0;31mValueError\u001b[0m: substring not found"
          ]
        }
      ]
    },
    {
      "cell_type": "code",
      "source": [
        "# returns True if only numbers and alphabets are present, else returns false\n",
        "#shouldn't have space, characters\n",
        "#must have only alphanumeric\n",
        "temp_str=\"HeLLo WorLD how is it going? Hello all good! how are you!\"\n",
        "temp_str1=\"HelloWorld123\"\n",
        "print(temp_str.isalnum())\n",
        "print(temp_str1.isalnum())"
      ],
      "metadata": {
        "colab": {
          "base_uri": "https://localhost:8080/"
        },
        "id": "OjAc8YSGiHDb",
        "outputId": "e08cd547-702d-4fb9-a805-f551bd26927a"
      },
      "execution_count": null,
      "outputs": [
        {
          "output_type": "stream",
          "name": "stdout",
          "text": [
            "False\n",
            "True\n"
          ]
        }
      ]
    },
    {
      "cell_type": "code",
      "source": [
        "\n",
        "#returns True if only alphabets (not including no. and space), else will return false\n",
        "temp_str=\"HeLLoWorLD\"\n",
        "temp_str1=\"HeLLo WorLD\"\n",
        "temp_str_2=\"HeLLoWorLD1221212\"\n",
        "print (temp_str.isalpha())\n",
        "print (temp_str1.isalpha())\n",
        "print(temp_str_2.isalpha())"
      ],
      "metadata": {
        "colab": {
          "base_uri": "https://localhost:8080/"
        },
        "id": "RvY-lUinjQ0v",
        "outputId": "79b18940-981e-4200-84ca-27a471655252"
      },
      "execution_count": null,
      "outputs": [
        {
          "output_type": "stream",
          "name": "stdout",
          "text": [
            "True\n",
            "False\n",
            "False\n"
          ]
        }
      ]
    },
    {
      "cell_type": "code",
      "source": [
        "#returns True if only numbers between 0-9, else returns false\n",
        "temp_str=\"HeLLo WorLD\"\n",
        "print (temp_str.isdecimal())\n",
        "temp_str1=\"1234555464\"\n",
        "print(temp_str1.isdecimal())\n",
        "temp_str_2=\" 123465486 \"\n",
        "print(temp_str_2.isdecimal())\n",
        "unicode_0=\"\\u0030\"\n",
        "#decimal works with unicode and starts with 'u', also with characters\n",
        "# unicode is type of encoding having special character for each words\n",
        "print(unicode_0.isdecimal())"
      ],
      "metadata": {
        "colab": {
          "base_uri": "https://localhost:8080/"
        },
        "id": "diuRF9RDkLKc",
        "outputId": "e724bbb4-172d-4690-9695-05fcd168eab7"
      },
      "execution_count": null,
      "outputs": [
        {
          "output_type": "stream",
          "name": "stdout",
          "text": [
            "False\n",
            "True\n",
            "False\n",
            "True\n"
          ]
        }
      ]
    },
    {
      "cell_type": "code",
      "source": [
        "#returns True if any digits, else returns False\n",
        "temp_str=\"HeLLo WorLD\"\n",
        "print(temp_str.isdigit())\n",
        "temp_str1=\"01325468431\"\n",
        "print(temp_str1.isdigit())\n",
        "unicode_0=\"\\u0030\"\n",
        "print(unicode_0.isdigit())"
      ],
      "metadata": {
        "colab": {
          "base_uri": "https://localhost:8080/"
        },
        "id": "BXfQpjuXlBU0",
        "outputId": "d8bfb4e2-b29f-4529-997e-2d8a0f6f2590"
      },
      "execution_count": null,
      "outputs": [
        {
          "output_type": "stream",
          "name": "stdout",
          "text": [
            "False\n",
            "True\n",
            "True\n"
          ]
        }
      ]
    },
    {
      "cell_type": "code",
      "source": [
        "#returns True if only numbers between 0-9, else returns false\n",
        "temp_str=\"\\u0030\"\n",
        "temp_str1=\"HeLLo WorLD\"\n",
        "print(temp_str.isdecimal())\n",
        "print(temp_str1.isdigit())"
      ],
      "metadata": {
        "id": "aPrfwTAHZqIb",
        "colab": {
          "base_uri": "https://localhost:8080/"
        },
        "outputId": "8a90c44b-cd7a-4e1d-c415-917a6b0eb5a4"
      },
      "execution_count": null,
      "outputs": [
        {
          "output_type": "stream",
          "name": "stdout",
          "text": [
            "True\n",
            "False\n"
          ]
        }
      ]
    },
    {
      "cell_type": "code",
      "source": [
        "# returns Do not work with SubScript and Digits work with it\n",
        "temp_str=\"\\u00B2\"\n",
        "print(\"km\\u00B2\")\n",
        "print(temp_str.isdecimal())\n",
        "print(temp_str.isdigit())"
      ],
      "metadata": {
        "colab": {
          "base_uri": "https://localhost:8080/"
        },
        "id": "xjzsYHWpFywY",
        "outputId": "a350f619-4564-4ad9-a9aa-9f2e568b8665"
      },
      "execution_count": null,
      "outputs": [
        {
          "output_type": "stream",
          "name": "stdout",
          "text": [
            "km²\n",
            "False\n",
            "True\n"
          ]
        }
      ]
    },
    {
      "cell_type": "markdown",
      "source": [
        "#**August 10, 2023**"
      ],
      "metadata": {
        "id": "ZBT0h82qEf1j"
      }
    },
    {
      "cell_type": "code",
      "source": [
        "# returns True if the word is a keyword in python else returns False\n",
        "# This also works with variable declaration so if it starts with numbers its false\n",
        "temp_str=\"Hello world\"\n",
        "print(temp_str.isidentifier())\n",
        "temp_str2=\"11aabccd\"\n",
        "print(temp_str2.isidentifier())\n",
        "temp_str3=\"ahfdefruk25531231\"\n",
        "print(temp_str3.isidentifier())"
      ],
      "metadata": {
        "colab": {
          "base_uri": "https://localhost:8080/"
        },
        "id": "xQWHNclNF2hp",
        "outputId": "9158caf1-cc08-442b-a7b6-8615660452f9"
      },
      "execution_count": null,
      "outputs": [
        {
          "output_type": "stream",
          "name": "stdout",
          "text": [
            "False\n",
            "False\n",
            "True\n"
          ]
        }
      ]
    },
    {
      "cell_type": "code",
      "source": [
        "# Returns True if all alphabets are in lower cases\n",
        "temp_str=\"Hello WORLD\"\n",
        "temp_str2=\"hello world2322867891231!!@@\"\n",
        "print(temp_str.islower())\n",
        "print(temp_str2.islower())"
      ],
      "metadata": {
        "colab": {
          "base_uri": "https://localhost:8080/"
        },
        "id": "nZ2hvIyvF-SO",
        "outputId": "3f44df2d-f5aa-441a-e6c9-fee005f81406"
      },
      "execution_count": null,
      "outputs": [
        {
          "output_type": "stream",
          "name": "stdout",
          "text": [
            "False\n",
            "True\n"
          ]
        }
      ]
    },
    {
      "cell_type": "code",
      "source": [
        "# Returns True only if white spaces else returns False\n",
        "temp_str=\"Hello WORLD\"\n",
        "print(temp_str.isspace())\n",
        "temp_str_2=\" \"\n",
        "print(temp_str_2.isspace())"
      ],
      "metadata": {
        "colab": {
          "base_uri": "https://localhost:8080/"
        },
        "id": "eouoSwHDdqnn",
        "outputId": "03a5ae17-3a81-4f02-f12b-98392acfc48e"
      },
      "execution_count": null,
      "outputs": [
        {
          "output_type": "stream",
          "name": "stdout",
          "text": [
            "False\n",
            "True\n"
          ]
        }
      ]
    },
    {
      "cell_type": "code",
      "source": [
        "#Returns True if first character of each word is upper case and other are in lower case(capital case in between the word is false here)\n",
        "temp_str=\"Hello WORLD\"\n",
        "print(temp_str.istitle())\n",
        "temp_str2=\"Hello World\"\n",
        "print(temp_str2.istitle())"
      ],
      "metadata": {
        "colab": {
          "base_uri": "https://localhost:8080/"
        },
        "id": "5A1pERSLeFD2",
        "outputId": "a92bdfac-f10a-4e78-8568-b1af5681aeb3"
      },
      "execution_count": null,
      "outputs": [
        {
          "output_type": "stream",
          "name": "stdout",
          "text": [
            "False\n",
            "True\n"
          ]
        }
      ]
    },
    {
      "cell_type": "code",
      "source": [
        "#If all the alphabets available are in upper case it returns True\n",
        "temp_str=\"Hello WOrld\"\n",
        "print(temp_str.isupper())\n",
        "temp_str2=\"HELLO WORLDDD12348476#$#$@%\"\n",
        "print(temp_str2.isupper())"
      ],
      "metadata": {
        "colab": {
          "base_uri": "https://localhost:8080/"
        },
        "id": "V3fVCVAReIcH",
        "outputId": "2e93d2ca-9b7b-4497-aa33-9f635ce79b95"
      },
      "execution_count": null,
      "outputs": [
        {
          "output_type": "stream",
          "name": "stdout",
          "text": [
            "False\n",
            "True\n"
          ]
        }
      ]
    },
    {
      "cell_type": "code",
      "source": [
        "#Iterables are list, tuple (It'll only work with string, can not combine with integers)\n",
        "list_temp=[\"Hello\",\"World\",\"How\",\"are\",\"you\"]\n",
        "print(\",\".join(list_temp))\n",
        "\n",
        "list_temp=(\"1111\",\"World\",\"How\",\"are\",\"you\")\n",
        "print(\"#\".join(list_temp))"
      ],
      "metadata": {
        "colab": {
          "base_uri": "https://localhost:8080/"
        },
        "id": "QGSP1uFofvrS",
        "outputId": "3366a710-29bb-4892-d71b-960f619d471f"
      },
      "execution_count": null,
      "outputs": [
        {
          "output_type": "stream",
          "name": "stdout",
          "text": [
            "Hello,World,How,are,you\n",
            "1111#World#How#are#you\n"
          ]
        }
      ]
    },
    {
      "cell_type": "code",
      "source": [
        "temp_str=\"Hello WOrld\"\n",
        "print(temp_str.lower())\n",
        "string_german=\"ß\"\n",
        "print(string_german.lower())\n",
        "print(string_german.casefold())"
      ],
      "metadata": {
        "colab": {
          "base_uri": "https://localhost:8080/"
        },
        "id": "9OWFQmDyhdxl",
        "outputId": "25adf888-3297-4619-84e8-8d5b6fa45ed0"
      },
      "execution_count": null,
      "outputs": [
        {
          "output_type": "stream",
          "name": "stdout",
          "text": [
            "hello world\n",
            "ß\n",
            "ss\n"
          ]
        }
      ]
    },
    {
      "cell_type": "code",
      "source": [
        "#Removes white spaces and tabs on left side of the string. There is still space on the right side.\n",
        "temp_str=\"                 Hello WOrld                 \"\n",
        "print(temp_str.lstrip())"
      ],
      "metadata": {
        "colab": {
          "base_uri": "https://localhost:8080/"
        },
        "id": "C94qWnyyiQab",
        "outputId": "add08a3c-c2f8-4263-a8d7-43496952b7ac"
      },
      "execution_count": null,
      "outputs": [
        {
          "output_type": "stream",
          "name": "stdout",
          "text": [
            "Hello WOrld                 \n"
          ]
        }
      ]
    },
    {
      "cell_type": "code",
      "source": [
        "temp_str=\"i could eat apples all day\"\n",
        "print(temp_str.partition(\"apples\"))\n",
        "print(temp_str.partition(\"apples1\"))"
      ],
      "metadata": {
        "colab": {
          "base_uri": "https://localhost:8080/"
        },
        "id": "5cyjMvVLi71l",
        "outputId": "160febe3-b38a-4bf9-991e-a379eaffd65e"
      },
      "execution_count": null,
      "outputs": [
        {
          "output_type": "stream",
          "name": "stdout",
          "text": [
            "('i could eat ', 'apples', ' all day')\n",
            "('i could eat apples all day', '', '')\n"
          ]
        }
      ]
    },
    {
      "cell_type": "code",
      "source": [
        "temp_str=\"i could eat apples all day, thats all i can say\"\n",
        "temp_str.replace('all','not').replace(\"apples\",'mangoes')"
      ],
      "metadata": {
        "colab": {
          "base_uri": "https://localhost:8080/",
          "height": 35
        },
        "id": "Fg6Dj15Jj7zw",
        "outputId": "14cff79f-3eb4-406f-8dea-90ce3ebb5730"
      },
      "execution_count": null,
      "outputs": [
        {
          "output_type": "execute_result",
          "data": {
            "text/plain": [
              "'i could eat mangoes not day, thats not i can say'"
            ],
            "application/vnd.google.colaboratory.intrinsic+json": {
              "type": "string"
            }
          },
          "metadata": {},
          "execution_count": 24
        }
      ]
    },
    {
      "cell_type": "code",
      "source": [
        "temp_str=\"                 Hello WOrld                 \"\n",
        "temp_str.rstrip()"
      ],
      "metadata": {
        "colab": {
          "base_uri": "https://localhost:8080/",
          "height": 35
        },
        "id": "nTKfw2culJHa",
        "outputId": "284ba5fb-fc21-44cc-d037-acebb7c9068b"
      },
      "execution_count": null,
      "outputs": [
        {
          "output_type": "execute_result",
          "data": {
            "text/plain": [
              "'                 Hello WOrld'"
            ],
            "application/vnd.google.colaboratory.intrinsic+json": {
              "type": "string"
            }
          },
          "metadata": {},
          "execution_count": 26
        }
      ]
    },
    {
      "cell_type": "code",
      "source": [
        "#split string from the given value\n",
        "temp_str=\"i could eat apples all day, thats all i can say\"\n",
        "print(temp_str.split(\",\")) #we have only one comma, so it is split before and after comma\n",
        "print(temp_str.split()) # we have space after every word, so it is split after every word\n",
        "print(temp_str.split(\"all\")) #we have 2 'all', so it is split before and after 'all'\n",
        "print(temp_str.split(\",\")[0].split(\"#\"))"
      ],
      "metadata": {
        "colab": {
          "base_uri": "https://localhost:8080/"
        },
        "id": "dvSfH9qMl9nW",
        "outputId": "b3865e4d-22bf-4c6f-ff59-29e1d17d9e75"
      },
      "execution_count": null,
      "outputs": [
        {
          "output_type": "stream",
          "name": "stdout",
          "text": [
            "['i could eat apples all day', ' thats all i can say']\n",
            "['i', 'could', 'eat', 'apples', 'all', 'day,', 'thats', 'all', 'i', 'can', 'say']\n",
            "['i could eat apples ', ' day, thats ', ' i can say']\n",
            "['i could eat apples all day']\n"
          ]
        }
      ]
    },
    {
      "cell_type": "code",
      "source": [
        "temp_str=\"i could eat apples all day, thats all i can say\"\n",
        "print(temp_str.startswith(\"I\"))\n",
        "print(temp_str.startswith(\"could\",2)) #index 2 is 'could', so will start from 'could', this is true"
      ],
      "metadata": {
        "colab": {
          "base_uri": "https://localhost:8080/"
        },
        "id": "IeiVRTN7nDZC",
        "outputId": "2b892d46-d1de-4e1b-b05d-a8e947eb61d5"
      },
      "execution_count": null,
      "outputs": [
        {
          "output_type": "stream",
          "name": "stdout",
          "text": [
            "False\n",
            "True\n"
          ]
        }
      ]
    },
    {
      "cell_type": "code",
      "source": [
        "temp_str=\"                     Hello WOrld                     \"\n",
        "temp_str.strip()\n"
      ],
      "metadata": {
        "colab": {
          "base_uri": "https://localhost:8080/",
          "height": 35
        },
        "id": "zn9XDURBnudh",
        "outputId": "220f8150-d7da-4413-e50e-bf40216085b4"
      },
      "execution_count": null,
      "outputs": [
        {
          "output_type": "execute_result",
          "data": {
            "text/plain": [
              "'Hello WOrld'"
            ],
            "application/vnd.google.colaboratory.intrinsic+json": {
              "type": "string"
            }
          },
          "metadata": {},
          "execution_count": 36
        }
      ]
    },
    {
      "cell_type": "code",
      "source": [
        "#swap upper to lower, lower to upper case\n",
        "temp_str=\" i could eat apples ALL day, thats all i can saY\"\n",
        "temp_str.swapcase()\n"
      ],
      "metadata": {
        "colab": {
          "base_uri": "https://localhost:8080/",
          "height": 35
        },
        "id": "1sefWKV1n3SK",
        "outputId": "9ea3a136-feb3-443d-b997-baa2fdf7ed7f"
      },
      "execution_count": null,
      "outputs": [
        {
          "output_type": "execute_result",
          "data": {
            "text/plain": [
              "' I COULD EAT APPLES all DAY, THATS ALL I CAN SAy'"
            ],
            "application/vnd.google.colaboratory.intrinsic+json": {
              "type": "string"
            }
          },
          "metadata": {},
          "execution_count": 37
        }
      ]
    },
    {
      "cell_type": "code",
      "source": [
        "# change all front character of the words into upper case and followings as lower case\n",
        "temp_str=\"i could eat aPples all day, thats all i can say\"\n",
        "temp_str.title()\n"
      ],
      "metadata": {
        "colab": {
          "base_uri": "https://localhost:8080/",
          "height": 35
        },
        "id": "TSTQmYhhoJtc",
        "outputId": "916370e5-e9b5-4724-8426-2afa8fd72af6"
      },
      "execution_count": null,
      "outputs": [
        {
          "output_type": "execute_result",
          "data": {
            "text/plain": [
              "'I Could Eat Apples All Day, Thats All I Can Say'"
            ],
            "application/vnd.google.colaboratory.intrinsic+json": {
              "type": "string"
            }
          },
          "metadata": {},
          "execution_count": 39
        }
      ]
    },
    {
      "cell_type": "code",
      "source": [
        "#It'll only keep the recent key. Here, 83 has duplicate key so it ignored 80 and took 78\n",
        "temp_str={83:80,83:78}\n",
        "print(temp_str)\n"
      ],
      "metadata": {
        "colab": {
          "base_uri": "https://localhost:8080/"
        },
        "id": "VBn97ZzNotlB",
        "outputId": "3d01fe8f-ccbe-4d3a-9863-78cd78ebed74"
      },
      "execution_count": null,
      "outputs": [
        {
          "output_type": "stream",
          "name": "stdout",
          "text": [
            "{83: 78}\n"
          ]
        }
      ]
    },
    {
      "cell_type": "code",
      "source": [
        "#dictionary\n",
        "temp_str={\"brand\":\"Ford\",\"model\":\"Mustang\",\"year\":1964,\"year\":2020}\n",
        "print(temp_str)"
      ],
      "metadata": {
        "colab": {
          "base_uri": "https://localhost:8080/"
        },
        "id": "tb8RjKOgpalM",
        "outputId": "23d2a1c9-dafc-4be5-c114-755b0ef0dcd2"
      },
      "execution_count": null,
      "outputs": [
        {
          "output_type": "stream",
          "name": "stdout",
          "text": [
            "{'brand': 'Ford', 'model': 'Mustang', 'year': 2020}\n"
          ]
        }
      ]
    },
    {
      "cell_type": "code",
      "source": [
        "temp_str={\"brand\":\"Ford\",\"model\":\"Mustang\",\"year\":1964,\"year\":2020}\n",
        "print(temp_str[\"brand\"])"
      ],
      "metadata": {
        "colab": {
          "base_uri": "https://localhost:8080/"
        },
        "id": "TjT8kS2tqYkt",
        "outputId": "aaf8a285-e9e1-4b6c-a364-5f0b25f875ba"
      },
      "execution_count": null,
      "outputs": [
        {
          "output_type": "stream",
          "name": "stdout",
          "text": [
            "Ford\n"
          ]
        }
      ]
    },
    {
      "cell_type": "code",
      "source": [
        "#any key (word key, not numbers) separated by \"\"=\" is the dictionary\n",
        "thisdict=dict(name=\"john\",age=34,country=\"England\")\n",
        "print(thisdict)"
      ],
      "metadata": {
        "colab": {
          "base_uri": "https://localhost:8080/"
        },
        "id": "yGfd9PfrqeZ6",
        "outputId": "160e1442-ddc5-4980-a587-b51f1be7fe3c"
      },
      "execution_count": null,
      "outputs": [
        {
          "output_type": "stream",
          "name": "stdout",
          "text": [
            "{'name': 'john', 'age': 34, 'country': 'England'}\n"
          ]
        }
      ]
    },
    {
      "cell_type": "code",
      "source": [
        "#Assci code valuse of S is 83 by default, we replace it with 80 here which is P\n",
        "#translate code makes the system think this is referring for Assci code\n",
        "temp_dict={83:80}\n",
        "temp_str=\"Hello Sam! Shhhh sssss\"\n",
        "temp_str.translate(temp_dict)"
      ],
      "metadata": {
        "colab": {
          "base_uri": "https://localhost:8080/",
          "height": 35
        },
        "id": "qaD5J6MErVhN",
        "outputId": "efb24a23-8af7-442c-f983-dc592db58464"
      },
      "execution_count": null,
      "outputs": [
        {
          "output_type": "execute_result",
          "data": {
            "text/plain": [
              "'Hello Pam! Phhhh sssss'"
            ],
            "application/vnd.google.colaboratory.intrinsic+json": {
              "type": "string"
            }
          },
          "metadata": {},
          "execution_count": 51
        }
      ]
    },
    {
      "cell_type": "code",
      "source": [
        "temp_dict={83:104, 72:77}\n",
        "temp_str=\"Hello Sam! Shhhh hhhhsssss\"\n",
        "temp_str.translate(temp_dict)"
      ],
      "metadata": {
        "colab": {
          "base_uri": "https://localhost:8080/",
          "height": 35
        },
        "id": "If8MOlPrtCWT",
        "outputId": "5d683bf7-3878-4cc4-9f7c-428a63d5fcfc"
      },
      "execution_count": null,
      "outputs": [
        {
          "output_type": "execute_result",
          "data": {
            "text/plain": [
              "'Mello ham! hhhhh hhhhsssss'"
            ],
            "application/vnd.google.colaboratory.intrinsic+json": {
              "type": "string"
            }
          },
          "metadata": {},
          "execution_count": 55
        }
      ]
    },
    {
      "cell_type": "code",
      "source": [
        "#this converts everything into upper case\n",
        "temp_str=\" i could eat apples ALL day, thats all i can saY\"\n",
        "temp_str.upper()"
      ],
      "metadata": {
        "colab": {
          "base_uri": "https://localhost:8080/",
          "height": 35
        },
        "id": "EUfDWm9Kt0Wf",
        "outputId": "8276f206-515d-4fc8-95c4-1833d8df6b62"
      },
      "execution_count": null,
      "outputs": [
        {
          "output_type": "execute_result",
          "data": {
            "text/plain": [
              "' I COULD EAT APPLES ALL DAY, THATS ALL I CAN SAY'"
            ],
            "application/vnd.google.colaboratory.intrinsic+json": {
              "type": "string"
            }
          },
          "metadata": {},
          "execution_count": 56
        }
      ]
    },
    {
      "cell_type": "code",
      "source": [
        "temp_str=\" i could eat APPLES ALL day, thats all i can saY\"\n",
        "print(len(temp_str))\n",
        "print(temp_str.zfill(10)) #10 is small than length so it printed everything as it is.\n",
        "print(temp_str.zfill(50)) #50 is bigger than lenght so it printed 00 to make it 50 length"
      ],
      "metadata": {
        "colab": {
          "base_uri": "https://localhost:8080/"
        },
        "id": "Xa6PshFguBKl",
        "outputId": "f852a9d7-115e-4e04-9508-61bcf80b747d"
      },
      "execution_count": null,
      "outputs": [
        {
          "output_type": "stream",
          "name": "stdout",
          "text": [
            "48\n",
            " i could eat APPLES ALL day, thats all i can saY\n",
            "00 i could eat APPLES ALL day, thats all i can saY\n"
          ]
        }
      ]
    }
  ]
}