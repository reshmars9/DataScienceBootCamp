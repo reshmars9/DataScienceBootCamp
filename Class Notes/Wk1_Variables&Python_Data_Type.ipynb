{
  "nbformat": 4,
  "nbformat_minor": 0,
  "metadata": {
    "colab": {
      "provenance": []
    },
    "kernelspec": {
      "name": "python3",
      "display_name": "Python 3"
    },
    "language_info": {
      "name": "python"
    }
  },
  "cells": [
    {
      "cell_type": "markdown",
      "source": [
        "#**August 08, 2023**"
      ],
      "metadata": {
        "id": "R5AT0Ii96dkH"
      }
    },
    {
      "cell_type": "markdown",
      "source": [
        "#**Variables**\n",
        "\n",
        "1. Valid variable:\n",
        "  - anything starting with a-z, A-Z and underscore (_)\n",
        "  - anything in between alphabets are valid\n",
        "  \n",
        "2. Invalid Variable\n",
        "  - anything starting with numbers, special characters"
      ],
      "metadata": {
        "id": "RPZtQcw51H8p"
      }
    },
    {
      "cell_type": "code",
      "source": [
        "#valid varibales and invalid variables\n",
        "name='Reshma' #valid\n",
        "#12gender='F' #invalid\n",
        "#@address='4144 76th St' #invalid\n",
        "_fname='Reshma' #valid\n",
        "gend12der='F' #valid\n",
        "print(name, _fname, gen12der)\n",
        "last@name='Sarker' #invalid"
      ],
      "metadata": {
        "colab": {
          "base_uri": "https://localhost:8080/",
          "height": 141
        },
        "id": "L7DEi0dh0-pb",
        "outputId": "5d38bc19-d9f3-49fd-d585-9fcf054c0d14"
      },
      "execution_count": null,
      "outputs": [
        {
          "output_type": "error",
          "ename": "SyntaxError",
          "evalue": "ignored",
          "traceback": [
            "\u001b[0;36m  File \u001b[0;32m\"<ipython-input-3-710d9974caf2>\"\u001b[0;36m, line \u001b[0;32m8\u001b[0m\n\u001b[0;31m    last@name='Sarker' #invalid\u001b[0m\n\u001b[0m    ^\u001b[0m\n\u001b[0;31mSyntaxError\u001b[0m\u001b[0;31m:\u001b[0m cannot assign to expression here. Maybe you meant '==' instead of '='?\n"
          ]
        }
      ]
    },
    {
      "cell_type": "markdown",
      "source": [
        "#**August 09, 2023**"
      ],
      "metadata": {
        "id": "9kdQNIj06owk"
      }
    },
    {
      "cell_type": "markdown",
      "source": [
        "#**Python Data Type**\n",
        "\n",
        "      1. Standard Data Type\n",
        "        1. Numbers\n",
        "          1. Integer\n",
        "          2. Float\n",
        "          3. Complex\n",
        "        2. Boolean\n",
        "        3. String\n",
        "      2. Data Structure Data Type\n",
        "        1. List\n",
        "        2. Tuple\n",
        "        3. Set\n",
        "        4. Dictionary"
      ],
      "metadata": {
        "id": "wl5CafBW3NCw"
      }
    },
    {
      "cell_type": "code",
      "source": [
        "# Integer : Any whole number (+ve or -ve) is called as integer\n",
        "int1=1947\n",
        "print (int1)\n",
        "print (type(int1))\n",
        "\n",
        "int1 = -1947\n",
        "print(int1)\n",
        "print(type(int1))"
      ],
      "metadata": {
        "colab": {
          "base_uri": "https://localhost:8080/"
        },
        "id": "CF9ZWiAXSoGO",
        "outputId": "6ad633de-4ce6-49c9-b9e2-3b0be5f96889"
      },
      "execution_count": null,
      "outputs": [
        {
          "output_type": "stream",
          "name": "stdout",
          "text": [
            "1947\n",
            "<class 'int'>\n",
            "-1947\n",
            "<class 'int'>\n"
          ]
        }
      ]
    },
    {
      "cell_type": "code",
      "source": [
        "# Float : Any combination of whole number and fractional number (+ve or -ve) is called as float.\n",
        "\n",
        "flt1 = 3.1415\n",
        "print(flt1)\n",
        "print(type(flt1))\n",
        "\n",
        "flt1 = -3.1415\n",
        "print(flt1)\n",
        "print(type(flt1))"
      ],
      "metadata": {
        "colab": {
          "base_uri": "https://localhost:8080/"
        },
        "id": "5FfPamPAV01S",
        "outputId": "218bd1ef-ee39-41d7-83f0-1a5044070311"
      },
      "execution_count": null,
      "outputs": [
        {
          "output_type": "stream",
          "name": "stdout",
          "text": [
            "3.1415\n",
            "<class 'float'>\n",
            "-3.1415\n",
            "<class 'float'>\n"
          ]
        }
      ]
    },
    {
      "cell_type": "code",
      "execution_count": null,
      "metadata": {
        "id": "8wkDUxu_dDPW",
        "colab": {
          "base_uri": "https://localhost:8080/"
        },
        "outputId": "a9890b9a-4045-400c-f19c-1ffb13275f56"
      },
      "outputs": [
        {
          "output_type": "stream",
          "name": "stdout",
          "text": [
            "(2+3j)\n",
            "<class 'complex'>\n",
            "(-2-3j)\n",
            "<class 'complex'>\n"
          ]
        }
      ],
      "source": [
        "# Complex : Combination of integer or float and imagenary number (+ve or -ve) integer or float is called as compex\n",
        "\n",
        "cmplx1 = 2 + 3j\n",
        "print(cmplx1)\n",
        "print(type(cmplx1))\n",
        "\n",
        "cmplx1 = -2 - 3j\n",
        "print(cmplx1)\n",
        "print(type(cmplx1))\n"
      ]
    },
    {
      "cell_type": "code",
      "source": [
        "# Boolean : True and False\n",
        "\n",
        "bool1 = True\n",
        "print(bool1)\n",
        "print(type(bool1))\n",
        "\n",
        "bool1 = False\n",
        "print(bool1)\n",
        "print(type(bool1))"
      ],
      "metadata": {
        "colab": {
          "base_uri": "https://localhost:8080/"
        },
        "id": "-V7kGMdp4baC",
        "outputId": "e6b4c0d1-6540-4a26-c425-60da25eba400"
      },
      "execution_count": null,
      "outputs": [
        {
          "output_type": "stream",
          "name": "stdout",
          "text": [
            "True\n",
            "<class 'bool'>\n",
            "False\n",
            "<class 'bool'>\n"
          ]
        }
      ]
    },
    {
      "cell_type": "code",
      "source": [
        "# String\n",
        "# any combination inside single quotes\n",
        "# any combination inside double quotes\n",
        "# any combination inside triple single quotes\n",
        "# any combination inside triple doublr quotes\n",
        "\n",
        "\n",
        "str1 = 'Python Programming'\n",
        "print(str1)\n",
        "print(type(str1))\n",
        "\n",
        "str1 = \"Python Programming\"\n",
        "print(str1)\n",
        "print(type(str1))\n",
        "\n",
        "str1 = '''Python Programming'''\n",
        "print(str1)\n",
        "print(type(str1))\n",
        "\n",
        "str1 = \"\"\"Python Programming\"\"\"\n",
        "print(str1)\n",
        "print(type(str1))"
      ],
      "metadata": {
        "colab": {
          "base_uri": "https://localhost:8080/"
        },
        "id": "RNQLwO1m4idX",
        "outputId": "0a13fa64-4271-400f-cfce-6925fb5fead4"
      },
      "execution_count": null,
      "outputs": [
        {
          "output_type": "stream",
          "name": "stdout",
          "text": [
            "Python Programming\n",
            "<class 'str'>\n",
            "Python Programming\n",
            "<class 'str'>\n",
            "Python Programming\n",
            "<class 'str'>\n",
            "Python Programming\n",
            "<class 'str'>\n"
          ]
        }
      ]
    },
    {
      "cell_type": "code",
      "source": [
        "str1 = '!@#$%^&*()'\n",
        "print(str1)\n",
        "print(type(str1))\n",
        "\n",
        "str1 = \"QW#%$&*(*))_+YIINK:\"\n",
        "print(str1)\n",
        "print(type(str1))\n",
        "\n",
        "str1 = '''Lion Tiger'''\n",
        "print(str1)\n",
        "print(type(str1))\n",
        "\n",
        "str1 = \"\"\"Python Programming\"\"\"\n",
        "print(str1)\n",
        "print(type(str1))"
      ],
      "metadata": {
        "colab": {
          "base_uri": "https://localhost:8080/"
        },
        "id": "AjaAmb2W4wna",
        "outputId": "243b5b98-0e22-4ac4-d423-e4a96d43849c"
      },
      "execution_count": null,
      "outputs": [
        {
          "output_type": "stream",
          "name": "stdout",
          "text": [
            "!@#$%^&*()\n",
            "<class 'str'>\n",
            "QW#%$&*(*))_+YIINK:\n",
            "<class 'str'>\n",
            "Lion Tiger\n",
            "<class 'str'>\n",
            "Python Programming\n",
            "<class 'str'>\n"
          ]
        }
      ]
    },
    {
      "cell_type": "code",
      "source": [
        "str1='''I am a 'student.' I am from \"New York.\"'''\n",
        "print (str1)\n",
        "\n",
        "str1 = \"\"\"My name is \"Reshma Sarker\". I live in 'New York'.\"\"\"\n",
        "print(str1)\n",
        "print(type(str1))\n",
        "\n"
      ],
      "metadata": {
        "colab": {
          "base_uri": "https://localhost:8080/"
        },
        "id": "6rpan2W84FY_",
        "outputId": "255bb2fc-4537-46ec-fdd7-abba95b07f38"
      },
      "execution_count": null,
      "outputs": [
        {
          "output_type": "stream",
          "name": "stdout",
          "text": [
            "I am a 'student.' I am from \"New York.\"\n",
            "My name is \"Reshma Sarker\". I live in 'New York'.\n",
            "<class 'str'>\n"
          ]
        }
      ]
    },
    {
      "cell_type": "code",
      "source": [
        "# List\n",
        "# 1. List is represented by square bracket []\n",
        "# 2. List is mutable\n",
        "\n",
        "\n",
        "\n",
        "lst1 = [12,23,34,45,56,67,78,89,90]\n",
        "print(lst1)\n",
        "print(type(lst1))"
      ],
      "metadata": {
        "colab": {
          "base_uri": "https://localhost:8080/"
        },
        "id": "JzcY80io5ymw",
        "outputId": "c1326549-ce53-465b-c01c-645967629619"
      },
      "execution_count": null,
      "outputs": [
        {
          "output_type": "stream",
          "name": "stdout",
          "text": [
            "[12, 23, 34, 45, 56, 67, 78, 89, 90]\n",
            "<class 'list'>\n"
          ]
        }
      ]
    },
    {
      "cell_type": "code",
      "source": [
        "# Tuple\n",
        "# 1. Tuple is represented by circular bracket ()\n",
        "# 2. Tuple is immutable\n",
        "\n",
        "\n",
        "\n",
        "tup1 = (1,2,3,4,5,6,7,8,9)\n",
        "print(tup1)\n",
        "print(type(tup1))"
      ],
      "metadata": {
        "colab": {
          "base_uri": "https://localhost:8080/"
        },
        "id": "nmUBzlbb51P-",
        "outputId": "d5d1ad5d-2758-42ff-d149-01eb900c45d6"
      },
      "execution_count": null,
      "outputs": [
        {
          "output_type": "stream",
          "name": "stdout",
          "text": [
            "(1, 2, 3, 4, 5, 6, 7, 8, 9)\n",
            "<class 'tuple'>\n"
          ]
        }
      ]
    },
    {
      "cell_type": "code",
      "source": [
        "# Set\n",
        "# 1. Set is combination of unique values\n",
        "# 2. Set is collection of unordered element\n",
        "# 3. Set is represented by curly brackets\n",
        "# 4. Set is mutable\n",
        "\n",
        "set1 = {'a','b','c','D','E','F',1,2,3,'!','@','#','a','b','c','D','E','F',1,2,3,'!','@','#',}\n",
        "print(set1)\n",
        "print(type(set1))"
      ],
      "metadata": {
        "colab": {
          "base_uri": "https://localhost:8080/"
        },
        "id": "ZQuR_Tk156hb",
        "outputId": "d3f250f6-28f0-4832-f99f-389948c6343f"
      },
      "execution_count": null,
      "outputs": [
        {
          "output_type": "stream",
          "name": "stdout",
          "text": [
            "{1, 2, 3, 'F', 'D', '#', '@', 'a', 'b', '!', 'E', 'c'}\n",
            "<class 'set'>\n"
          ]
        }
      ]
    },
    {
      "cell_type": "code",
      "source": [
        "set1 = {True, False, 'a','b','c','D','E','F',0,1,2,3,'!','@','#', 'True','False'}\n",
        "print(set1)\n",
        "print(type(set1))"
      ],
      "metadata": {
        "colab": {
          "base_uri": "https://localhost:8080/"
        },
        "id": "qSM0eJT_6AOl",
        "outputId": "c99395a0-7b71-4b76-ca5e-d71c4516dac7"
      },
      "execution_count": null,
      "outputs": [
        {
          "output_type": "stream",
          "name": "stdout",
          "text": [
            "{False, True, 2, 3, 'False', 'F', 'D', '#', '@', 'True', 'a', 'b', '!', 'E', 'c'}\n",
            "<class 'set'>\n"
          ]
        }
      ]
    },
    {
      "cell_type": "code",
      "source": [
        "dict1= {'a':'apple',\n",
        "       'b':'banana',\n",
        "       'c':'cherries'}\n",
        "print (dict1)\n",
        "print (type(dict1))"
      ],
      "metadata": {
        "colab": {
          "base_uri": "https://localhost:8080/"
        },
        "id": "ib1gU_nDAIzI",
        "outputId": "7763b701-933e-4fad-b938-cccc6c6b22ae"
      },
      "execution_count": null,
      "outputs": [
        {
          "output_type": "stream",
          "name": "stdout",
          "text": [
            "{'a': 'apple', 'b': 'banana', 'c': 'cherries'}\n",
            "<class 'dict'>\n"
          ]
        }
      ]
    },
    {
      "cell_type": "code",
      "source": [
        "list1=[1,-3.14,'a+2b','NY','(2a)','$']\n",
        "print (list1)\n",
        "\n",
        "tup1=(1,-3.14,'a+2b','NY','(2a)','$',)\n",
        "print (tup1)\n",
        "\n",
        "set1={1,-3.14,'a+2b','NY','(2a)','$',True,False,0,1,3,}\n",
        "print (set1)\n",
        "\n",
        "set1={True, False,'a','b','c','D','E','F',1,2,3,'!','@','#','True','False'}\n",
        "print (set1)\n"
      ],
      "metadata": {
        "colab": {
          "base_uri": "https://localhost:8080/"
        },
        "id": "bLnCPGdO5mia",
        "outputId": "17d9bc8b-040e-4f61-e547-c4fb4cbc2e40"
      },
      "execution_count": null,
      "outputs": [
        {
          "output_type": "stream",
          "name": "stdout",
          "text": [
            "[1, -3.14, 'a+2b', 'NY', '(2a)', '$']\n",
            "(1, -3.14, 'a+2b', 'NY', '(2a)', '$')\n",
            "{False, 1, 3, 'a+2b', '(2a)', 'NY', '$', -3.14}\n",
            "{False, True, 2, 3, 'False', 'F', 'D', '#', '@', 'True', 'a', 'b', '!', 'E', 'c'}\n"
          ]
        }
      ]
    },
    {
      "cell_type": "code",
      "source": [
        "str1 = 'Reshma Sarker'\n",
        "print (str1)\n",
        "print (type(str1))\n",
        "print (len (str1))"
      ],
      "metadata": {
        "colab": {
          "base_uri": "https://localhost:8080/"
        },
        "id": "rSzsCX7VBb8q",
        "outputId": "5ab7e8e1-965e-4c42-ba53-1be7d5642cd9"
      },
      "execution_count": null,
      "outputs": [
        {
          "output_type": "stream",
          "name": "stdout",
          "text": [
            "Reshma Sarker\n",
            "<class 'str'>\n",
            "13\n"
          ]
        }
      ]
    },
    {
      "cell_type": "code",
      "source": [
        "print (str1[0])\n",
        "print (str1[1])\n",
        "print (str1[2])\n",
        "print (str1[3])\n",
        "print (str1[4])\n",
        "print (str1[5])\n",
        "print (str1[6])\n",
        "print (str1[7])\n",
        "print (str1[8])\n",
        "print (str1[9])\n",
        "print (str1[10])\n",
        "print (str1[11])\n",
        "print (str1[12])\n"
      ],
      "metadata": {
        "colab": {
          "base_uri": "https://localhost:8080/"
        },
        "id": "SCqYBOE4BcJq",
        "outputId": "617f032f-155b-43d2-bb4d-6c056c9459d2"
      },
      "execution_count": null,
      "outputs": [
        {
          "output_type": "stream",
          "name": "stdout",
          "text": [
            "R\n",
            "e\n",
            "s\n",
            "h\n",
            "m\n",
            "a\n",
            " \n",
            "S\n",
            "a\n",
            "r\n",
            "k\n",
            "e\n",
            "r\n"
          ]
        }
      ]
    },
    {
      "cell_type": "code",
      "source": [
        "#positive indexing & positive slicing\n",
        "str1 = 'Reshma Sarker'\n",
        "str1[0:6:1],str1[7:13:1]\n"
      ],
      "metadata": {
        "colab": {
          "base_uri": "https://localhost:8080/"
        },
        "id": "IG2F1l0MEBz6",
        "outputId": "c958221b-058e-461a-8dce-6e1cc7053bf6"
      },
      "execution_count": null,
      "outputs": [
        {
          "output_type": "execute_result",
          "data": {
            "text/plain": [
              "('Reshma', 'Sarker')"
            ]
          },
          "metadata": {},
          "execution_count": 67
        }
      ]
    },
    {
      "cell_type": "code",
      "source": [
        "str1='SrinivasaRamanujanAiyangar'"
      ],
      "metadata": {
        "id": "FQOY9i9dIPaQ"
      },
      "execution_count": null,
      "outputs": []
    },
    {
      "cell_type": "code",
      "source": [
        "str1[::]"
      ],
      "metadata": {
        "colab": {
          "base_uri": "https://localhost:8080/",
          "height": 35
        },
        "id": "gx32CoCiIWLX",
        "outputId": "a76e459d-f61a-4dbe-efd3-12680575a0b5"
      },
      "execution_count": null,
      "outputs": [
        {
          "output_type": "execute_result",
          "data": {
            "text/plain": [
              "'SrinivasaRamanujanAiyangar'"
            ],
            "application/vnd.google.colaboratory.intrinsic+json": {
              "type": "string"
            }
          },
          "metadata": {},
          "execution_count": 71
        }
      ]
    },
    {
      "cell_type": "code",
      "source": [
        "str1[0::]"
      ],
      "metadata": {
        "colab": {
          "base_uri": "https://localhost:8080/",
          "height": 35
        },
        "id": "F8bSkMuDIdSX",
        "outputId": "bbe7713b-50a0-46dd-e825-2775e0d9a95a"
      },
      "execution_count": null,
      "outputs": [
        {
          "output_type": "execute_result",
          "data": {
            "text/plain": [
              "'SrinivasaRamanujanAiyangar'"
            ],
            "application/vnd.google.colaboratory.intrinsic+json": {
              "type": "string"
            }
          },
          "metadata": {},
          "execution_count": 72
        }
      ]
    },
    {
      "cell_type": "code",
      "source": [
        "str1[:len(str1):]"
      ],
      "metadata": {
        "colab": {
          "base_uri": "https://localhost:8080/",
          "height": 35
        },
        "id": "rezfUl4VIhIw",
        "outputId": "1330c244-1d5a-4402-9ac7-5ac1fc474b3e"
      },
      "execution_count": null,
      "outputs": [
        {
          "output_type": "execute_result",
          "data": {
            "text/plain": [
              "'SrinivasaRamanujanAiyangar'"
            ],
            "application/vnd.google.colaboratory.intrinsic+json": {
              "type": "string"
            }
          },
          "metadata": {},
          "execution_count": 74
        }
      ]
    },
    {
      "cell_type": "code",
      "source": [
        "str1[::1]"
      ],
      "metadata": {
        "colab": {
          "base_uri": "https://localhost:8080/",
          "height": 35
        },
        "id": "nI_IzU-7In2P",
        "outputId": "c31a3000-39e5-4930-ad56-97938df11119"
      },
      "execution_count": null,
      "outputs": [
        {
          "output_type": "execute_result",
          "data": {
            "text/plain": [
              "'SrinivasaRamanujanAiyangar'"
            ],
            "application/vnd.google.colaboratory.intrinsic+json": {
              "type": "string"
            }
          },
          "metadata": {},
          "execution_count": 75
        }
      ]
    },
    {
      "cell_type": "code",
      "source": [
        "str1[:9:]"
      ],
      "metadata": {
        "colab": {
          "base_uri": "https://localhost:8080/",
          "height": 35
        },
        "id": "yw3NhZbIIs1v",
        "outputId": "17ff40fd-1c64-40ea-c532-a82e73522861"
      },
      "execution_count": null,
      "outputs": [
        {
          "output_type": "execute_result",
          "data": {
            "text/plain": [
              "'Srinivasa'"
            ],
            "application/vnd.google.colaboratory.intrinsic+json": {
              "type": "string"
            }
          },
          "metadata": {},
          "execution_count": 77
        }
      ]
    },
    {
      "cell_type": "code",
      "source": [
        "str1[9:18:]"
      ],
      "metadata": {
        "colab": {
          "base_uri": "https://localhost:8080/",
          "height": 35
        },
        "id": "G6oVDWmOI0JN",
        "outputId": "1cfd3278-e76a-447e-ccdc-4bb18abc80bd"
      },
      "execution_count": null,
      "outputs": [
        {
          "output_type": "execute_result",
          "data": {
            "text/plain": [
              "'Ramanujan'"
            ],
            "application/vnd.google.colaboratory.intrinsic+json": {
              "type": "string"
            }
          },
          "metadata": {},
          "execution_count": 80
        }
      ]
    },
    {
      "cell_type": "code",
      "source": [
        "str1[18::]"
      ],
      "metadata": {
        "colab": {
          "base_uri": "https://localhost:8080/",
          "height": 35
        },
        "id": "MV-Y2KxGI0YY",
        "outputId": "672beff1-9d60-4a5d-be6a-1ef551bc5859"
      },
      "execution_count": null,
      "outputs": [
        {
          "output_type": "execute_result",
          "data": {
            "text/plain": [
              "'Aiyangar'"
            ],
            "application/vnd.google.colaboratory.intrinsic+json": {
              "type": "string"
            }
          },
          "metadata": {},
          "execution_count": 81
        }
      ]
    },
    {
      "cell_type": "code",
      "source": [
        "str='Best Quality'\n",
        "str[:4:2], str[5:9:1]"
      ],
      "metadata": {
        "colab": {
          "base_uri": "https://localhost:8080/"
        },
        "id": "TtkEbi_DI0cj",
        "outputId": "8737e79b-1700-4b3e-f910-6d84a4daed13"
      },
      "execution_count": null,
      "outputs": [
        {
          "output_type": "execute_result",
          "data": {
            "text/plain": [
              "('Bs', 'Qual')"
            ]
          },
          "metadata": {},
          "execution_count": 89
        }
      ]
    },
    {
      "cell_type": "code",
      "source": [
        "str='Best Quality'\n",
        "print (str[:4:2])\n",
        "print (str[5:9:1])"
      ],
      "metadata": {
        "colab": {
          "base_uri": "https://localhost:8080/"
        },
        "id": "hShxUprLLKAw",
        "outputId": "67fa9d1b-f35b-4920-faa4-b8ffd5bebce8"
      },
      "execution_count": null,
      "outputs": [
        {
          "output_type": "stream",
          "name": "stdout",
          "text": [
            "Bs\n",
            "Qual\n"
          ]
        }
      ]
    },
    {
      "cell_type": "code",
      "source": [
        "dict1={'fruits':'apple, orange','animals':'dog,cat'}\n",
        "print (dict1)\n",
        "print (type (dict1))"
      ],
      "metadata": {
        "colab": {
          "base_uri": "https://localhost:8080/"
        },
        "id": "FC0xnkt-ARRY",
        "outputId": "8d59652d-6207-413b-e626-4bcb63dd3a7a"
      },
      "execution_count": null,
      "outputs": [
        {
          "output_type": "stream",
          "name": "stdout",
          "text": [
            "{'fruits': 'apple, orange', 'animals': 'dog,cat'}\n",
            "<class 'dict'>\n"
          ]
        }
      ]
    }
  ]
}