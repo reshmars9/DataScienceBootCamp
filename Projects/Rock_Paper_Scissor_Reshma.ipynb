{
  "nbformat": 4,
  "nbformat_minor": 0,
  "metadata": {
    "colab": {
      "provenance": []
    },
    "kernelspec": {
      "name": "python3",
      "display_name": "Python 3"
    },
    "language_info": {
      "name": "python"
    }
  },
  "cells": [
    {
      "cell_type": "code",
      "execution_count": null,
      "metadata": {
        "id": "wwZuDcSxY7oo"
      },
      "outputs": [],
      "source": [
        "# Rules\n",
        "#The game should only stop when the user wins! If its a tie or user loses game should continue\n",
        "#Rock smashes scissors.\n",
        "#Paper covers rock.\n",
        "#Scissors cut paper."
      ]
    },
    {
      "cell_type": "code",
      "source": [
        "# 3 choices in total\n",
        "# 1) Rock\n",
        "# 2) Paper\n",
        "# 3) Scissor\n",
        "\n",
        "#Rock smashes scissors.\n",
        "# Paper covers rock.\n",
        "#Scissors cut paper.\n",
        "# Same choice is a Tie"
      ],
      "metadata": {
        "id": "k_DNCHxfZD_J"
      },
      "execution_count": null,
      "outputs": []
    },
    {
      "cell_type": "code",
      "source": [
        "while True:\n",
        "\n",
        "  user_input = input(\"Please make a choice from rock, paper, scissors: \").lower()\n",
        "\n",
        "  import random\n",
        "  possible_actions = [\"rock\", \"paper\", \"scissors\"]\n",
        "  computer_action = random.choice(possible_actions)\n",
        "  computer_action\n",
        "\n",
        "\n",
        "  if user_input==computer_action:\n",
        "   print(\"Both players selected \", user_input, \".\", \"It's a tie.\")\n",
        "  elif user_input == \"rock\":\n",
        "    if computer_action == \"paper\":\n",
        "      print(\"You lose. Paper covers rock.\")\n",
        "    else:\n",
        "      print(\"You win. Rock smashes scissors.\")\n",
        "      break\n",
        "  elif user_input == \"scissors\":\n",
        "    if computer_action == \"paper\":\n",
        "      print(\"You win. Scissors cut paper.\")\n",
        "      break\n",
        "    else:\n",
        "      print(\"You lose. Rock smashes scissors.\")\n",
        "  elif user_input == \"paper\":\n",
        "    if computer_action == \"scissors\":\n",
        "      print(\"You lose. Scissors cut paper.\")\n",
        "    else:\n",
        "      print(\"You win. Paper covers rock.\")\n",
        "      break\n",
        ""
      ],
      "metadata": {
        "colab": {
          "base_uri": "https://localhost:8080/"
        },
        "id": "ZxWktq_uZF8t",
        "outputId": "82416614-3543-4a8f-cb5f-c838b15298cb"
      },
      "execution_count": 33,
      "outputs": [
        {
          "output_type": "stream",
          "name": "stdout",
          "text": [
            "Please make a choice from rock, paper, scissors: paper\n",
            "You lose. Scissors cut paper.\n",
            "Please make a choice from rock, paper, scissors: paper\n",
            "You win. Paper covers rock.\n"
          ]
        }
      ]
    }
  ]
}