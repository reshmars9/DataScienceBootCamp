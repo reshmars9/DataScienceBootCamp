{
  "nbformat": 4,
  "nbformat_minor": 0,
  "metadata": {
    "colab": {
      "provenance": []
    },
    "kernelspec": {
      "name": "python3",
      "display_name": "Python 3"
    },
    "language_info": {
      "name": "python"
    }
  },
  "cells": [
    {
      "cell_type": "code",
      "execution_count": null,
      "metadata": {
        "id": "Dd1qB2f_VmMm"
      },
      "outputs": [],
      "source": [
        "# Creating a tic-tac-toe game between computer and human\n",
        "# 1st user will enter his name\n",
        "# user wil choice X or O\n",
        "# randomly first turn will be decided\n",
        "# After each turn show Board with replaced Indexes by X or O\n",
        "# If no one wins and board is full say its a draw\n",
        "# Win conditions are horizontal match or vertical match or diagonal match\n",
        "# ask user if we wants to play again at end of game"
      ]
    },
    {
      "cell_type": "code",
      "source": [
        "\"\"\"\n",
        "\n",
        "player 1 player 2\n",
        "X O\n",
        "X | X | X\n",
        "-----------\n",
        " X | X | 6\n",
        "-----------\n",
        " X | 2 | X\n",
        " \"\"\"\n",
        "\n",
        "import random\n",
        "random.choices([0,1])"
      ],
      "metadata": {
        "colab": {
          "base_uri": "https://localhost:8080/"
        },
        "id": "qPbuceTSVsq8",
        "outputId": "be40d4f7-b2e6-4c7a-a138-6768209024db"
      },
      "execution_count": null,
      "outputs": [
        {
          "output_type": "execute_result",
          "data": {
            "text/plain": [
              "[1]"
            ]
          },
          "metadata": {},
          "execution_count": 1
        }
      ]
    },
    {
      "cell_type": "code",
      "source": [
        "import random\n",
        "random.choices([0,1])\n",
        "\n",
        "user = input(\"Enter your name: \")\n",
        "choice = input(\"Select 'X' or 'O': \")\n",
        "\n",
        "def print_board(board):\n",
        "    print(\"  |  |  \".format(board[0],board[1],board[2]))\n",
        "    print(\"---------\")\n",
        "    print(\"  |  |  \".format(board[3],board[4],board[5]))\n",
        "    print(\"---------\")\n",
        "    print(\"  |  |  \".format(board[6],board[7],board[8]))\n",
        "\n",
        "def move():\n",
        "  if choice ==\"X\":\n",
        "    number = 1\n",
        "  elif choice==\"O\":\n",
        "    number = 2\n",
        "\n",
        "  print(\"You play first \".format(number))\n",
        "\n",
        "\n",
        "def space (board):\n",
        "#vertical winner\n",
        "    if board[0] == board[1] == board[2] != \"\":\n",
        "        return board[0]\n",
        "    if board[3] == board[4] == board[5] != \"\":\n",
        "        return board[3]\n",
        "    if board[6] == board[7] == board[8] != \"\":\n",
        "        return board[6]\n",
        "\n",
        "#horizontal winner\n",
        "    if board[0] == board[3] == board[6] != \"\":\n",
        "        return board[0]\n",
        "    if board[1] == board[4] == board[7] != \"\":\n",
        "        return board[1]\n",
        "    if board[2] == board[5] == board[8] != \"\":\n",
        "        return board[2]\n",
        "\n",
        "#diagonal winner\n",
        "    if board[0] == board[4] == board[8] != \"\":\n",
        "        return board[0]\n",
        "    if board[2] == board[4] == board[6] != \"\":\n",
        "        return board[2]\n",
        "\n",
        "def draw():\n",
        "  if \" \" not in board:\n",
        "    return True\n",
        "  else:\n",
        "    return False\n",
        "\n",
        "while True:\n",
        "  print_board()\n",
        "  move(\"X\")\n",
        "  print_board()\n",
        "  if space(\"X\"):\n",
        "    print(\"Player X is a winner!\")\n",
        "    break\n",
        "  elif draw():\n",
        "    print(\"It's a draw!\")\n",
        "    break\n",
        "  move(\"O\")\n",
        "  if space(\"O\"):\n",
        "    print_board()\n",
        "    print(\"Player O is a winner!\")\n",
        "    break\n",
        "  elif draw():\n",
        "    print(\"It's a draw!\")\n",
        "    break\n",
        "\n",
        "  play_again = input(\"Play again? (y/n): \")\n",
        "  if play_again.lower() != \"y\":\n",
        "    break\n"
      ],
      "metadata": {
        "id": "lcbZWQE7ZAZw"
      },
      "execution_count": null,
      "outputs": []
    }
  ]
}