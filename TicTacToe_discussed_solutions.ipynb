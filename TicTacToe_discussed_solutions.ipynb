{
  "nbformat": 4,
  "nbformat_minor": 0,
  "metadata": {
    "colab": {
      "provenance": [],
      "authorship_tag": "ABX9TyMeP1LdDdCVc6TTJ5baLxZK",
      "include_colab_link": true
    },
    "kernelspec": {
      "name": "python3",
      "display_name": "Python 3"
    },
    "language_info": {
      "name": "python"
    }
  },
  "cells": [
    {
      "cell_type": "markdown",
      "metadata": {
        "id": "view-in-github",
        "colab_type": "text"
      },
      "source": [
        "<a href=\"https://colab.research.google.com/github/reshmars9/DataScienceBootCamp/blob/main/TicTacToe_discussed_solutions.ipynb\" target=\"_parent\"><img src=\"https://colab.research.google.com/assets/colab-badge.svg\" alt=\"Open In Colab\"/></a>"
      ]
    },
    {
      "cell_type": "code",
      "execution_count": null,
      "metadata": {
        "id": "Dd1qB2f_VmMm"
      },
      "outputs": [],
      "source": [
        "# Creating a tic-tac-toe game between computer and human\n",
        "# 1st user will enter his name\n",
        "# user wil choice X or O\n",
        "# randomly first turn will be decided\n",
        "# After each turn show Board with replaced Indexes by X or O\n",
        "# If no one wins and board is full say its a draw\n",
        "# Win conditions are horizontal match or vertical match or diagonal match\n",
        "# ask user if we wants to play again at end of game"
      ]
    },
    {
      "cell_type": "code",
      "source": [
        "\"\"\"\n",
        "\n",
        "player 1 player 2\n",
        "X O\n",
        "X | X | X\n",
        "-----------\n",
        " X | X | 6\n",
        "-----------\n",
        " X | 2 | X\n",
        " \"\"\"\n",
        "\n",
        "import random\n",
        "random.choices([0,1])"
      ],
      "metadata": {
        "colab": {
          "base_uri": "https://localhost:8080/"
        },
        "id": "qPbuceTSVsq8",
        "outputId": "be40d4f7-b2e6-4c7a-a138-6768209024db"
      },
      "execution_count": null,
      "outputs": [
        {
          "output_type": "execute_result",
          "data": {
            "text/plain": [
              "[1]"
            ]
          },
          "metadata": {},
          "execution_count": 1
        }
      ]
    },
    {
      "cell_type": "code",
      "source": [
        "import random\n",
        "random.choices([0,1])\n",
        "\n",
        "user = input(\"Enter your name: \")\n",
        "choice = input(\"Select 'X' or 'O': \")\n",
        "\n",
        "def print_board(board):\n",
        "    print(\"  |  |  \".format(board[0],board[1],board[2]))\n",
        "    print(\"---------\")\n",
        "    print(\"  |  |  \".format(board[3],board[4],board[5]))\n",
        "    print(\"---------\")\n",
        "    print(\"  |  |  \".format(board[6],board[7],board[8]))\n",
        "\n",
        "def move():\n",
        "  if choice ==\"X\":\n",
        "    number = 1\n",
        "  elif choice==\"O\":\n",
        "    number = 2\n",
        "\n",
        "  print(\"You play first \".format(number))\n",
        "\n",
        "\n",
        "def space (board):\n",
        "#vertical winner\n",
        "    if board[0] == board[1] == board[2] != \"\":\n",
        "        return board[0]\n",
        "    if board[3] == board[4] == board[5] != \"\":\n",
        "        return board[3]\n",
        "    if board[6] == board[7] == board[8] != \"\":\n",
        "        return board[6]\n",
        "\n",
        "#horizontal winner\n",
        "    if board[0] == board[3] == board[6] != \"\":\n",
        "        return board[0]\n",
        "    if board[1] == board[4] == board[7] != \"\":\n",
        "        return board[1]\n",
        "    if board[2] == board[5] == board[8] != \"\":\n",
        "        return board[2]\n",
        "\n",
        "#diagonal winner\n",
        "    if board[0] == board[4] == board[8] != \"\":\n",
        "        return board[0]\n",
        "    if board[2] == board[4] == board[6] != \"\":\n",
        "        return board[2]\n",
        "\n",
        "def draw():\n",
        "  if \" \" not in board:\n",
        "    return True\n",
        "  else:\n",
        "    return False\n",
        "\n",
        "while True:\n",
        "  print_board()\n",
        "  move(\"X\")\n",
        "  print_board()\n",
        "  if space(\"X\"):\n",
        "    print(\"Player X is a winner!\")\n",
        "    break\n",
        "  elif draw():\n",
        "    print(\"It's a draw!\")\n",
        "    break\n",
        "  move(\"O\")\n",
        "  if space(\"O\"):\n",
        "    print_board()\n",
        "    print(\"Player O is a winner!\")\n",
        "    break\n",
        "  elif draw():\n",
        "    print(\"It's a draw!\")\n",
        "    break\n",
        "\n",
        "  play_again = input(\"Play again? (y/n): \")\n",
        "  if play_again.lower() != \"y\":\n",
        "    break\n"
      ],
      "metadata": {
        "id": "lcbZWQE7ZAZw"
      },
      "execution_count": null,
      "outputs": []
    },
    {
      "cell_type": "code",
      "source": [
        "def validate_marker_choice(marker_user_choice):\n",
        "  if not marker_user_choice==\"X\" or marker_user_choice==\"0\":\n",
        "    return True\n",
        "  else:\n",
        "    return False"
      ],
      "metadata": {
        "id": "uxMsVcpivKD2"
      },
      "execution_count": null,
      "outputs": []
    },
    {
      "cell_type": "code",
      "source": [
        "#1st user will enter his name\n",
        "import random\n",
        "user_name = input(\"Please enter your name\").title() #e.g.; reshma will change it to Reshma\n",
        "wanna_play=True\n",
        "while wanna_play:\n",
        "  #Every tiem a new game starts ask user about the marker\n",
        "  marker_user_choice=input(\"please choose between X or 0 (is a zero)\").upper() #change it to uppercase\n",
        "  if\n",
        "\n",
        "  random.choices([0,1])"
      ],
      "metadata": {
        "id": "-RGxMw0Ztv2H"
      },
      "execution_count": null,
      "outputs": []
    },
    {
      "cell_type": "markdown",
      "source": [
        "# **Tic Tac Toe Solution**"
      ],
      "metadata": {
        "id": "b4t-7lDXESMs"
      }
    },
    {
      "cell_type": "code",
      "source": [
        "\n",
        "def validate_marker_choice():\n",
        "  marker_user_choice=input(\"Please Choose betweeen X or O :- \").upper()\n",
        "  if marker_user_choice==\"X\" or marker_user_choice==\"O\":\n",
        "    return True,marker_user_choice\n",
        "  else:\n",
        "    return False,None\n",
        "\n",
        "def turn_decider():\n",
        "  turn_choice=random.choice([0,1])\n",
        "  if turn_choice:\n",
        "    print(user_name+\" Gets the first turn\")\n",
        "  else:\n",
        "    print(\" Computer Gets the first turn\")\n",
        "\n",
        "  return turn_choice\n",
        "\n",
        "def display_board(board_list):\n",
        "  print(\" {} | {} | {} \".format(board_list[0],board_list[1],board_list[2]))\n",
        "  print(\"-----------\")\n",
        "  print(\" {} | {} | {} \".format(board_list[3],board_list[4],board_list[5]))\n",
        "  print(\"-----------\")\n",
        "  print(\" {} | {} | {} \".format(board_list[6],board_list[7],board_list[8]))\n",
        "  print(\"==============================================================\")\n",
        "  print(\"==============================================================\")\n",
        "\n",
        "def user_turn(available,user_marker):\n",
        "  user_pick=int(input(\"Please enter a number from the available board :- \"))-1\n",
        "  all_numbers=get_available_numbers_for_computer(available)\n",
        "  if (user_pick>=0 or user_pick<9) and (user_pick in all_numbers):\n",
        "    available[user_pick]=user_marker\n",
        "  else:\n",
        "    print(\"Choose invalid or taken please look at available board :- \")\n",
        "    display_board(available)\n",
        "    user_turn(available,user_marker)\n",
        "\n",
        "#[1,2,3,4,5,6,'X','O']\n",
        "def get_available_numbers_for_computer(available):\n",
        "  indexssss=[]\n",
        "  for k in available:\n",
        "    if str(k).isnumeric():\n",
        "      indexssss.append(k-1)\n",
        "  return indexssss\n",
        "\n",
        "#[1,2,3,4,5,6,X,8,9]\n",
        "def computer_turn(available,computer_marker_val):\n",
        "  computer_pick=random.choice(get_available_numbers_for_computer(available))\n",
        "  available[computer_pick]=computer_marker_val\n",
        "\n",
        "def who_won(index,marker):\n",
        "  if index==user_marker:\n",
        "    print(\"User wins\")\n",
        "  else:\n",
        "    print(\"Computer wins\")\n",
        "\n",
        "def check_if_anyone_wins(available,user_marker):\n",
        "  game_over=False\n",
        "  slots=get_available_numbers_for_computer(available)\n",
        "  if available[0]== available[1]== available[2]:\n",
        "    who_won(available[0],user_marker)\n",
        "  elif available[3]== available[4]== available[5]:\n",
        "    who_won(available[3],user_marker)\n",
        "  elif available[6]== available[7]== available[8]:\n",
        "    who_won(available[6],user_marker)\n",
        "  elif available[0]== available[3]== available[6]:\n",
        "    who_won(available[0],user_marker)\n",
        "  elif available[1]== available[4]== available[7]:\n",
        "    who_won(available[1],user_marker)\n",
        "  elif available[2]== available[5]== available[8]:\n",
        "    who_won(available[2],user_marker)\n",
        "  elif available[0]== available[4]== available[8]:\n",
        "    who_won(available[0],user_marker)\n",
        "  elif available[2]== available[4]== available[6]:\n",
        "    who_won(available[2],user_marker)\n",
        "  else:\n",
        "      if len(slots)==0:\n",
        "        print(\"Its a Tie\")\n",
        "      else:\n",
        "        game_over=True\n",
        "  return game_over\n",
        "\n",
        "def computer_marker(user_marker):\n",
        "  computer_marker_val=\"\"\n",
        "  if user_marker==\"X\":\n",
        "    computer_marker_val=\"O\"\n",
        "  else:\n",
        "    computer_marker_val=\"X\"\n",
        "  return computer_marker_val\n"
      ],
      "metadata": {
        "id": "a17bdTAcEit3"
      },
      "execution_count": null,
      "outputs": []
    },
    {
      "cell_type": "code",
      "source": [
        "# 1st user will enter his name\n",
        "import random\n",
        "user_name=input(\"Please enter your name :- \").title()\n",
        "#reshma it will change it to Reshma\n",
        "while True:\n",
        "  while True:\n",
        "    marker_out=validate_marker_choice()\n",
        "    if marker_out[0]:\n",
        "      user_marker=marker_out[1]\n",
        "      break\n",
        "    else:\n",
        "      print(\"Invalid Option Choose again\")\n",
        "      continue\n",
        "  turn_choice=random.choice([0,1])\n",
        "  computer_marker_val=computer_marker(user_marker)\n",
        "  available = [num for num in range(1,10)]\n",
        "  print(\"Available Board is :- \")\n",
        "  display_board(available)\n",
        "  while check_if_anyone_wins(available,user_marker):\n",
        "    if turn_choice:\n",
        "      user_turn(available,user_marker)\n",
        "      display_board(available)\n",
        "      turn_choice=0\n",
        "      continue\n",
        "    else:\n",
        "      computer_turn(available,computer_marker_val)\n",
        "      display_board(available)\n",
        "      turn_choice=1\n",
        "      continue\n",
        "  play_again_choice=input(\"Want to play again please choose Y or N :- \")\n",
        "  if play_again_choice==\"Y\":\n",
        "    continue\n",
        "  else:\n",
        "    break"
      ],
      "metadata": {
        "id": "gJLjan2JEsAF",
        "colab": {
          "base_uri": "https://localhost:8080/"
        },
        "outputId": "c0c5b965-451f-4dc5-dac8-b01c347567a3"
      },
      "execution_count": null,
      "outputs": [
        {
          "name": "stdout",
          "output_type": "stream",
          "text": [
            "Please enter your name :- r\n",
            "Please Choose betweeen X or O :- 0\n",
            "Invalid Option Choose again\n",
            "Please Choose betweeen X or O :- o\n",
            "Available Board is :- \n",
            " 1 | 2 | 3 \n",
            "-----------\n",
            " 4 | 5 | 6 \n",
            "-----------\n",
            " 7 | 8 | 9 \n",
            "==============================================================\n",
            "==============================================================\n",
            " X | 2 | 3 \n",
            "-----------\n",
            " 4 | 5 | 6 \n",
            "-----------\n",
            " 7 | 8 | 9 \n",
            "==============================================================\n",
            "==============================================================\n",
            "Please enter a number from the available board :- 3\n",
            " X | 2 | O \n",
            "-----------\n",
            " 4 | 5 | 6 \n",
            "-----------\n",
            " 7 | 8 | 9 \n",
            "==============================================================\n",
            "==============================================================\n",
            " X | 2 | O \n",
            "-----------\n",
            " 4 | 5 | X \n",
            "-----------\n",
            " 7 | 8 | 9 \n",
            "==============================================================\n",
            "==============================================================\n",
            "Please enter a number from the available board :- 7\n",
            " X | 2 | O \n",
            "-----------\n",
            " 4 | 5 | X \n",
            "-----------\n",
            " O | 8 | 9 \n",
            "==============================================================\n",
            "==============================================================\n",
            " X | 2 | O \n",
            "-----------\n",
            " 4 | 5 | X \n",
            "-----------\n",
            " O | 8 | X \n",
            "==============================================================\n",
            "==============================================================\n",
            "Please enter a number from the available board :- 5\n",
            " X | 2 | O \n",
            "-----------\n",
            " 4 | O | X \n",
            "-----------\n",
            " O | 8 | X \n",
            "==============================================================\n",
            "==============================================================\n",
            "User wins\n",
            "Want to play again please choose Y or N :- n\n"
          ]
        }
      ]
    }
  ]
}